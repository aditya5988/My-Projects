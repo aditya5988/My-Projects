{
 "cells": [
  {
   "cell_type": "code",
   "execution_count": 1,
   "id": "a8185f33",
   "metadata": {},
   "outputs": [],
   "source": [
    "import pandas as pd"
   ]
  },
  {
   "cell_type": "code",
   "execution_count": 55,
   "id": "dc1056c3",
   "metadata": {},
   "outputs": [
    {
     "data": {
      "text/plain": [
       "1      66\n",
       "2      75\n",
       "3      88\n",
       "4      95\n",
       "5      77\n",
       "6      87\n",
       "7      59\n",
       "8      86\n",
       "9     100\n",
       "10     79\n",
       "dtype: int64"
      ]
     },
     "execution_count": 55,
     "metadata": {},
     "output_type": "execute_result"
    }
   ],
   "source": [
    "# Task 1\n",
    "maths_marks=[66,75,88,95,77,87,59,86,100,79]\n",
    "maths_=pd.Series(maths_marks, index=np.arange(1,11))\n",
    "maths_"
   ]
  },
  {
   "cell_type": "markdown",
   "id": "a2130d65",
   "metadata": {},
   "source": []
  },
  {
   "cell_type": "code",
   "execution_count": 56,
   "id": "e0ff4ca2",
   "metadata": {},
   "outputs": [
    {
     "data": {
      "text/plain": [
       "1     77\n",
       "2     50\n",
       "3     63\n",
       "4     66\n",
       "5     45\n",
       "6     83\n",
       "7     65\n",
       "8     35\n",
       "9     92\n",
       "10    65\n",
       "dtype: int64"
      ]
     },
     "execution_count": 56,
     "metadata": {},
     "output_type": "execute_result"
    }
   ],
   "source": [
    "# Task 2\n",
    "physics_marks=[77,50,63,66,45,83,65,35,92,65]\n",
    "physics_=pd.Series(physics_marks, index=np.arange(1,11))\n",
    "physics_"
   ]
  },
  {
   "cell_type": "code",
   "execution_count": 57,
   "id": "8f753274",
   "metadata": {},
   "outputs": [
    {
     "data": {
      "text/plain": [
       "1     143\n",
       "2     125\n",
       "3     151\n",
       "4     161\n",
       "5     122\n",
       "6     170\n",
       "7     124\n",
       "8     121\n",
       "9     192\n",
       "10    144\n",
       "dtype: int64"
      ]
     },
     "execution_count": 57,
     "metadata": {},
     "output_type": "execute_result"
    }
   ],
   "source": [
    "total_marks=(maths_+physics_)\n",
    "total_marks"
   ]
  },
  {
   "cell_type": "code",
   "execution_count": 62,
   "id": "c3a27482",
   "metadata": {},
   "outputs": [
    {
     "name": "stdout",
     "output_type": "stream",
     "text": [
      "Total students with marks above 140 :  6\n"
     ]
    }
   ],
   "source": [
    "x=total_marks[(total_marks>140)]\n",
    "y=x.size\n",
    "print(\"Total students with marks above 140 : \",y)\n"
   ]
  },
  {
   "cell_type": "code",
   "execution_count": 10,
   "id": "f399e6be",
   "metadata": {},
   "outputs": [
    {
     "data": {
      "text/plain": [
       "0     66\n",
       "1     75\n",
       "2     88\n",
       "3     95\n",
       "4     77\n",
       "5     87\n",
       "6     59\n",
       "7     86\n",
       "8    100\n",
       "9     79\n",
       "0     77\n",
       "1     50\n",
       "2     63\n",
       "3     66\n",
       "4     45\n",
       "5     83\n",
       "6     65\n",
       "7     35\n",
       "8     92\n",
       "9     65\n",
       "dtype: int64"
      ]
     },
     "execution_count": 10,
     "metadata": {},
     "output_type": "execute_result"
    }
   ],
   "source": [
    "# Task 3\n",
    "com_marks=pd.concat([maths_,physics_])\n",
    "com_marks"
   ]
  },
  {
   "cell_type": "code",
   "execution_count": 59,
   "id": "d0497e6e",
   "metadata": {},
   "outputs": [
    {
     "name": "stdout",
     "output_type": "stream",
     "text": [
      "1     False\n",
      "2      True\n",
      "3      True\n",
      "4      True\n",
      "5      True\n",
      "6      True\n",
      "7     False\n",
      "8      True\n",
      "9      True\n",
      "10     True\n",
      "dtype: bool\n"
     ]
    }
   ],
   "source": [
    "# Task 3\n",
    "print(maths_>physics_)"
   ]
  },
  {
   "cell_type": "code",
   "execution_count": 60,
   "id": "85a8efce",
   "metadata": {},
   "outputs": [
    {
     "name": "stdout",
     "output_type": "stream",
     "text": [
      "1      True\n",
      "2     False\n",
      "3     False\n",
      "4     False\n",
      "5     False\n",
      "6     False\n",
      "7      True\n",
      "8     False\n",
      "9     False\n",
      "10    False\n",
      "dtype: bool\n"
     ]
    }
   ],
   "source": [
    "print(maths_<physics_)"
   ]
  },
  {
   "cell_type": "code",
   "execution_count": 61,
   "id": "3284e811",
   "metadata": {},
   "outputs": [
    {
     "name": "stdout",
     "output_type": "stream",
     "text": [
      "1     False\n",
      "2     False\n",
      "3     False\n",
      "4     False\n",
      "5     False\n",
      "6     False\n",
      "7     False\n",
      "8     False\n",
      "9     False\n",
      "10    False\n",
      "dtype: bool\n"
     ]
    }
   ],
   "source": [
    "print(maths_==physics_)"
   ]
  },
  {
   "cell_type": "code",
   "execution_count": 12,
   "id": "a7948e7a",
   "metadata": {},
   "outputs": [],
   "source": [
    "\n",
    "import numpy as np"
   ]
  },
  {
   "cell_type": "code",
   "execution_count": 14,
   "id": "e073920e",
   "metadata": {},
   "outputs": [
    {
     "data": {
      "text/plain": [
       "array([30031, 36602, 47916, 37948, 49950, 37127, 35466, 48080, 43094,\n",
       "       43036, 42622, 44655, 39707, 32396, 36728, 42103, 46676, 35784,\n",
       "       41704, 43723])"
      ]
     },
     "execution_count": 14,
     "metadata": {},
     "output_type": "execute_result"
    }
   ],
   "source": [
    "# Task 4\n",
    "price=np.random.randint(30000,50000,20)\n",
    "price"
   ]
  },
  {
   "cell_type": "code",
   "execution_count": 17,
   "id": "5534a93e",
   "metadata": {},
   "outputs": [
    {
     "data": {
      "text/plain": [
       "101    30031\n",
       "102    36602\n",
       "103    47916\n",
       "104    37948\n",
       "105    49950\n",
       "106    37127\n",
       "107    35466\n",
       "108    48080\n",
       "109    43094\n",
       "110    43036\n",
       "111    42622\n",
       "112    44655\n",
       "113    39707\n",
       "114    32396\n",
       "115    36728\n",
       "116    42103\n",
       "117    46676\n",
       "118    35784\n",
       "119    41704\n",
       "120    43723\n",
       "dtype: int32"
      ]
     },
     "execution_count": 17,
     "metadata": {},
     "output_type": "execute_result"
    }
   ],
   "source": [
    "cars=pd.Series(price, index=np.arange(101,121))\n",
    "cars"
   ]
  },
  {
   "cell_type": "code",
   "execution_count": 19,
   "id": "89cf4d26",
   "metadata": {},
   "outputs": [
    {
     "name": "stdout",
     "output_type": "stream",
     "text": [
      "Number of cars with price above 40000 are : 11\n"
     ]
    }
   ],
   "source": [
    "# Task 5\n",
    "x=np.count_nonzero(price>40000)\n",
    "print(\"Number of cars with price above 40000 are :\", x)"
   ]
  },
  {
   "cell_type": "code",
   "execution_count": 29,
   "id": "31854f1a",
   "metadata": {},
   "outputs": [
    {
     "name": "stdout",
     "output_type": "stream",
     "text": [
      "Car with highest price between model numbers 111 to 116 is : 44655\n",
      "Details of cars between model numbers 111 to 116 are : 111    42622\n",
      "112    44655\n",
      "113    39707\n",
      "114    32396\n",
      "115    36728\n",
      "116    42103\n",
      "dtype: int32\n"
     ]
    }
   ],
   "source": [
    "# Task 6\n",
    "a=cars[10:16]\n",
    "b=a.max()\n",
    "print(\"Car with highest price between model numbers 111 to 116 is :\", b)\n",
    "print(\"Details of cars between model numbers 111 to 116 are :\", a)"
   ]
  },
  {
   "cell_type": "code",
   "execution_count": 38,
   "id": "1aba0fda",
   "metadata": {},
   "outputs": [
    {
     "name": "stdout",
     "output_type": "stream",
     "text": [
      "Total count of cars with price between 30000 and 40000 are : 9\n",
      "Details of cars  with price between 30000 and 40000 are : 101    30031\n",
      "102    36602\n",
      "104    37948\n",
      "106    37127\n",
      "107    35466\n",
      "113    39707\n",
      "114    32396\n",
      "115    36728\n",
      "118    35784\n",
      "dtype: int32\n"
     ]
    }
   ],
   "source": [
    "# Task 7\n",
    "m=cars[(cars>30000)&(cars<40000)]\n",
    "n=np.count_nonzero(m)\n",
    "print(\"Total count of cars with price between 30000 and 40000 are :\",n)\n",
    "print(\"Details of cars  with price between 30000 and 40000 are :\",m)\n",
    "\n"
   ]
  },
  {
   "cell_type": "code",
   "execution_count": 41,
   "id": "227f8aef",
   "metadata": {},
   "outputs": [
    {
     "name": "stdout",
     "output_type": "stream",
     "text": [
      "Average price of cars are :  40767.4\n",
      "Details of cars with price above than average price are : 103    47916\n",
      "105    49950\n",
      "108    48080\n",
      "109    43094\n",
      "110    43036\n",
      "111    42622\n",
      "112    44655\n",
      "116    42103\n",
      "117    46676\n",
      "119    41704\n",
      "120    43723\n",
      "dtype: int32\n",
      "Count of cars with price above than average are : 11\n"
     ]
    }
   ],
   "source": [
    "# Task 8\n",
    "print(\"Average price of cars are : \", cars.mean())\n",
    "p=cars.mean()\n",
    "q=cars[cars>p]\n",
    "r=np.count_nonzero(q)\n",
    "print(\"Details of cars with price above than average price are :\", q)\n",
    "print(\"Count of cars with price above than average are :\", r)\n"
   ]
  },
  {
   "cell_type": "code",
   "execution_count": 44,
   "id": "ce2a0f33",
   "metadata": {},
   "outputs": [
    {
     "data": {
      "text/plain": [
       "201    34000\n",
       "202    45000\n",
       "203    54000\n",
       "dtype: int64"
      ]
     },
     "execution_count": 44,
     "metadata": {},
     "output_type": "execute_result"
    }
   ],
   "source": [
    "# Task 9\n",
    "car_id=[201,202,203]\n",
    "price_=[34000,45000,54000]\n",
    "cars_new=pd.Series(price_, index=car_id)\n",
    "cars_new"
   ]
  },
  {
   "cell_type": "code",
   "execution_count": 46,
   "id": "36598f31",
   "metadata": {},
   "outputs": [
    {
     "data": {
      "text/plain": [
       "101    30031\n",
       "102    36602\n",
       "103    47916\n",
       "104    37948\n",
       "105    49950\n",
       "106    37127\n",
       "107    35466\n",
       "108    48080\n",
       "109    43094\n",
       "110    43036\n",
       "111    42622\n",
       "112    44655\n",
       "113    39707\n",
       "114    32396\n",
       "115    36728\n",
       "116    42103\n",
       "117    46676\n",
       "118    35784\n",
       "119    41704\n",
       "120    43723\n",
       "201    34000\n",
       "202    45000\n",
       "203    54000\n",
       "dtype: int64"
      ]
     },
     "execution_count": 46,
     "metadata": {},
     "output_type": "execute_result"
    }
   ],
   "source": [
    "new_cars=pd.concat([cars, cars_new])\n",
    "new_cars"
   ]
  },
  {
   "cell_type": "code",
   "execution_count": 63,
   "id": "be20a3f8",
   "metadata": {},
   "outputs": [
    {
     "name": "stdout",
     "output_type": "stream",
     "text": [
      "Before decrement : 101    30031\n",
      "102    36602\n",
      "103    47916\n",
      "104    37948\n",
      "105    49950\n",
      "106    37127\n",
      "107    35466\n",
      "108    48080\n",
      "109    43094\n",
      "110    43036\n",
      "111    42622\n",
      "112    44655\n",
      "113    39707\n",
      "114    32396\n",
      "115    36728\n",
      "116    42103\n",
      "117    46676\n",
      "118    35784\n",
      "119    41704\n",
      "120    43723\n",
      "201    34000\n",
      "202    45000\n",
      "203    54000\n",
      "dtype: int64\n",
      "After decrement : 101    30031.0\n",
      "102    36602.0\n",
      "103    43124.4\n",
      "104    37948.0\n",
      "105    44955.0\n",
      "106    37127.0\n",
      "107    35466.0\n",
      "108    43272.0\n",
      "109    38784.6\n",
      "110    38732.4\n",
      "111    38359.8\n",
      "112    40189.5\n",
      "113    39707.0\n",
      "114    32396.0\n",
      "115    36728.0\n",
      "116    37892.7\n",
      "117    42008.4\n",
      "118    35784.0\n",
      "119    37533.6\n",
      "120    39350.7\n",
      "201    34000.0\n",
      "202    40500.0\n",
      "203    48600.0\n",
      "dtype: float64\n"
     ]
    }
   ],
   "source": [
    "# task 10\n",
    "print(\"Before decrement :\",new_cars)\n",
    "d=new_cars\n",
    "d[(d>40000)]=d[d>40000]*0.9\n",
    "print(\"After decrement :\",d)\n"
   ]
  },
  {
   "cell_type": "code",
   "execution_count": 66,
   "id": "5af7a38b",
   "metadata": {},
   "outputs": [
    {
     "name": "stdout",
     "output_type": "stream",
     "text": [
      "Number cars between 30000 and 40000 before discount:  16\n",
      "Number cars between 30000 and 40000 after discount: 23\n"
     ]
    }
   ],
   "source": [
    "# Task 11\n",
    "g=new_cars[(new_cars>30000)&(new_cars<40000)]\n",
    "i=g.size\n",
    "print(\"Number cars between 30000 and 40000 before discount: \",i)\n",
    "h=d[(d>30000)&(d<40000)]\n",
    "j=d.size\n",
    "print(\"Number cars between 30000 and 40000 after discount:\",j)"
   ]
  },
  {
   "cell_type": "code",
   "execution_count": 67,
   "id": "ca13392e",
   "metadata": {},
   "outputs": [
    {
     "name": "stdout",
     "output_type": "stream",
     "text": [
      "Five cheapest cars are : 101    30031.0\n",
      "114    32396.0\n",
      "201    34000.0\n",
      "107    35466.0\n",
      "118    35784.0\n",
      "dtype: float64\n"
     ]
    }
   ],
   "source": [
    "# Task 12\n",
    "cheap=d.sort_values()\n",
    "print(\"Five cheapest cars are :\",cheap[0:5])"
   ]
  },
  {
   "cell_type": "code",
   "execution_count": null,
   "id": "99f239cf",
   "metadata": {},
   "outputs": [],
   "source": []
  },
  {
   "cell_type": "code",
   "execution_count": null,
   "id": "7ad610c6",
   "metadata": {},
   "outputs": [],
   "source": []
  }
 ],
 "metadata": {
  "kernelspec": {
   "display_name": "Python 3 (ipykernel)",
   "language": "python",
   "name": "python3"
  },
  "language_info": {
   "codemirror_mode": {
    "name": "ipython",
    "version": 3
   },
   "file_extension": ".py",
   "mimetype": "text/x-python",
   "name": "python",
   "nbconvert_exporter": "python",
   "pygments_lexer": "ipython3",
   "version": "3.9.7"
  }
 },
 "nbformat": 4,
 "nbformat_minor": 5
}
