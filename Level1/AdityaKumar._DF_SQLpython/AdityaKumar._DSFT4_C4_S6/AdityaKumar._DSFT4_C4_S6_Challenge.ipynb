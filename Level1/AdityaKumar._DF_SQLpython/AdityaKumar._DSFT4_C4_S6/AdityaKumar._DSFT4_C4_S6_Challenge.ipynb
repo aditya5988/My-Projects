{
 "cells": [
  {
   "cell_type": "code",
   "execution_count": 265,
   "id": "6d76e595",
   "metadata": {},
   "outputs": [
    {
     "data": {
      "text/html": [
       "<div>\n",
       "<style scoped>\n",
       "    .dataframe tbody tr th:only-of-type {\n",
       "        vertical-align: middle;\n",
       "    }\n",
       "\n",
       "    .dataframe tbody tr th {\n",
       "        vertical-align: top;\n",
       "    }\n",
       "\n",
       "    .dataframe thead th {\n",
       "        text-align: right;\n",
       "    }\n",
       "</style>\n",
       "<table border=\"1\" class=\"dataframe\">\n",
       "  <thead>\n",
       "    <tr style=\"text-align: right;\">\n",
       "      <th></th>\n",
       "      <th>isker</th>\n",
       "      <th>Make</th>\n",
       "      <th>Model</th>\n",
       "      <th>Variant</th>\n",
       "      <th>Displacement</th>\n",
       "      <th>Cylinders</th>\n",
       "      <th>Valves_Per_Cylinder</th>\n",
       "      <th>Drivetrain</th>\n",
       "      <th>Cylinder_Configuration</th>\n",
       "      <th>Engine_Location</th>\n",
       "      <th>...</th>\n",
       "      <th>Leather_Wrapped_Steering</th>\n",
       "      <th>Automatic_Headlamps</th>\n",
       "      <th>Engine_Type</th>\n",
       "      <th>ASR_/_Traction_Control</th>\n",
       "      <th>Cruise_Control</th>\n",
       "      <th>USB_Ports</th>\n",
       "      <th>Heads-Up_Display</th>\n",
       "      <th>Welcome_Lights</th>\n",
       "      <th>Battery</th>\n",
       "      <th>Electric_Range</th>\n",
       "    </tr>\n",
       "  </thead>\n",
       "  <tbody>\n",
       "    <tr>\n",
       "      <th>0</th>\n",
       "      <td>0</td>\n",
       "      <td>Tata</td>\n",
       "      <td>Nano Genx</td>\n",
       "      <td>Xt</td>\n",
       "      <td>624.0</td>\n",
       "      <td>2.0</td>\n",
       "      <td>2.0</td>\n",
       "      <td>RWD (Rear Wheel Drive)</td>\n",
       "      <td>In-line</td>\n",
       "      <td>Rear, Transverse</td>\n",
       "      <td>...</td>\n",
       "      <td>NaN</td>\n",
       "      <td>NaN</td>\n",
       "      <td>NaN</td>\n",
       "      <td>NaN</td>\n",
       "      <td>NaN</td>\n",
       "      <td>NaN</td>\n",
       "      <td>NaN</td>\n",
       "      <td>NaN</td>\n",
       "      <td>NaN</td>\n",
       "      <td>NaN</td>\n",
       "    </tr>\n",
       "    <tr>\n",
       "      <th>1</th>\n",
       "      <td>1</td>\n",
       "      <td>Tata</td>\n",
       "      <td>Nano Genx</td>\n",
       "      <td>Xe</td>\n",
       "      <td>624.0</td>\n",
       "      <td>2.0</td>\n",
       "      <td>2.0</td>\n",
       "      <td>RWD (Rear Wheel Drive)</td>\n",
       "      <td>In-line</td>\n",
       "      <td>Rear, Transverse</td>\n",
       "      <td>...</td>\n",
       "      <td>NaN</td>\n",
       "      <td>NaN</td>\n",
       "      <td>NaN</td>\n",
       "      <td>NaN</td>\n",
       "      <td>NaN</td>\n",
       "      <td>NaN</td>\n",
       "      <td>NaN</td>\n",
       "      <td>NaN</td>\n",
       "      <td>NaN</td>\n",
       "      <td>NaN</td>\n",
       "    </tr>\n",
       "    <tr>\n",
       "      <th>2</th>\n",
       "      <td>2</td>\n",
       "      <td>Tata</td>\n",
       "      <td>Nano Genx</td>\n",
       "      <td>Emax Xm</td>\n",
       "      <td>624.0</td>\n",
       "      <td>2.0</td>\n",
       "      <td>2.0</td>\n",
       "      <td>RWD (Rear Wheel Drive)</td>\n",
       "      <td>In-line</td>\n",
       "      <td>Rear, Transverse</td>\n",
       "      <td>...</td>\n",
       "      <td>NaN</td>\n",
       "      <td>NaN</td>\n",
       "      <td>NaN</td>\n",
       "      <td>NaN</td>\n",
       "      <td>NaN</td>\n",
       "      <td>NaN</td>\n",
       "      <td>NaN</td>\n",
       "      <td>NaN</td>\n",
       "      <td>NaN</td>\n",
       "      <td>NaN</td>\n",
       "    </tr>\n",
       "    <tr>\n",
       "      <th>3</th>\n",
       "      <td>3</td>\n",
       "      <td>Tata</td>\n",
       "      <td>Nano Genx</td>\n",
       "      <td>Xta</td>\n",
       "      <td>624.0</td>\n",
       "      <td>2.0</td>\n",
       "      <td>2.0</td>\n",
       "      <td>RWD (Rear Wheel Drive)</td>\n",
       "      <td>In-line</td>\n",
       "      <td>Rear, Transverse</td>\n",
       "      <td>...</td>\n",
       "      <td>NaN</td>\n",
       "      <td>NaN</td>\n",
       "      <td>NaN</td>\n",
       "      <td>NaN</td>\n",
       "      <td>NaN</td>\n",
       "      <td>NaN</td>\n",
       "      <td>NaN</td>\n",
       "      <td>NaN</td>\n",
       "      <td>NaN</td>\n",
       "      <td>NaN</td>\n",
       "    </tr>\n",
       "    <tr>\n",
       "      <th>4</th>\n",
       "      <td>4</td>\n",
       "      <td>Tata</td>\n",
       "      <td>Nano Genx</td>\n",
       "      <td>Xm</td>\n",
       "      <td>624.0</td>\n",
       "      <td>2.0</td>\n",
       "      <td>2.0</td>\n",
       "      <td>RWD (Rear Wheel Drive)</td>\n",
       "      <td>In-line</td>\n",
       "      <td>Rear, Transverse</td>\n",
       "      <td>...</td>\n",
       "      <td>NaN</td>\n",
       "      <td>NaN</td>\n",
       "      <td>NaN</td>\n",
       "      <td>NaN</td>\n",
       "      <td>NaN</td>\n",
       "      <td>NaN</td>\n",
       "      <td>NaN</td>\n",
       "      <td>NaN</td>\n",
       "      <td>NaN</td>\n",
       "      <td>NaN</td>\n",
       "    </tr>\n",
       "    <tr>\n",
       "      <th>...</th>\n",
       "      <td>...</td>\n",
       "      <td>...</td>\n",
       "      <td>...</td>\n",
       "      <td>...</td>\n",
       "      <td>...</td>\n",
       "      <td>...</td>\n",
       "      <td>...</td>\n",
       "      <td>...</td>\n",
       "      <td>...</td>\n",
       "      <td>...</td>\n",
       "      <td>...</td>\n",
       "      <td>...</td>\n",
       "      <td>...</td>\n",
       "      <td>...</td>\n",
       "      <td>...</td>\n",
       "      <td>...</td>\n",
       "      <td>...</td>\n",
       "      <td>...</td>\n",
       "      <td>...</td>\n",
       "      <td>...</td>\n",
       "      <td>...</td>\n",
       "    </tr>\n",
       "    <tr>\n",
       "      <th>1271</th>\n",
       "      <td>1271</td>\n",
       "      <td>Honda</td>\n",
       "      <td>City</td>\n",
       "      <td>Vx Mt Diesel</td>\n",
       "      <td>1498.0</td>\n",
       "      <td>4.0</td>\n",
       "      <td>4.0</td>\n",
       "      <td>FWD (Front Wheel Drive)</td>\n",
       "      <td>In-line</td>\n",
       "      <td>Front, Transverse</td>\n",
       "      <td>...</td>\n",
       "      <td>Yes</td>\n",
       "      <td>NaN</td>\n",
       "      <td>NaN</td>\n",
       "      <td>NaN</td>\n",
       "      <td>Yes</td>\n",
       "      <td>NaN</td>\n",
       "      <td>NaN</td>\n",
       "      <td>NaN</td>\n",
       "      <td>NaN</td>\n",
       "      <td>NaN</td>\n",
       "    </tr>\n",
       "    <tr>\n",
       "      <th>1272</th>\n",
       "      <td>1272</td>\n",
       "      <td>Honda</td>\n",
       "      <td>City</td>\n",
       "      <td>Zx Mt Diesel</td>\n",
       "      <td>1498.0</td>\n",
       "      <td>4.0</td>\n",
       "      <td>4.0</td>\n",
       "      <td>FWD (Front Wheel Drive)</td>\n",
       "      <td>In-line</td>\n",
       "      <td>Front, Transverse</td>\n",
       "      <td>...</td>\n",
       "      <td>Yes</td>\n",
       "      <td>Yes</td>\n",
       "      <td>NaN</td>\n",
       "      <td>NaN</td>\n",
       "      <td>Yes</td>\n",
       "      <td>NaN</td>\n",
       "      <td>NaN</td>\n",
       "      <td>NaN</td>\n",
       "      <td>NaN</td>\n",
       "      <td>NaN</td>\n",
       "    </tr>\n",
       "    <tr>\n",
       "      <th>1273</th>\n",
       "      <td>1273</td>\n",
       "      <td>Honda</td>\n",
       "      <td>City</td>\n",
       "      <td>Zx Cvt Petrol</td>\n",
       "      <td>1497.0</td>\n",
       "      <td>4.0</td>\n",
       "      <td>4.0</td>\n",
       "      <td>FWD (Front Wheel Drive)</td>\n",
       "      <td>In-line</td>\n",
       "      <td>Front, Transverse</td>\n",
       "      <td>...</td>\n",
       "      <td>Yes</td>\n",
       "      <td>Yes</td>\n",
       "      <td>NaN</td>\n",
       "      <td>NaN</td>\n",
       "      <td>Yes</td>\n",
       "      <td>NaN</td>\n",
       "      <td>NaN</td>\n",
       "      <td>NaN</td>\n",
       "      <td>NaN</td>\n",
       "      <td>NaN</td>\n",
       "    </tr>\n",
       "    <tr>\n",
       "      <th>1274</th>\n",
       "      <td>1274</td>\n",
       "      <td>Honda</td>\n",
       "      <td>City</td>\n",
       "      <td>V Cvt Petrol</td>\n",
       "      <td>1497.0</td>\n",
       "      <td>4.0</td>\n",
       "      <td>4.0</td>\n",
       "      <td>FWD (Front Wheel Drive)</td>\n",
       "      <td>In-line</td>\n",
       "      <td>Front, Transverse</td>\n",
       "      <td>...</td>\n",
       "      <td>NaN</td>\n",
       "      <td>NaN</td>\n",
       "      <td>NaN</td>\n",
       "      <td>NaN</td>\n",
       "      <td>Yes</td>\n",
       "      <td>NaN</td>\n",
       "      <td>NaN</td>\n",
       "      <td>NaN</td>\n",
       "      <td>NaN</td>\n",
       "      <td>NaN</td>\n",
       "    </tr>\n",
       "    <tr>\n",
       "      <th>1275</th>\n",
       "      <td>1275</td>\n",
       "      <td>Mitsubishi</td>\n",
       "      <td>Montero</td>\n",
       "      <td>3.2 At</td>\n",
       "      <td>3200.0</td>\n",
       "      <td>4.0</td>\n",
       "      <td>4.0</td>\n",
       "      <td>AWD (All Wheel Drive)</td>\n",
       "      <td>In-line</td>\n",
       "      <td>Front, Longitudinal</td>\n",
       "      <td>...</td>\n",
       "      <td>Yes</td>\n",
       "      <td>NaN</td>\n",
       "      <td>NaN</td>\n",
       "      <td>Yes</td>\n",
       "      <td>Yes</td>\n",
       "      <td>NaN</td>\n",
       "      <td>NaN</td>\n",
       "      <td>NaN</td>\n",
       "      <td>NaN</td>\n",
       "      <td>NaN</td>\n",
       "    </tr>\n",
       "  </tbody>\n",
       "</table>\n",
       "<p>1276 rows × 139 columns</p>\n",
       "</div>"
      ],
      "text/plain": [
       "      isker        Make      Model        Variant  Displacement  Cylinders  \\\n",
       "0         0        Tata  Nano Genx             Xt         624.0        2.0   \n",
       "1         1        Tata  Nano Genx             Xe         624.0        2.0   \n",
       "2         2        Tata  Nano Genx        Emax Xm         624.0        2.0   \n",
       "3         3        Tata  Nano Genx            Xta         624.0        2.0   \n",
       "4         4        Tata  Nano Genx             Xm         624.0        2.0   \n",
       "...     ...         ...        ...            ...           ...        ...   \n",
       "1271   1271       Honda       City   Vx Mt Diesel        1498.0        4.0   \n",
       "1272   1272       Honda       City   Zx Mt Diesel        1498.0        4.0   \n",
       "1273   1273       Honda       City  Zx Cvt Petrol        1497.0        4.0   \n",
       "1274   1274       Honda       City   V Cvt Petrol        1497.0        4.0   \n",
       "1275   1275  Mitsubishi    Montero         3.2 At        3200.0        4.0   \n",
       "\n",
       "      Valves_Per_Cylinder               Drivetrain Cylinder_Configuration  \\\n",
       "0                     2.0   RWD (Rear Wheel Drive)                In-line   \n",
       "1                     2.0   RWD (Rear Wheel Drive)                In-line   \n",
       "2                     2.0   RWD (Rear Wheel Drive)                In-line   \n",
       "3                     2.0   RWD (Rear Wheel Drive)                In-line   \n",
       "4                     2.0   RWD (Rear Wheel Drive)                In-line   \n",
       "...                   ...                      ...                    ...   \n",
       "1271                  4.0  FWD (Front Wheel Drive)                In-line   \n",
       "1272                  4.0  FWD (Front Wheel Drive)                In-line   \n",
       "1273                  4.0  FWD (Front Wheel Drive)                In-line   \n",
       "1274                  4.0  FWD (Front Wheel Drive)                In-line   \n",
       "1275                  4.0    AWD (All Wheel Drive)                In-line   \n",
       "\n",
       "          Engine_Location  ... Leather_Wrapped_Steering  Automatic_Headlamps  \\\n",
       "0        Rear, Transverse  ...                      NaN                  NaN   \n",
       "1        Rear, Transverse  ...                      NaN                  NaN   \n",
       "2        Rear, Transverse  ...                      NaN                  NaN   \n",
       "3        Rear, Transverse  ...                      NaN                  NaN   \n",
       "4        Rear, Transverse  ...                      NaN                  NaN   \n",
       "...                   ...  ...                      ...                  ...   \n",
       "1271    Front, Transverse  ...                      Yes                  NaN   \n",
       "1272    Front, Transverse  ...                      Yes                  Yes   \n",
       "1273    Front, Transverse  ...                      Yes                  Yes   \n",
       "1274    Front, Transverse  ...                      NaN                  NaN   \n",
       "1275  Front, Longitudinal  ...                      Yes                  NaN   \n",
       "\n",
       "     Engine_Type  ASR_/_Traction_Control  Cruise_Control  USB_Ports  \\\n",
       "0            NaN                     NaN             NaN        NaN   \n",
       "1            NaN                     NaN             NaN        NaN   \n",
       "2            NaN                     NaN             NaN        NaN   \n",
       "3            NaN                     NaN             NaN        NaN   \n",
       "4            NaN                     NaN             NaN        NaN   \n",
       "...          ...                     ...             ...        ...   \n",
       "1271         NaN                     NaN             Yes        NaN   \n",
       "1272         NaN                     NaN             Yes        NaN   \n",
       "1273         NaN                     NaN             Yes        NaN   \n",
       "1274         NaN                     NaN             Yes        NaN   \n",
       "1275         NaN                     Yes             Yes        NaN   \n",
       "\n",
       "     Heads-Up_Display  Welcome_Lights  Battery  Electric_Range  \n",
       "0                 NaN             NaN      NaN             NaN  \n",
       "1                 NaN             NaN      NaN             NaN  \n",
       "2                 NaN             NaN      NaN             NaN  \n",
       "3                 NaN             NaN      NaN             NaN  \n",
       "4                 NaN             NaN      NaN             NaN  \n",
       "...               ...             ...      ...             ...  \n",
       "1271              NaN             NaN      NaN             NaN  \n",
       "1272              NaN             NaN      NaN             NaN  \n",
       "1273              NaN             NaN      NaN             NaN  \n",
       "1274              NaN             NaN      NaN             NaN  \n",
       "1275              NaN             NaN      NaN             NaN  \n",
       "\n",
       "[1276 rows x 139 columns]"
      ]
     },
     "execution_count": 265,
     "metadata": {},
     "output_type": "execute_result"
    }
   ],
   "source": [
    "\n",
    "import pandas as pd\n",
    "df=pd.read_excel('cars_ds.xlsx')\n",
    "df"
   ]
  },
  {
   "cell_type": "code",
   "execution_count": 266,
   "id": "7d884bc2",
   "metadata": {},
   "outputs": [
    {
     "data": {
      "text/html": [
       "<div>\n",
       "<style scoped>\n",
       "    .dataframe tbody tr th:only-of-type {\n",
       "        vertical-align: middle;\n",
       "    }\n",
       "\n",
       "    .dataframe tbody tr th {\n",
       "        vertical-align: top;\n",
       "    }\n",
       "\n",
       "    .dataframe thead th {\n",
       "        text-align: right;\n",
       "    }\n",
       "</style>\n",
       "<table border=\"1\" class=\"dataframe\">\n",
       "  <thead>\n",
       "    <tr style=\"text-align: right;\">\n",
       "      <th></th>\n",
       "      <th>isker</th>\n",
       "      <th>Make</th>\n",
       "      <th>Model</th>\n",
       "      <th>Variant</th>\n",
       "      <th>Displacement</th>\n",
       "      <th>Cylinders</th>\n",
       "      <th>Valves_Per_Cylinder</th>\n",
       "      <th>Drivetrain</th>\n",
       "      <th>Cylinder_Configuration</th>\n",
       "      <th>Engine_Location</th>\n",
       "      <th>...</th>\n",
       "      <th>Leather_Wrapped_Steering</th>\n",
       "      <th>Automatic_Headlamps</th>\n",
       "      <th>Engine_Type</th>\n",
       "      <th>ASR_/_Traction_Control</th>\n",
       "      <th>Cruise_Control</th>\n",
       "      <th>USB_Ports</th>\n",
       "      <th>Heads-Up_Display</th>\n",
       "      <th>Welcome_Lights</th>\n",
       "      <th>Battery</th>\n",
       "      <th>Electric_Range</th>\n",
       "    </tr>\n",
       "  </thead>\n",
       "  <tbody>\n",
       "    <tr>\n",
       "      <th>252</th>\n",
       "      <td>252</td>\n",
       "      <td>NaN</td>\n",
       "      <td>Mercedes-Benz B-Class</td>\n",
       "      <td>B 180 Sport</td>\n",
       "      <td>1595.0</td>\n",
       "      <td>4.0</td>\n",
       "      <td>4.0</td>\n",
       "      <td>FWD (Front Wheel Drive)</td>\n",
       "      <td>In-line</td>\n",
       "      <td>Front, Transverse</td>\n",
       "      <td>...</td>\n",
       "      <td>Yes</td>\n",
       "      <td>Yes</td>\n",
       "      <td>NaN</td>\n",
       "      <td>Yes</td>\n",
       "      <td>Yes</td>\n",
       "      <td>NaN</td>\n",
       "      <td>NaN</td>\n",
       "      <td>NaN</td>\n",
       "      <td>NaN</td>\n",
       "      <td>NaN</td>\n",
       "    </tr>\n",
       "    <tr>\n",
       "      <th>253</th>\n",
       "      <td>253</td>\n",
       "      <td>NaN</td>\n",
       "      <td>Mercedes-Benz B-Class</td>\n",
       "      <td>B 200 Cdi Sport</td>\n",
       "      <td>2143.0</td>\n",
       "      <td>4.0</td>\n",
       "      <td>4.0</td>\n",
       "      <td>FWD (Front Wheel Drive)</td>\n",
       "      <td>In-line</td>\n",
       "      <td>Front, Transverse</td>\n",
       "      <td>...</td>\n",
       "      <td>Yes</td>\n",
       "      <td>Yes</td>\n",
       "      <td>NaN</td>\n",
       "      <td>Yes</td>\n",
       "      <td>Yes</td>\n",
       "      <td>NaN</td>\n",
       "      <td>NaN</td>\n",
       "      <td>NaN</td>\n",
       "      <td>NaN</td>\n",
       "      <td>NaN</td>\n",
       "    </tr>\n",
       "    <tr>\n",
       "      <th>254</th>\n",
       "      <td>254</td>\n",
       "      <td>NaN</td>\n",
       "      <td>Mercedes-Benz B-Class</td>\n",
       "      <td>B 180 Night Edition</td>\n",
       "      <td>1595.0</td>\n",
       "      <td>4.0</td>\n",
       "      <td>4.0</td>\n",
       "      <td>FWD (Front Wheel Drive)</td>\n",
       "      <td>In-line</td>\n",
       "      <td>Front, Transverse</td>\n",
       "      <td>...</td>\n",
       "      <td>Yes</td>\n",
       "      <td>Yes</td>\n",
       "      <td>NaN</td>\n",
       "      <td>Yes</td>\n",
       "      <td>Yes</td>\n",
       "      <td>NaN</td>\n",
       "      <td>NaN</td>\n",
       "      <td>NaN</td>\n",
       "      <td>NaN</td>\n",
       "      <td>NaN</td>\n",
       "    </tr>\n",
       "    <tr>\n",
       "      <th>255</th>\n",
       "      <td>255</td>\n",
       "      <td>NaN</td>\n",
       "      <td>Mercedes-Benz B-Class</td>\n",
       "      <td>B 200 Cdi Night Edition</td>\n",
       "      <td>2143.0</td>\n",
       "      <td>4.0</td>\n",
       "      <td>4.0</td>\n",
       "      <td>FWD (Front Wheel Drive)</td>\n",
       "      <td>In-line</td>\n",
       "      <td>Front, Transverse</td>\n",
       "      <td>...</td>\n",
       "      <td>Yes</td>\n",
       "      <td>Yes</td>\n",
       "      <td>NaN</td>\n",
       "      <td>Yes</td>\n",
       "      <td>Yes</td>\n",
       "      <td>NaN</td>\n",
       "      <td>NaN</td>\n",
       "      <td>NaN</td>\n",
       "      <td>NaN</td>\n",
       "      <td>NaN</td>\n",
       "    </tr>\n",
       "    <tr>\n",
       "      <th>256</th>\n",
       "      <td>256</td>\n",
       "      <td>NaN</td>\n",
       "      <td>Mercedes-Benz Cla-Class</td>\n",
       "      <td>200 Sport</td>\n",
       "      <td>1991.0</td>\n",
       "      <td>4.0</td>\n",
       "      <td>4.0</td>\n",
       "      <td>FWD (Front Wheel Drive)</td>\n",
       "      <td>In-line</td>\n",
       "      <td>Front, Transverse</td>\n",
       "      <td>...</td>\n",
       "      <td>Yes</td>\n",
       "      <td>Yes</td>\n",
       "      <td>NaN</td>\n",
       "      <td>Yes</td>\n",
       "      <td>Yes</td>\n",
       "      <td>NaN</td>\n",
       "      <td>NaN</td>\n",
       "      <td>NaN</td>\n",
       "      <td>NaN</td>\n",
       "      <td>NaN</td>\n",
       "    </tr>\n",
       "    <tr>\n",
       "      <th>...</th>\n",
       "      <td>...</td>\n",
       "      <td>...</td>\n",
       "      <td>...</td>\n",
       "      <td>...</td>\n",
       "      <td>...</td>\n",
       "      <td>...</td>\n",
       "      <td>...</td>\n",
       "      <td>...</td>\n",
       "      <td>...</td>\n",
       "      <td>...</td>\n",
       "      <td>...</td>\n",
       "      <td>...</td>\n",
       "      <td>...</td>\n",
       "      <td>...</td>\n",
       "      <td>...</td>\n",
       "      <td>...</td>\n",
       "      <td>...</td>\n",
       "      <td>...</td>\n",
       "      <td>...</td>\n",
       "      <td>...</td>\n",
       "      <td>...</td>\n",
       "    </tr>\n",
       "    <tr>\n",
       "      <th>1151</th>\n",
       "      <td>1151</td>\n",
       "      <td>NaN</td>\n",
       "      <td>Mercedes-Benz Gla-Class</td>\n",
       "      <td>45 Aero Edition</td>\n",
       "      <td>1991.0</td>\n",
       "      <td>4.0</td>\n",
       "      <td>4.0</td>\n",
       "      <td>4WD</td>\n",
       "      <td>In-line</td>\n",
       "      <td>Front, Longitudinal</td>\n",
       "      <td>...</td>\n",
       "      <td>Yes</td>\n",
       "      <td>Yes</td>\n",
       "      <td>NaN</td>\n",
       "      <td>Yes</td>\n",
       "      <td>Yes</td>\n",
       "      <td>NaN</td>\n",
       "      <td>NaN</td>\n",
       "      <td>NaN</td>\n",
       "      <td>NaN</td>\n",
       "      <td>NaN</td>\n",
       "    </tr>\n",
       "    <tr>\n",
       "      <th>1219</th>\n",
       "      <td>1219</td>\n",
       "      <td>NaN</td>\n",
       "      <td>Rolls-Royce Phantom</td>\n",
       "      <td>Sedan</td>\n",
       "      <td>6749.0</td>\n",
       "      <td>12.0</td>\n",
       "      <td>4.0</td>\n",
       "      <td>RWD (Rear Wheel Drive)</td>\n",
       "      <td>V</td>\n",
       "      <td>Front, Longitudinal</td>\n",
       "      <td>...</td>\n",
       "      <td>Yes</td>\n",
       "      <td>Yes</td>\n",
       "      <td>NaN</td>\n",
       "      <td>Yes</td>\n",
       "      <td>Yes</td>\n",
       "      <td>NaN</td>\n",
       "      <td>NaN</td>\n",
       "      <td>NaN</td>\n",
       "      <td>NaN</td>\n",
       "      <td>NaN</td>\n",
       "    </tr>\n",
       "    <tr>\n",
       "      <th>1220</th>\n",
       "      <td>1220</td>\n",
       "      <td>NaN</td>\n",
       "      <td>Rolls-Royce Phantom</td>\n",
       "      <td>Ewb</td>\n",
       "      <td>6749.0</td>\n",
       "      <td>12.0</td>\n",
       "      <td>4.0</td>\n",
       "      <td>RWD (Rear Wheel Drive)</td>\n",
       "      <td>V</td>\n",
       "      <td>Front, Longitudinal</td>\n",
       "      <td>...</td>\n",
       "      <td>Yes</td>\n",
       "      <td>Yes</td>\n",
       "      <td>NaN</td>\n",
       "      <td>Yes</td>\n",
       "      <td>Yes</td>\n",
       "      <td>NaN</td>\n",
       "      <td>NaN</td>\n",
       "      <td>NaN</td>\n",
       "      <td>NaN</td>\n",
       "      <td>NaN</td>\n",
       "    </tr>\n",
       "    <tr>\n",
       "      <th>1251</th>\n",
       "      <td>1251</td>\n",
       "      <td>NaN</td>\n",
       "      <td>Mercedes-Benz Glc</td>\n",
       "      <td>200 Progressive</td>\n",
       "      <td>1991.0</td>\n",
       "      <td>4.0</td>\n",
       "      <td>4.0</td>\n",
       "      <td>RWD (Rear Wheel Drive)</td>\n",
       "      <td>In-line</td>\n",
       "      <td>Front, Transverse</td>\n",
       "      <td>...</td>\n",
       "      <td>Yes</td>\n",
       "      <td>Yes</td>\n",
       "      <td>NaN</td>\n",
       "      <td>Yes</td>\n",
       "      <td>Yes</td>\n",
       "      <td>NaN</td>\n",
       "      <td>Yes</td>\n",
       "      <td>Yes</td>\n",
       "      <td>NaN</td>\n",
       "      <td>NaN</td>\n",
       "    </tr>\n",
       "    <tr>\n",
       "      <th>1252</th>\n",
       "      <td>1252</td>\n",
       "      <td>NaN</td>\n",
       "      <td>Mercedes-Benz Glc</td>\n",
       "      <td>220D 4Matic Progressive</td>\n",
       "      <td>1950.0</td>\n",
       "      <td>4.0</td>\n",
       "      <td>4.0</td>\n",
       "      <td>AWD (All Wheel Drive)</td>\n",
       "      <td>In-line</td>\n",
       "      <td>Front, Transverse</td>\n",
       "      <td>...</td>\n",
       "      <td>Yes</td>\n",
       "      <td>Yes</td>\n",
       "      <td>NaN</td>\n",
       "      <td>Yes</td>\n",
       "      <td>Yes</td>\n",
       "      <td>NaN</td>\n",
       "      <td>Yes</td>\n",
       "      <td>Yes</td>\n",
       "      <td>NaN</td>\n",
       "      <td>NaN</td>\n",
       "    </tr>\n",
       "  </tbody>\n",
       "</table>\n",
       "<p>75 rows × 139 columns</p>\n",
       "</div>"
      ],
      "text/plain": [
       "      isker Make                    Model                  Variant  \\\n",
       "252     252  NaN    Mercedes-Benz B-Class              B 180 Sport   \n",
       "253     253  NaN    Mercedes-Benz B-Class          B 200 Cdi Sport   \n",
       "254     254  NaN    Mercedes-Benz B-Class      B 180 Night Edition   \n",
       "255     255  NaN    Mercedes-Benz B-Class  B 200 Cdi Night Edition   \n",
       "256     256  NaN  Mercedes-Benz Cla-Class                200 Sport   \n",
       "...     ...  ...                      ...                      ...   \n",
       "1151   1151  NaN  Mercedes-Benz Gla-Class          45 Aero Edition   \n",
       "1219   1219  NaN      Rolls-Royce Phantom                    Sedan   \n",
       "1220   1220  NaN      Rolls-Royce Phantom                      Ewb   \n",
       "1251   1251  NaN        Mercedes-Benz Glc          200 Progressive   \n",
       "1252   1252  NaN        Mercedes-Benz Glc  220D 4Matic Progressive   \n",
       "\n",
       "      Displacement  Cylinders  Valves_Per_Cylinder               Drivetrain  \\\n",
       "252         1595.0        4.0                  4.0  FWD (Front Wheel Drive)   \n",
       "253         2143.0        4.0                  4.0  FWD (Front Wheel Drive)   \n",
       "254         1595.0        4.0                  4.0  FWD (Front Wheel Drive)   \n",
       "255         2143.0        4.0                  4.0  FWD (Front Wheel Drive)   \n",
       "256         1991.0        4.0                  4.0  FWD (Front Wheel Drive)   \n",
       "...            ...        ...                  ...                      ...   \n",
       "1151        1991.0        4.0                  4.0                      4WD   \n",
       "1219        6749.0       12.0                  4.0   RWD (Rear Wheel Drive)   \n",
       "1220        6749.0       12.0                  4.0   RWD (Rear Wheel Drive)   \n",
       "1251        1991.0        4.0                  4.0   RWD (Rear Wheel Drive)   \n",
       "1252        1950.0        4.0                  4.0    AWD (All Wheel Drive)   \n",
       "\n",
       "     Cylinder_Configuration      Engine_Location  ...  \\\n",
       "252                 In-line    Front, Transverse  ...   \n",
       "253                 In-line    Front, Transverse  ...   \n",
       "254                 In-line    Front, Transverse  ...   \n",
       "255                 In-line    Front, Transverse  ...   \n",
       "256                 In-line    Front, Transverse  ...   \n",
       "...                     ...                  ...  ...   \n",
       "1151                In-line  Front, Longitudinal  ...   \n",
       "1219                      V  Front, Longitudinal  ...   \n",
       "1220                      V  Front, Longitudinal  ...   \n",
       "1251                In-line    Front, Transverse  ...   \n",
       "1252                In-line    Front, Transverse  ...   \n",
       "\n",
       "     Leather_Wrapped_Steering  Automatic_Headlamps Engine_Type  \\\n",
       "252                       Yes                  Yes         NaN   \n",
       "253                       Yes                  Yes         NaN   \n",
       "254                       Yes                  Yes         NaN   \n",
       "255                       Yes                  Yes         NaN   \n",
       "256                       Yes                  Yes         NaN   \n",
       "...                       ...                  ...         ...   \n",
       "1151                      Yes                  Yes         NaN   \n",
       "1219                      Yes                  Yes         NaN   \n",
       "1220                      Yes                  Yes         NaN   \n",
       "1251                      Yes                  Yes         NaN   \n",
       "1252                      Yes                  Yes         NaN   \n",
       "\n",
       "      ASR_/_Traction_Control  Cruise_Control  USB_Ports Heads-Up_Display  \\\n",
       "252                      Yes             Yes        NaN              NaN   \n",
       "253                      Yes             Yes        NaN              NaN   \n",
       "254                      Yes             Yes        NaN              NaN   \n",
       "255                      Yes             Yes        NaN              NaN   \n",
       "256                      Yes             Yes        NaN              NaN   \n",
       "...                      ...             ...        ...              ...   \n",
       "1151                     Yes             Yes        NaN              NaN   \n",
       "1219                     Yes             Yes        NaN              NaN   \n",
       "1220                     Yes             Yes        NaN              NaN   \n",
       "1251                     Yes             Yes        NaN              Yes   \n",
       "1252                     Yes             Yes        NaN              Yes   \n",
       "\n",
       "      Welcome_Lights  Battery  Electric_Range  \n",
       "252              NaN      NaN             NaN  \n",
       "253              NaN      NaN             NaN  \n",
       "254              NaN      NaN             NaN  \n",
       "255              NaN      NaN             NaN  \n",
       "256              NaN      NaN             NaN  \n",
       "...              ...      ...             ...  \n",
       "1151             NaN      NaN             NaN  \n",
       "1219             NaN      NaN             NaN  \n",
       "1220             NaN      NaN             NaN  \n",
       "1251             Yes      NaN             NaN  \n",
       "1252             Yes      NaN             NaN  \n",
       "\n",
       "[75 rows x 139 columns]"
      ]
     },
     "execution_count": 266,
     "metadata": {},
     "output_type": "execute_result"
    }
   ],
   "source": [
    "# Updating the missing values of city and Highway mileage\n",
    "\n",
    "# city\n",
    "a=df['City_Mileage_km_litre'].mean()\n",
    "\n",
    "df['City_Mileage_km_litre']=df['City_Mileage_km_litre'].fillna(a)\n",
    "#df\n",
    "\n",
    "# Highway\n",
    "b=df['Highway_Mileage_km_litre'].mean()\n",
    "\n",
    "df['Highway_Mileage_km_litre']=df['Highway_Mileage_km_litre'].fillna(b)\n",
    "#df\n",
    "a=df[df['Make'].isnull()]\n",
    "a"
   ]
  },
  {
   "cell_type": "code",
   "execution_count": 267,
   "id": "7b7f2dcc",
   "metadata": {},
   "outputs": [
    {
     "data": {
      "text/plain": [
       "Make\n",
       "Renault          19.501196\n",
       "Mahindra         19.088655\n",
       "Maruti Suzuki    19.055414\n",
       "Datsun           18.894153\n",
       "Tata             17.456098\n",
       "Lexus            16.749229\n",
       "Honda            16.356970\n",
       "Hyundai          16.267567\n",
       "Fiat             16.078930\n",
       "Volkswagen       16.008143\n",
       "Name: City_Mileage_km_litre, dtype: float64"
      ]
     },
     "execution_count": 267,
     "metadata": {},
     "output_type": "execute_result"
    }
   ],
   "source": [
    "# Task 1\n",
    "\n",
    "import matplotlib.pyplot as plt\n",
    "car_cat=df.groupby(by=['Make'])['City_Mileage_km_litre'].mean()\n",
    "#car_cat\n",
    "\n",
    "car_sort=car_cat.sort_values(ascending=False)\n",
    "\n",
    "top_10=car_sort.head(10)\n",
    "top_10\n"
   ]
  },
  {
   "cell_type": "code",
   "execution_count": 268,
   "id": "350d3afb",
   "metadata": {},
   "outputs": [
    {
     "data": {
      "image/png": "[encoded data removed]",
      "text/plain": [
       "<Figure size 432x288 with 1 Axes>"
      ]
     },
     "metadata": {
      "needs_background": "light"
     },
     "output_type": "display_data"
    }
   ],
   "source": [
    "plt.barh(top_10.index,top_10.values)\n",
    "plt.title('Carmaker with their average fuel economy')\n",
    "plt.show()"
   ]
  },
  {
   "cell_type": "code",
   "execution_count": 269,
   "id": "9724a251",
   "metadata": {},
   "outputs": [],
   "source": [
    "# This graph shows Maruti Suzuki have maximum fuel economy"
   ]
  },
  {
   "cell_type": "code",
   "execution_count": 270,
   "id": "26a944f4",
   "metadata": {},
   "outputs": [
    {
     "data": {
      "text/plain": [
       "Make\n",
       "Maruti Suzuki R    15.815381\n",
       "Land Rover         15.815381\n",
       "Bugatti            15.815381\n",
       "Bajaj              15.815381\n",
       "Mg                 15.815381\n",
       "Jeep               15.552470\n",
       "Nissan             15.544481\n",
       "Ford               15.215918\n",
       "Mini               14.912305\n",
       "Bmw                14.894946\n",
       "Name: City_Mileage_km_litre, dtype: float64"
      ]
     },
     "execution_count": 270,
     "metadata": {},
     "output_type": "execute_result"
    }
   ],
   "source": [
    "# Task 2\n",
    "\n",
    "a=df.groupby(by=['Make'])['City_Mileage_km_litre'].mean()\n",
    "b=a.sort_values(ascending=False)\n",
    "final=b[11:21]\n",
    "final"
   ]
  },
  {
   "cell_type": "code",
   "execution_count": 271,
   "id": "604d9903",
   "metadata": {},
   "outputs": [
    {
     "data": {
      "image/png": "[encoded data removed]",
      "text/plain": [
       "<Figure size 432x288 with 1 Axes>"
      ]
     },
     "metadata": {
      "needs_background": "light"
     },
     "output_type": "display_data"
    }
   ],
   "source": [
    "plt.barh(final.index,final.values)\n",
    "plt.title('Top 10 cars haveing max fuel economy')\n",
    "plt.show()"
   ]
  },
  {
   "cell_type": "code",
   "execution_count": 272,
   "id": "ecd6acfb",
   "metadata": {},
   "outputs": [
    {
     "data": {
      "text/plain": [
       "Body_Type\n",
       "SUV                    447\n",
       "Sedan                  333\n",
       "Hatchback              316\n",
       "Coupe                   41\n",
       "MPV                     39\n",
       "MUV                     39\n",
       "Convertible             20\n",
       "Crossover               18\n",
       "Sports                   3\n",
       "Pick-up                  3\n",
       "SUV, Crossover           2\n",
       "Crossover, SUV           2\n",
       "Sedan, Coupe             2\n",
       "Sports, Convertible      2\n",
       "Sedan, Crossover         1\n",
       "Coupe, Convertible       1\n",
       "Sports, Hatchback        1\n",
       "Name: Body_Type, dtype: int64"
      ]
     },
     "execution_count": 272,
     "metadata": {},
     "output_type": "execute_result"
    }
   ],
   "source": [
    "# Task 3\n",
    "\n",
    "body_type=df.groupby(by=['Body_Type'])['Body_Type'].count()\n",
    "#body_type\n",
    "sort=body_type.sort_values(ascending=False)\n",
    "sort"
   ]
  },
  {
   "cell_type": "code",
   "execution_count": 273,
   "id": "63609dc5",
   "metadata": {},
   "outputs": [
    {
     "data": {
      "image/png": "[encoded data removed]",
      "text/plain": [
       "<Figure size 432x288 with 1 Axes>"
      ]
     },
     "metadata": {},
     "output_type": "display_data"
    }
   ],
   "source": [
    "plt.pie(sort.values,labels=sort.index,autopct='% 2f %%')\n",
    "plt.title('Body type wise no of count')\n",
    "plt.show()"
   ]
  },
  {
   "cell_type": "code",
   "execution_count": 274,
   "id": "a4df0647",
   "metadata": {},
   "outputs": [
    {
     "data": {
      "text/plain": [
       "Make\n",
       "Hyundai     16.267567\n",
       "Mahindra    19.088655\n",
       "Renault     19.501196\n",
       "Skoda       14.516278\n",
       "Name: City_Mileage_km_litre, dtype: float64"
      ]
     },
     "execution_count": 274,
     "metadata": {},
     "output_type": "execute_result"
    }
   ],
   "source": [
    "# Task 4\n",
    "\n",
    "fil=df[(df['Make']=='Mahindra') | (df['Make']=='Hyundai') | (df['Make']=='Renault') | (df['Make']=='Skoda')]\n",
    "#fil\n",
    "\n",
    "#  Finding mean\n",
    "car_mil=fil.groupby(by=['Make'])['City_Mileage_km_litre'].mean()\n",
    "car_mil"
   ]
  },
  {
   "cell_type": "code",
   "execution_count": 275,
   "id": "649d432c",
   "metadata": {},
   "outputs": [
    {
     "data": {
      "image/png": "[encoded data removed]",
      "text/plain": [
       "<Figure size 432x288 with 1 Axes>"
      ]
     },
     "metadata": {
      "needs_background": "light"
     },
     "output_type": "display_data"
    }
   ],
   "source": [
    "plt.bar(car_mil.index,car_mil.values)\n",
    "plt.title('Comparison of car mileage of following 4 cars: ')\n",
    "plt.show()"
   ]
  },
  {
   "cell_type": "code",
   "execution_count": 276,
   "id": "7f86998b",
   "metadata": {},
   "outputs": [
    {
     "data": {
      "text/plain": [
       "Make\n",
       "Hyundai       16.267567\n",
       "Mahindra      19.088655\n",
       "Toyota        14.664361\n",
       "Volkswagen    16.008143\n",
       "Name: City_Mileage_km_litre, dtype: float64"
      ]
     },
     "execution_count": 276,
     "metadata": {},
     "output_type": "execute_result"
    }
   ],
   "source": [
    "# Task 5\n",
    "\n",
    "fil1=df[(df['Make']=='Toyota') | (df['Make']=='Mahindra') | (df['Make']=='Volkswagen') | (df['Make']=='Hyundai')]\n",
    "#fil1\n",
    "\n",
    "#  Finding mean\n",
    "car_mil1=fil1.groupby(by=['Make'])['City_Mileage_km_litre'].mean()\n",
    "car_mil1"
   ]
  },
  {
   "cell_type": "code",
   "execution_count": 277,
   "id": "993e5a0c",
   "metadata": {},
   "outputs": [
    {
     "data": {
      "image/png": "[encoded data removed]",
      "text/plain": [
       "<Figure size 432x288 with 1 Axes>"
      ]
     },
     "metadata": {
      "needs_background": "light"
     },
     "output_type": "display_data"
    }
   ],
   "source": [
    "plt.bar(car_mil1.index,car_mil1.values)\n",
    "plt.title('Comparison of car mileage of following 4 cars: ')\n",
    "plt.show()"
   ]
  },
  {
   "cell_type": "code",
   "execution_count": 278,
   "id": "42a1e8ee",
   "metadata": {},
   "outputs": [
    {
     "data": {
      "text/plain": [
       "Make\n",
       "Renault             19.501196\n",
       "Mahindra            19.088655\n",
       "Maruti Suzuki       19.055414\n",
       "Datsun              18.894153\n",
       "Tata                17.456098\n",
       "Lexus               16.749229\n",
       "Honda               16.356970\n",
       "Hyundai             16.267567\n",
       "Fiat                16.078930\n",
       "Volkswagen          16.008143\n",
       "Kia                 15.815381\n",
       "Maruti Suzuki R     15.815381\n",
       "Land Rover          15.815381\n",
       "Bugatti             15.815381\n",
       "Bajaj               15.815381\n",
       "Mg                  15.815381\n",
       "Jeep                15.552470\n",
       "Nissan              15.544481\n",
       "Ford                15.215918\n",
       "Mini                14.912305\n",
       "Bmw                 14.894946\n",
       "Toyota              14.664361\n",
       "Force               14.605127\n",
       "Skoda               14.516278\n",
       "Audi                13.888088\n",
       "Volvo               13.748162\n",
       "Premier             13.666667\n",
       "Land Rover Rover    13.349685\n",
       "Jaguar              12.368145\n",
       "Porsche             12.107691\n",
       "Isuzu                9.900000\n",
       "Ferrari              8.630768\n",
       "Icml                 8.600000\n",
       "Maserati             8.538460\n",
       "Mitsubishi           8.080769\n",
       "Dc                   8.000000\n",
       "Bentley              6.819230\n",
       "Aston Martin         6.700000\n",
       "Lamborghini          6.293491\n",
       "Name: City_Mileage_km_litre, dtype: float64"
      ]
     },
     "execution_count": 278,
     "metadata": {},
     "output_type": "execute_result"
    }
   ],
   "source": [
    "# Task 6\n",
    "\n",
    "car_cat1=df.groupby(by=['Make'])['City_Mileage_km_litre'].mean()\n",
    "#car_cat\n",
    "\n",
    "car_sort1=car_cat1.sort_values(ascending=False)\n",
    "car_sort1\n",
    "#spr=car_sort.head(10)\n",
    "#spr"
   ]
  },
  {
   "cell_type": "code",
   "execution_count": 279,
   "id": "34b36a6d",
   "metadata": {},
   "outputs": [
    {
     "data": {
      "image/png": "[encoded data removed]",
      "text/plain": [
       "<Figure size 2160x720 with 1 Axes>"
      ]
     },
     "metadata": {
      "needs_background": "light"
     },
     "output_type": "display_data"
    }
   ],
   "source": [
    "df.boxplot(column=['City_Mileage_km_litre'],by='Make',figsize=(30,10))\n",
    "plt.show()"
   ]
  },
  {
   "cell_type": "code",
   "execution_count": 287,
   "id": "66014b65",
   "metadata": {},
   "outputs": [
    {
     "data": {
      "text/plain": [
       "Fuel_Tank_Capacity_litre\n",
       "82.5     6592.500000\n",
       "90.5     5935.000000\n",
       "92.0     5175.500000\n",
       "100.0    5127.857143\n",
       "91.0     5081.000000\n",
       "90.0     5039.666667\n",
       "72.0     5000.000000\n",
       "60.9     4951.000000\n",
       "86.0     4363.333333\n",
       "93.5     3998.750000\n",
       "Name: Displacement, dtype: float64"
      ]
     },
     "execution_count": 287,
     "metadata": {},
     "output_type": "execute_result"
    }
   ],
   "source": [
    "# Task 7\n",
    "\n",
    "fuel=df.groupby(by=['Fuel_Tank_Capacity_litre'])['Displacement'].mean()\n",
    "fuel\n",
    "\n",
    "avg_fuel=fuel.sort_values(ascending=False)\n",
    "avg_fuel.head(10)"
   ]
  },
  {
   "cell_type": "code",
   "execution_count": 295,
   "id": "66335635",
   "metadata": {},
   "outputs": [
    {
     "data": {
      "image/png": "[encoded data removed]",
      "text/plain": [
       "<Figure size 432x288 with 1 Axes>"
      ]
     },
     "metadata": {
      "needs_background": "light"
     },
     "output_type": "display_data"
    }
   ],
   "source": [
    "plt.plot(avg_fuel.index,avg_fuel.values)\n",
    "plt.title('Top 10 Displacement trend with respect to Fuel Tank')\n",
    "plt.show()\n"
   ]
  },
  {
   "cell_type": "code",
   "execution_count": 300,
   "id": "5652fceb",
   "metadata": {},
   "outputs": [
    {
     "data": {
      "text/plain": [
       "Fuel_Tank_Capacity_litre\n",
       "15.0     15.815381\n",
       "24.0     23.600000\n",
       "27.0     15.815381\n",
       "28.0     23.288376\n",
       "32.0     17.231207\n",
       "           ...    \n",
       "93.0     14.937361\n",
       "93.5     13.553845\n",
       "96.0     15.815381\n",
       "100.0     9.113626\n",
       "105.0    10.357691\n",
       "Name: City_Mileage_km_litre, Length: 63, dtype: float64"
      ]
     },
     "execution_count": 300,
     "metadata": {},
     "output_type": "execute_result"
    }
   ],
   "source": [
    "# Task 8\n",
    "\n",
    "\n",
    "fuel1=df.groupby(by=['Fuel_Tank_Capacity_litre'])['City_Mileage_km_litre'].mean()\n",
    "fuel1\n"
   ]
  },
  {
   "cell_type": "code",
   "execution_count": 297,
   "id": "6bbcdf65",
   "metadata": {},
   "outputs": [
    {
     "data": {
      "image/png": "[encoded data removed]",
      "text/plain": [
       "<Figure size 432x288 with 1 Axes>"
      ]
     },
     "metadata": {
      "needs_background": "light"
     },
     "output_type": "display_data"
    }
   ],
   "source": [
    "plt.plot(fuel1.index,fuel1.values)\n",
    "plt.title('Fuel Tank Capacity with respect to Mileage')\n",
    "plt.show()\n"
   ]
  },
  {
   "cell_type": "code",
   "execution_count": 298,
   "id": "1530fa3a",
   "metadata": {},
   "outputs": [
    {
     "data": {
      "text/plain": [
       "Fuel_Tank_Capacity_litre\n",
       "24.0    23.600000\n",
       "28.0    23.288376\n",
       "48.0    21.123077\n",
       "43.0    19.025244\n",
       "35.0    18.478454\n",
       "37.0    18.287515\n",
       "51.0    17.427500\n",
       "32.0    17.231207\n",
       "44.0    16.716889\n",
       "40.0    16.312458\n",
       "Name: City_Mileage_km_litre, dtype: float64"
      ]
     },
     "execution_count": 298,
     "metadata": {},
     "output_type": "execute_result"
    }
   ],
   "source": [
    "avg_mil=fuel1.sort_values(ascending=False)\n",
    "avg_mil.head(10)"
   ]
  },
  {
   "cell_type": "code",
   "execution_count": 296,
   "id": "cd9f1f4f",
   "metadata": {},
   "outputs": [
    {
     "data": {
      "image/png": "[encoded data removed]",
      "text/plain": [
       "<Figure size 432x288 with 1 Axes>"
      ]
     },
     "metadata": {
      "needs_background": "light"
     },
     "output_type": "display_data"
    }
   ],
   "source": [
    "plt.plot(avg_mil.index,avg_mil.values)\n",
    "plt.title('Fuel Tank Capacity with respect to Mileage')\n",
    "plt.show()\n"
   ]
  },
  {
   "cell_type": "code",
   "execution_count": 358,
   "id": "275f3403",
   "metadata": {},
   "outputs": [
    {
     "data": {
      "text/plain": [
       "Bmw                 12\n",
       "Audi                 6\n",
       "Jaguar               6\n",
       "Hyundai              6\n",
       "Ford                 4\n",
       "Land Rover Rover     4\n",
       "Mini                 4\n",
       "Porsche              3\n",
       "Lexus                2\n",
       "Bugatti              2\n",
       "Jeep                 2\n",
       "Mg                   2\n",
       "Kia                  2\n",
       "Toyota               2\n",
       "Skoda                1\n",
       "Name: Make, dtype: int64"
      ]
     },
     "execution_count": 358,
     "metadata": {},
     "output_type": "execute_result"
    }
   ],
   "source": [
    "# Task 9\n",
    "\n",
    "safe=df[(df['Hill_Assist']=='Yes') & (df['Child_Safety_Locks']=='Yes') & (df['Passenger_Side_Seat-Belt_Reminder']=='Yes') & (df['High_Speed_Alert_System']=='Yes') & (df['ABS_(Anti-lock_Braking_System)']=='Yes') & (df['High_Speed_Alert_System']=='Yes') & (df['Fasten_Seat_Belt_Warning']=='Yes') & (df['Key_Off_Reminder']=='Yes') & (df['Headlight_Reminder']=='Yes')]\n",
    "#safe\n",
    "\n",
    "a=safe['Make'].value_counts()\n",
    "a\n",
    "\n"
   ]
  },
  {
   "cell_type": "code",
   "execution_count": 363,
   "id": "2b1ff6f4",
   "metadata": {},
   "outputs": [
    {
     "data": {
      "image/png": "[encoded data removed]",
      "text/plain": [
       "<Figure size 432x288 with 1 Axes>"
      ]
     },
     "metadata": {
      "needs_background": "light"
     },
     "output_type": "display_data"
    }
   ],
   "source": [
    "plt.barh(a.index,a.values)\n",
    "plt.title('Displaying 10 manufacture of such cars')\n",
    "plt.show()"
   ]
  },
  {
   "cell_type": "code",
   "execution_count": 383,
   "id": "2aeb9881",
   "metadata": {},
   "outputs": [
    {
     "data": {
      "text/plain": [
       "Normal                                     92\n",
       "Normal, Comfort, Eco, Sport                34\n",
       "Sport                                      18\n",
       "Normal, Eco                                11\n",
       "Normal, Eco, Sport                          9\n",
       "Normal, Comfort, Sport                      6\n",
       "Normal, Sport                               6\n",
       "Comfort, Eco, Sport                         4\n",
       "Comfort, Eco, Sport, Normal                 4\n",
       "Eco, Sport, Normal, Comfort                 3\n",
       "Eco, Sport                                  2\n",
       "Normal, Comfort, Eco, Sport, Power Mode     2\n",
       "Eco                                         1\n",
       "Eco, Sport, Normal                          1\n",
       "Sport, Normal, Eco                          1\n",
       "Sport, Normal, Comfort                      1\n",
       "Name: Drive_Modes, dtype: int64"
      ]
     },
     "execution_count": 383,
     "metadata": {},
     "output_type": "execute_result"
    }
   ],
   "source": [
    "# Task 10\n",
    "\n",
    "asc=df['Drive_Modes'].value_counts()\n",
    "asc"
   ]
  },
  {
   "cell_type": "code",
   "execution_count": 393,
   "id": "17219b49",
   "metadata": {},
   "outputs": [
    {
     "data": {
      "text/plain": [
       "Make\n",
       "Bmw        14.894946\n",
       "Hyundai    16.267567\n",
       "Tata       17.456098\n",
       "Name: City_Mileage_km_litre, dtype: float64"
      ]
     },
     "execution_count": 393,
     "metadata": {},
     "output_type": "execute_result"
    }
   ],
   "source": [
    "# Task 11\n",
    "wish=df[(df['Make']=='Hyundai') | (df['Make']=='Suzuki') | (df['Make']=='Tata') | (df['Make']=='Bmw')]\n",
    "#wish\n",
    "\n",
    "wish_avg=wish.groupby(by='Make')['City_Mileage_km_litre'].mean()\n",
    "wish_avg\n",
    "\n",
    "#wish_avg=wish['City_Mileage_km_litre'].mean()\n",
    "#wish_avg\n",
    "\n"
   ]
  },
  {
   "cell_type": "code",
   "execution_count": 394,
   "id": "0efb5b3f",
   "metadata": {},
   "outputs": [
    {
     "data": {
      "text/plain": [
       "(array([  1.,   1.,   1.,   3.,  34., 156.,  17.,  25.,   5.,  24.]),\n",
       " array([ 4.45 ,  6.417,  8.384, 10.351, 12.318, 14.285, 16.252, 18.219,\n",
       "        20.186, 22.153, 24.12 ]),\n",
       " <BarContainer object of 10 artists>)"
      ]
     },
     "execution_count": 394,
     "metadata": {},
     "output_type": "execute_result"
    },
    {
     "data": {
      "image/png": "[encoded data removed]",
      "text/plain": [
       "<Figure size 432x288 with 1 Axes>"
      ]
     },
     "metadata": {
      "needs_background": "light"
     },
     "output_type": "display_data"
    }
   ],
   "source": [
    "plt.hist(wish['City_Mileage_km_litre'])"
   ]
  },
  {
   "cell_type": "code",
   "execution_count": 395,
   "id": "00291bbf",
   "metadata": {},
   "outputs": [
    {
     "data": {
      "image/png": "[encoded data removed]",
      "text/plain": [
       "<Figure size 2160x720 with 1 Axes>"
      ]
     },
     "metadata": {
      "needs_background": "light"
     },
     "output_type": "display_data"
    }
   ],
   "source": [
    "wish.boxplot(column=['City_Mileage_km_litre'],by='Make',figsize=(30,10))\n",
    "plt.show()"
   ]
  },
  {
   "cell_type": "code",
   "execution_count": 397,
   "id": "be8ce1c6",
   "metadata": {},
   "outputs": [
    {
     "data": {
      "text/plain": [
       "(array([17.,  3., 75., 10.,  5., 11.,  3.,  4.,  0.,  2.]),\n",
       " array([13.1 , 14.19, 15.28, 16.37, 17.46, 18.55, 19.64, 20.73, 21.82,\n",
       "        22.91, 24.  ]),\n",
       " <BarContainer object of 10 artists>)"
      ]
     },
     "execution_count": 397,
     "metadata": {},
     "output_type": "execute_result"
    },
    {
     "data": {
      "image/png": "[encoded data removed]",
      "text/plain": [
       "<Figure size 432x288 with 1 Axes>"
      ]
     },
     "metadata": {
      "needs_background": "light"
     },
     "output_type": "display_data"
    }
   ],
   "source": [
    "wish1=df[(df['Make']=='Hyundai')]\n",
    "#wish1\n",
    "plt.hist(wish1['City_Mileage_km_litre'])"
   ]
  },
  {
   "cell_type": "code",
   "execution_count": 398,
   "id": "123ec23d",
   "metadata": {},
   "outputs": [
    {
     "data": {
      "text/plain": [
       "(array([ 3.,  4.,  8., 52.,  0.,  4.,  7.,  0.,  0., 22.]),\n",
       " array([10.8  , 12.132, 13.464, 14.796, 16.128, 17.46 , 18.792, 20.124,\n",
       "        21.456, 22.788, 24.12 ]),\n",
       " <BarContainer object of 10 artists>)"
      ]
     },
     "execution_count": 398,
     "metadata": {},
     "output_type": "execute_result"
    },
    {
     "data": {
      "image/png": "[encoded data removed]",
      "text/plain": [
       "<Figure size 432x288 with 1 Axes>"
      ]
     },
     "metadata": {
      "needs_background": "light"
     },
     "output_type": "display_data"
    }
   ],
   "source": [
    "wish2=df[(df['Make']=='Tata')]\n",
    "#wish1\n",
    "plt.hist(wish2['City_Mileage_km_litre'])"
   ]
  },
  {
   "cell_type": "code",
   "execution_count": 399,
   "id": "91bbb61c",
   "metadata": {},
   "outputs": [
    {
     "data": {
      "text/plain": [
       "(array([ 1.,  0.,  2.,  0.,  0.,  1.,  4.,  1., 25.,  3.]),\n",
       " array([ 4.45 ,  5.805,  7.16 ,  8.515,  9.87 , 11.225, 12.58 , 13.935,\n",
       "        15.29 , 16.645, 18.   ]),\n",
       " <BarContainer object of 10 artists>)"
      ]
     },
     "execution_count": 399,
     "metadata": {},
     "output_type": "execute_result"
    },
    {
     "data": {
      "image/png": "[encoded data removed]",
      "text/plain": [
       "<Figure size 432x288 with 1 Axes>"
      ]
     },
     "metadata": {
      "needs_background": "light"
     },
     "output_type": "display_data"
    }
   ],
   "source": [
    "wish3=df[(df['Make']=='Bmw')]\n",
    "#wish1\n",
    "plt.hist(wish3['City_Mileage_km_litre'])"
   ]
  }
 ],
 "metadata": {
  "kernelspec": {
   "display_name": "Python 3 (ipykernel)",
   "language": "python",
   "name": "python3"
  },
  "language_info": {
   "codemirror_mode": {
    "name": "ipython",
    "version": 3
   },
   "file_extension": ".py",
   "mimetype": "text/x-python",
   "name": "python",
   "nbconvert_exporter": "python",
   "pygments_lexer": "ipython3",
   "version": "3.9.7"
  }
 },
 "nbformat": 4,
 "nbformat_minor": 5
}
