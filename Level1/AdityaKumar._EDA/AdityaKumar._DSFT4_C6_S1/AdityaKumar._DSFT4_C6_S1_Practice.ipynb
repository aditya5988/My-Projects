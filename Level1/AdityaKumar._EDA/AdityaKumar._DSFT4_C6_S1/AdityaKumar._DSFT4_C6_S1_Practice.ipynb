{
 "cells": [
  {
   "cell_type": "markdown",
   "id": "0102a805",
   "metadata": {},
   "source": [
    "# 3 Levels for Exploring Data \n",
    "\n",
    "* Level 0 : Getting Started\n",
    "* Level 1 : Univariate Analysis\n",
    "* Level 2 : Bi-Variate Analysis\n",
    "* Lever 3 : Multivariate Analysis and asking questions from data "
   ]
  },
  {
   "cell_type": "markdown",
   "id": "1cd83a15",
   "metadata": {},
   "source": [
    "## Level 0 Tasks (Getting Started) \n",
    "\n",
    "1.Visually inspect the first few and last few rows of the data \\\n",
    "2.Check the shape of the data frame \\\n",
    "3.Check the count of null values in each column \\\n",
    "4.Inspect all the column names and cross check with the data dictionary \\\n",
    "5.Check the information of the data frame using the info() function \n",
    "\n",
    "\n"
   ]
  },
  {
   "cell_type": "markdown",
   "id": "5384e298",
   "metadata": {},
   "source": [
    "# Importing the necessary libraries "
   ]
  },
  {
   "cell_type": "code",
   "execution_count": 2,
   "id": "5cfe4d88",
   "metadata": {},
   "outputs": [],
   "source": [
    "import matplotlib.pyplot as plt             # to visualize\n",
    "from tabulate import tabulate               # to print the table\n",
    "import matplotlib as mat                    # to visualize \n",
    "import seaborn as sns                       # to visualize\n",
    "import pandas as pd                         # for data reading\n",
    "import numpy as np                          # for numerical computation"
   ]
  },
  {
   "cell_type": "code",
   "execution_count": 3,
   "id": "931e0dc7",
   "metadata": {},
   "outputs": [
    {
     "name": "stdout",
     "output_type": "stream",
     "text": [
      "Pandas version:  1.3.4\n",
      "Seaborn version:  0.11.2\n",
      "Matplotlib version:  3.4.3\n"
     ]
    }
   ],
   "source": [
    "# Checking the library versions \n",
    "print(\"Pandas version: \",pd.__version__)\n",
    "print(\"Seaborn version: \",sns.__version__)\n",
    "print(\"Matplotlib version: \",mat.__version__)"
   ]
  },
  {
   "cell_type": "markdown",
   "id": "100b3850",
   "metadata": {},
   "source": [
    "# Reading the file "
   ]
  },
  {
   "cell_type": "code",
   "execution_count": 4,
   "id": "d088672f",
   "metadata": {},
   "outputs": [],
   "source": [
    "# Ensure that the data file is in the current working directory as that of the jupyter notebook\n",
    "\n",
    "df = pd.read_csv(\"data.csv\") # read_csv: inbuilt function of pandas to read files "
   ]
  },
  {
   "cell_type": "markdown",
   "id": "05e1e494",
   "metadata": {},
   "source": [
    "# Level 0 analysis (Getting Started)"
   ]
  },
  {
   "cell_type": "markdown",
   "id": "88f829d9",
   "metadata": {},
   "source": [
    "# Reading the top 5 rows "
   ]
  },
  {
   "cell_type": "code",
   "execution_count": 5,
   "id": "a96e425a",
   "metadata": {},
   "outputs": [
    {
     "data": {
      "text/html": [
       "<div>\n",
       "<style scoped>\n",
       "    .dataframe tbody tr th:only-of-type {\n",
       "        vertical-align: middle;\n",
       "    }\n",
       "\n",
       "    .dataframe tbody tr th {\n",
       "        vertical-align: top;\n",
       "    }\n",
       "\n",
       "    .dataframe thead th {\n",
       "        text-align: right;\n",
       "    }\n",
       "</style>\n",
       "<table border=\"1\" class=\"dataframe\">\n",
       "  <thead>\n",
       "    <tr style=\"text-align: right;\">\n",
       "      <th></th>\n",
       "      <th>CLIENTNUM</th>\n",
       "      <th>Attrition_Flag</th>\n",
       "      <th>Customer_Age</th>\n",
       "      <th>Gender</th>\n",
       "      <th>Dependent_count</th>\n",
       "      <th>Education_Level</th>\n",
       "      <th>Marital_Status</th>\n",
       "      <th>Income_Category</th>\n",
       "      <th>Card_Category</th>\n",
       "      <th>Months_on_book</th>\n",
       "      <th>Total_Relationship_Count</th>\n",
       "      <th>Months_Inactive_12_mon</th>\n",
       "      <th>Contacts_Count_12_mon</th>\n",
       "      <th>Credit_Limit</th>\n",
       "      <th>Total_Revolving_Bal</th>\n",
       "      <th>Avg_Open_To_Buy</th>\n",
       "      <th>Total_Trans_Amt</th>\n",
       "      <th>Total_Trans_Ct</th>\n",
       "      <th>Avg_Utilization_Ratio</th>\n",
       "    </tr>\n",
       "  </thead>\n",
       "  <tbody>\n",
       "    <tr>\n",
       "      <th>0</th>\n",
       "      <td>768805383</td>\n",
       "      <td>Existing Customer</td>\n",
       "      <td>45</td>\n",
       "      <td>M</td>\n",
       "      <td>3</td>\n",
       "      <td>High School</td>\n",
       "      <td>Married</td>\n",
       "      <td>$60K - $80K</td>\n",
       "      <td>Blue</td>\n",
       "      <td>39</td>\n",
       "      <td>5</td>\n",
       "      <td>1</td>\n",
       "      <td>3</td>\n",
       "      <td>12691.0</td>\n",
       "      <td>777</td>\n",
       "      <td>11914.0</td>\n",
       "      <td>1144</td>\n",
       "      <td>42</td>\n",
       "      <td>0.061</td>\n",
       "    </tr>\n",
       "    <tr>\n",
       "      <th>1</th>\n",
       "      <td>818770008</td>\n",
       "      <td>Existing Customer</td>\n",
       "      <td>49</td>\n",
       "      <td>F</td>\n",
       "      <td>5</td>\n",
       "      <td>Graduate</td>\n",
       "      <td>Single</td>\n",
       "      <td>Less than $40K</td>\n",
       "      <td>Blue</td>\n",
       "      <td>44</td>\n",
       "      <td>6</td>\n",
       "      <td>1</td>\n",
       "      <td>2</td>\n",
       "      <td>8256.0</td>\n",
       "      <td>864</td>\n",
       "      <td>7392.0</td>\n",
       "      <td>1291</td>\n",
       "      <td>33</td>\n",
       "      <td>0.105</td>\n",
       "    </tr>\n",
       "    <tr>\n",
       "      <th>2</th>\n",
       "      <td>713982108</td>\n",
       "      <td>Existing Customer</td>\n",
       "      <td>51</td>\n",
       "      <td>M</td>\n",
       "      <td>3</td>\n",
       "      <td>Graduate</td>\n",
       "      <td>Married</td>\n",
       "      <td>$80K - $120K</td>\n",
       "      <td>Blue</td>\n",
       "      <td>36</td>\n",
       "      <td>4</td>\n",
       "      <td>1</td>\n",
       "      <td>0</td>\n",
       "      <td>3418.0</td>\n",
       "      <td>0</td>\n",
       "      <td>3418.0</td>\n",
       "      <td>1887</td>\n",
       "      <td>20</td>\n",
       "      <td>0.000</td>\n",
       "    </tr>\n",
       "    <tr>\n",
       "      <th>3</th>\n",
       "      <td>769911858</td>\n",
       "      <td>Existing Customer</td>\n",
       "      <td>40</td>\n",
       "      <td>F</td>\n",
       "      <td>4</td>\n",
       "      <td>High School</td>\n",
       "      <td>Unknown</td>\n",
       "      <td>Less than $40K</td>\n",
       "      <td>Blue</td>\n",
       "      <td>34</td>\n",
       "      <td>3</td>\n",
       "      <td>4</td>\n",
       "      <td>1</td>\n",
       "      <td>3313.0</td>\n",
       "      <td>2517</td>\n",
       "      <td>796.0</td>\n",
       "      <td>1171</td>\n",
       "      <td>20</td>\n",
       "      <td>0.760</td>\n",
       "    </tr>\n",
       "    <tr>\n",
       "      <th>4</th>\n",
       "      <td>709106358</td>\n",
       "      <td>Existing Customer</td>\n",
       "      <td>40</td>\n",
       "      <td>M</td>\n",
       "      <td>3</td>\n",
       "      <td>Uneducated</td>\n",
       "      <td>Married</td>\n",
       "      <td>$60K - $80K</td>\n",
       "      <td>Blue</td>\n",
       "      <td>21</td>\n",
       "      <td>5</td>\n",
       "      <td>1</td>\n",
       "      <td>0</td>\n",
       "      <td>4716.0</td>\n",
       "      <td>0</td>\n",
       "      <td>4716.0</td>\n",
       "      <td>816</td>\n",
       "      <td>28</td>\n",
       "      <td>0.000</td>\n",
       "    </tr>\n",
       "  </tbody>\n",
       "</table>\n",
       "</div>"
      ],
      "text/plain": [
       "   CLIENTNUM     Attrition_Flag  Customer_Age Gender  Dependent_count  \\\n",
       "0  768805383  Existing Customer            45      M                3   \n",
       "1  818770008  Existing Customer            49      F                5   \n",
       "2  713982108  Existing Customer            51      M                3   \n",
       "3  769911858  Existing Customer            40      F                4   \n",
       "4  709106358  Existing Customer            40      M                3   \n",
       "\n",
       "  Education_Level Marital_Status Income_Category Card_Category  \\\n",
       "0     High School        Married     $60K - $80K          Blue   \n",
       "1        Graduate         Single  Less than $40K          Blue   \n",
       "2        Graduate        Married    $80K - $120K          Blue   \n",
       "3     High School        Unknown  Less than $40K          Blue   \n",
       "4      Uneducated        Married     $60K - $80K          Blue   \n",
       "\n",
       "   Months_on_book  Total_Relationship_Count  Months_Inactive_12_mon  \\\n",
       "0              39                         5                       1   \n",
       "1              44                         6                       1   \n",
       "2              36                         4                       1   \n",
       "3              34                         3                       4   \n",
       "4              21                         5                       1   \n",
       "\n",
       "   Contacts_Count_12_mon  Credit_Limit  Total_Revolving_Bal  Avg_Open_To_Buy  \\\n",
       "0                      3       12691.0                  777          11914.0   \n",
       "1                      2        8256.0                  864           7392.0   \n",
       "2                      0        3418.0                    0           3418.0   \n",
       "3                      1        3313.0                 2517            796.0   \n",
       "4                      0        4716.0                    0           4716.0   \n",
       "\n",
       "   Total_Trans_Amt  Total_Trans_Ct  Avg_Utilization_Ratio  \n",
       "0             1144              42                  0.061  \n",
       "1             1291              33                  0.105  \n",
       "2             1887              20                  0.000  \n",
       "3             1171              20                  0.760  \n",
       "4              816              28                  0.000  "
      ]
     },
     "execution_count": 5,
     "metadata": {},
     "output_type": "execute_result"
    }
   ],
   "source": [
    "df.head() # head prints the top 5 rows "
   ]
  },
  {
   "cell_type": "markdown",
   "id": "cd2ccecb",
   "metadata": {},
   "source": [
    "# Reading the bottom 5 rows"
   ]
  },
  {
   "cell_type": "code",
   "execution_count": 6,
   "id": "fac4d378",
   "metadata": {},
   "outputs": [
    {
     "data": {
      "text/html": [
       "<div>\n",
       "<style scoped>\n",
       "    .dataframe tbody tr th:only-of-type {\n",
       "        vertical-align: middle;\n",
       "    }\n",
       "\n",
       "    .dataframe tbody tr th {\n",
       "        vertical-align: top;\n",
       "    }\n",
       "\n",
       "    .dataframe thead th {\n",
       "        text-align: right;\n",
       "    }\n",
       "</style>\n",
       "<table border=\"1\" class=\"dataframe\">\n",
       "  <thead>\n",
       "    <tr style=\"text-align: right;\">\n",
       "      <th></th>\n",
       "      <th>CLIENTNUM</th>\n",
       "      <th>Attrition_Flag</th>\n",
       "      <th>Customer_Age</th>\n",
       "      <th>Gender</th>\n",
       "      <th>Dependent_count</th>\n",
       "      <th>Education_Level</th>\n",
       "      <th>Marital_Status</th>\n",
       "      <th>Income_Category</th>\n",
       "      <th>Card_Category</th>\n",
       "      <th>Months_on_book</th>\n",
       "      <th>Total_Relationship_Count</th>\n",
       "      <th>Months_Inactive_12_mon</th>\n",
       "      <th>Contacts_Count_12_mon</th>\n",
       "      <th>Credit_Limit</th>\n",
       "      <th>Total_Revolving_Bal</th>\n",
       "      <th>Avg_Open_To_Buy</th>\n",
       "      <th>Total_Trans_Amt</th>\n",
       "      <th>Total_Trans_Ct</th>\n",
       "      <th>Avg_Utilization_Ratio</th>\n",
       "    </tr>\n",
       "  </thead>\n",
       "  <tbody>\n",
       "    <tr>\n",
       "      <th>10122</th>\n",
       "      <td>772366833</td>\n",
       "      <td>Existing Customer</td>\n",
       "      <td>50</td>\n",
       "      <td>M</td>\n",
       "      <td>2</td>\n",
       "      <td>Graduate</td>\n",
       "      <td>Single</td>\n",
       "      <td>$40K - $60K</td>\n",
       "      <td>Blue</td>\n",
       "      <td>40</td>\n",
       "      <td>3</td>\n",
       "      <td>2</td>\n",
       "      <td>3</td>\n",
       "      <td>4003.0</td>\n",
       "      <td>1851</td>\n",
       "      <td>2152.0</td>\n",
       "      <td>15476</td>\n",
       "      <td>117</td>\n",
       "      <td>0.462</td>\n",
       "    </tr>\n",
       "    <tr>\n",
       "      <th>10123</th>\n",
       "      <td>710638233</td>\n",
       "      <td>Attrited Customer</td>\n",
       "      <td>41</td>\n",
       "      <td>M</td>\n",
       "      <td>2</td>\n",
       "      <td>Unknown</td>\n",
       "      <td>Divorced</td>\n",
       "      <td>$40K - $60K</td>\n",
       "      <td>Blue</td>\n",
       "      <td>25</td>\n",
       "      <td>4</td>\n",
       "      <td>2</td>\n",
       "      <td>3</td>\n",
       "      <td>4277.0</td>\n",
       "      <td>2186</td>\n",
       "      <td>2091.0</td>\n",
       "      <td>8764</td>\n",
       "      <td>69</td>\n",
       "      <td>0.511</td>\n",
       "    </tr>\n",
       "    <tr>\n",
       "      <th>10124</th>\n",
       "      <td>716506083</td>\n",
       "      <td>Attrited Customer</td>\n",
       "      <td>44</td>\n",
       "      <td>F</td>\n",
       "      <td>1</td>\n",
       "      <td>High School</td>\n",
       "      <td>Married</td>\n",
       "      <td>Less than $40K</td>\n",
       "      <td>Blue</td>\n",
       "      <td>36</td>\n",
       "      <td>5</td>\n",
       "      <td>3</td>\n",
       "      <td>4</td>\n",
       "      <td>5409.0</td>\n",
       "      <td>0</td>\n",
       "      <td>5409.0</td>\n",
       "      <td>10291</td>\n",
       "      <td>60</td>\n",
       "      <td>0.000</td>\n",
       "    </tr>\n",
       "    <tr>\n",
       "      <th>10125</th>\n",
       "      <td>717406983</td>\n",
       "      <td>Attrited Customer</td>\n",
       "      <td>30</td>\n",
       "      <td>M</td>\n",
       "      <td>2</td>\n",
       "      <td>Graduate</td>\n",
       "      <td>Unknown</td>\n",
       "      <td>$40K - $60K</td>\n",
       "      <td>Blue</td>\n",
       "      <td>36</td>\n",
       "      <td>4</td>\n",
       "      <td>3</td>\n",
       "      <td>3</td>\n",
       "      <td>5281.0</td>\n",
       "      <td>0</td>\n",
       "      <td>5281.0</td>\n",
       "      <td>8395</td>\n",
       "      <td>62</td>\n",
       "      <td>0.000</td>\n",
       "    </tr>\n",
       "    <tr>\n",
       "      <th>10126</th>\n",
       "      <td>714337233</td>\n",
       "      <td>Attrited Customer</td>\n",
       "      <td>43</td>\n",
       "      <td>F</td>\n",
       "      <td>2</td>\n",
       "      <td>Graduate</td>\n",
       "      <td>Married</td>\n",
       "      <td>Less than $40K</td>\n",
       "      <td>Silver</td>\n",
       "      <td>25</td>\n",
       "      <td>6</td>\n",
       "      <td>2</td>\n",
       "      <td>4</td>\n",
       "      <td>10388.0</td>\n",
       "      <td>1961</td>\n",
       "      <td>8427.0</td>\n",
       "      <td>10294</td>\n",
       "      <td>61</td>\n",
       "      <td>0.189</td>\n",
       "    </tr>\n",
       "  </tbody>\n",
       "</table>\n",
       "</div>"
      ],
      "text/plain": [
       "       CLIENTNUM     Attrition_Flag  Customer_Age Gender  Dependent_count  \\\n",
       "10122  772366833  Existing Customer            50      M                2   \n",
       "10123  710638233  Attrited Customer            41      M                2   \n",
       "10124  716506083  Attrited Customer            44      F                1   \n",
       "10125  717406983  Attrited Customer            30      M                2   \n",
       "10126  714337233  Attrited Customer            43      F                2   \n",
       "\n",
       "      Education_Level Marital_Status Income_Category Card_Category  \\\n",
       "10122        Graduate         Single     $40K - $60K          Blue   \n",
       "10123         Unknown       Divorced     $40K - $60K          Blue   \n",
       "10124     High School        Married  Less than $40K          Blue   \n",
       "10125        Graduate        Unknown     $40K - $60K          Blue   \n",
       "10126        Graduate        Married  Less than $40K        Silver   \n",
       "\n",
       "       Months_on_book  Total_Relationship_Count  Months_Inactive_12_mon  \\\n",
       "10122              40                         3                       2   \n",
       "10123              25                         4                       2   \n",
       "10124              36                         5                       3   \n",
       "10125              36                         4                       3   \n",
       "10126              25                         6                       2   \n",
       "\n",
       "       Contacts_Count_12_mon  Credit_Limit  Total_Revolving_Bal  \\\n",
       "10122                      3        4003.0                 1851   \n",
       "10123                      3        4277.0                 2186   \n",
       "10124                      4        5409.0                    0   \n",
       "10125                      3        5281.0                    0   \n",
       "10126                      4       10388.0                 1961   \n",
       "\n",
       "       Avg_Open_To_Buy  Total_Trans_Amt  Total_Trans_Ct  Avg_Utilization_Ratio  \n",
       "10122           2152.0            15476             117                  0.462  \n",
       "10123           2091.0             8764              69                  0.511  \n",
       "10124           5409.0            10291              60                  0.000  \n",
       "10125           5281.0             8395              62                  0.000  \n",
       "10126           8427.0            10294              61                  0.189  "
      ]
     },
     "execution_count": 6,
     "metadata": {},
     "output_type": "execute_result"
    }
   ],
   "source": [
    "df.tail() # tail returns the bottom 5 rows"
   ]
  },
  {
   "cell_type": "markdown",
   "id": "553f9e65",
   "metadata": {},
   "source": [
    "#  Number of rows and columns "
   ]
  },
  {
   "cell_type": "code",
   "execution_count": 7,
   "id": "d24035a3",
   "metadata": {},
   "outputs": [
    {
     "name": "stdout",
     "output_type": "stream",
     "text": [
      "(10127, 19)\n"
     ]
    }
   ],
   "source": [
    "print(df.shape) #returns a tuple with the details number of rows and columns "
   ]
  },
  {
   "cell_type": "markdown",
   "id": "5f4e7189",
   "metadata": {},
   "source": [
    "# Display the names of all the columns"
   ]
  },
  {
   "cell_type": "code",
   "execution_count": 8,
   "id": "3a2e9811",
   "metadata": {},
   "outputs": [
    {
     "name": "stdout",
     "output_type": "stream",
     "text": [
      "Index(['CLIENTNUM', 'Attrition_Flag', 'Customer_Age', 'Gender',\n",
      "       'Dependent_count', 'Education_Level', 'Marital_Status',\n",
      "       'Income_Category', 'Card_Category', 'Months_on_book',\n",
      "       'Total_Relationship_Count', 'Months_Inactive_12_mon',\n",
      "       'Contacts_Count_12_mon', 'Credit_Limit', 'Total_Revolving_Bal',\n",
      "       'Avg_Open_To_Buy', 'Total_Trans_Amt', 'Total_Trans_Ct',\n",
      "       'Avg_Utilization_Ratio'],\n",
      "      dtype='object')\n"
     ]
    }
   ],
   "source": [
    "print(df.columns) # returns array of columns in dataset "
   ]
  },
  {
   "cell_type": "markdown",
   "id": "f1326faa",
   "metadata": {},
   "source": [
    "# Displaying the dataset information"
   ]
  },
  {
   "cell_type": "code",
   "execution_count": 9,
   "id": "e1a8aed6",
   "metadata": {},
   "outputs": [
    {
     "name": "stdout",
     "output_type": "stream",
     "text": [
      "<class 'pandas.core.frame.DataFrame'>\n",
      "RangeIndex: 10127 entries, 0 to 10126\n",
      "Data columns (total 19 columns):\n",
      " #   Column                    Non-Null Count  Dtype  \n",
      "---  ------                    --------------  -----  \n",
      " 0   CLIENTNUM                 10127 non-null  int64  \n",
      " 1   Attrition_Flag            10127 non-null  object \n",
      " 2   Customer_Age              10127 non-null  int64  \n",
      " 3   Gender                    10034 non-null  object \n",
      " 4   Dependent_count           10127 non-null  int64  \n",
      " 5   Education_Level           10127 non-null  object \n",
      " 6   Marital_Status            10127 non-null  object \n",
      " 7   Income_Category           10127 non-null  object \n",
      " 8   Card_Category             9995 non-null   object \n",
      " 9   Months_on_book            10127 non-null  int64  \n",
      " 10  Total_Relationship_Count  10127 non-null  int64  \n",
      " 11  Months_Inactive_12_mon    10127 non-null  int64  \n",
      " 12  Contacts_Count_12_mon     10127 non-null  int64  \n",
      " 13  Credit_Limit              10067 non-null  float64\n",
      " 14  Total_Revolving_Bal       10127 non-null  int64  \n",
      " 15  Avg_Open_To_Buy           10127 non-null  float64\n",
      " 16  Total_Trans_Amt           10127 non-null  int64  \n",
      " 17  Total_Trans_Ct            10127 non-null  int64  \n",
      " 18  Avg_Utilization_Ratio     10127 non-null  float64\n",
      "dtypes: float64(3), int64(10), object(6)\n",
      "memory usage: 1.5+ MB\n"
     ]
    }
   ],
   "source": [
    "df.info()       # returns the information about the dataset"
   ]
  },
  {
   "cell_type": "markdown",
   "id": "bb4c0e53",
   "metadata": {},
   "source": [
    "# Checking if there are null values in any columns"
   ]
  },
  {
   "cell_type": "code",
   "execution_count": 10,
   "id": "095f54bf",
   "metadata": {},
   "outputs": [
    {
     "data": {
      "text/plain": [
       "CLIENTNUM                     0\n",
       "Attrition_Flag                0\n",
       "Customer_Age                  0\n",
       "Gender                       93\n",
       "Dependent_count               0\n",
       "Education_Level               0\n",
       "Marital_Status                0\n",
       "Income_Category               0\n",
       "Card_Category               132\n",
       "Months_on_book                0\n",
       "Total_Relationship_Count      0\n",
       "Months_Inactive_12_mon        0\n",
       "Contacts_Count_12_mon         0\n",
       "Credit_Limit                 60\n",
       "Total_Revolving_Bal           0\n",
       "Avg_Open_To_Buy               0\n",
       "Total_Trans_Amt               0\n",
       "Total_Trans_Ct                0\n",
       "Avg_Utilization_Ratio         0\n",
       "dtype: int64"
      ]
     },
     "execution_count": 10,
     "metadata": {},
     "output_type": "execute_result"
    }
   ],
   "source": [
    "df.isnull().sum()       # isnull returns the True/False dataframe\n",
    "                            #sum: counts the number of True in columns"
   ]
  },
  {
   "cell_type": "markdown",
   "id": "89af25b8",
   "metadata": {},
   "source": [
    "LEVEL 1 Analysis \n",
    "-------------------------\n",
    "Identify if the type data in each column is categorical or numerical?\n",
    "1. Separate out the categorical columns from the numerical types\n",
    "\n",
    "### These are the kind of analyses that can be performed on categorical data\n",
    "1. Check if it is Nominal or Ordinal \n",
    "2. Check how many categories are present\n",
    "3. Check the Mode \n",
    "4. Check for Missing values \n",
    "5. Think about how the missing values could be treated\n",
    "6. Think about the kind of graph/chart that can be plotted using this data\n",
    "\n",
    "Note: We are analyzing only one column at a time (Univariate Analysis)."
   ]
  },
  {
   "cell_type": "markdown",
   "id": "b3cc7630",
   "metadata": {},
   "source": [
    "# Separating Categorical and Numerical Variables"
   ]
  },
  {
   "cell_type": "code",
   "execution_count": 11,
   "id": "304aa055",
   "metadata": {},
   "outputs": [
    {
     "name": "stdout",
     "output_type": "stream",
     "text": [
      "categorical               continuous\n",
      "------------------------  ---------------------\n",
      "Attrition_Flag            CLIENTNUM\n",
      "Gender                    Customer_Age\n",
      "Dependent_count           Credit_Limit\n",
      "Education_Level           Total_Revolving_Bal\n",
      "Marital_Status            Avg_Open_To_Buy\n",
      "Income_Category           Total_Trans_Amt\n",
      "Card_Category             Total_Trans_Ct\n",
      "Months_on_book            Avg_Utilization_Ratio\n",
      "Total_Relationship_Count\n",
      "Months_Inactive_12_mon\n",
      "Contacts_Count_12_mon\n"
     ]
    }
   ],
   "source": [
    "# Seprating out the categorical and continuous variables\n",
    "def seprate_data_types(df):\n",
    "    categorical = []\n",
    "    continuous = []\n",
    "    for column in df.columns:                # looping on the number of columns\n",
    "        if df[column].nunique() < 100:       # nunique:  returns unique values in the column,\n",
    "                                                    #here 100 is the hyperparamter and can be changed\n",
    "            categorical.append(column)\n",
    "        else:\n",
    "            continuous.append(column)\n",
    "            \n",
    "    return categorical, continuous \n",
    "\n",
    "\n",
    "categorical, continuous = seprate_data_types(df)         # Calling the function\n",
    "\n",
    "# # Tabulate is a package used to print the list, dict or any data sets in a proper format; in table format\n",
    "from tabulate import tabulate\n",
    "table = [categorical, continuous]\n",
    "print(tabulate({\"Categorical\":categorical,\n",
    "                \"continuous\": continuous}, headers = [\"categorical\", \"continuous\"]))"
   ]
  },
  {
   "cell_type": "markdown",
   "id": "8ee94c9f",
   "metadata": {},
   "source": [
    "\n",
    "# $$\\;\\;\\;\\; Univariate \\ Analysis \\ of \\ Categorical \\ Variables$$"
   ]
  },
  {
   "cell_type": "markdown",
   "id": "30e23e89",
   "metadata": {},
   "source": [
    "## Level 1 Analysis (Univariate Analysis)"
   ]
  },
  {
   "cell_type": "markdown",
   "id": "99404ebb",
   "metadata": {},
   "source": [
    "### User defined function for level 1 analysis of categorical columns\n",
    "This function will check for the following \\\n",
    "Unique values \\\n",
    "Mode \\\n",
    "Sum of all the null values \\\n",
    "Total count of missing values "
   ]
  },
  {
   "cell_type": "code",
   "execution_count": 12,
   "id": "221d0ed6",
   "metadata": {},
   "outputs": [],
   "source": [
    "def info_of_cat(col): \n",
    "    print(f\"Unique values in {col} are: {df[col].unique()}\") # unique: returns the unique values in the col\n",
    "    print(f\"Mode of {col} is {df[col].mode()[0]}\")  # mode: returns the mode of the column\n",
    "    print(f\"Number of missing values in {col} is {df[col].isnull().sum()}\") # isnull().sum() counts the number of null in dataframe\n",
    "    if df[col].isnull().sum() > 0:  # check if null values are present\n",
    "        print(f\"\\nThere are null values in the {col} column\")\n",
    "    "
   ]
  },
  {
   "cell_type": "markdown",
   "id": "ff2aa15a",
   "metadata": {},
   "source": [
    "# 1. Analysis of Attrition Flag: If the account is closed, then Attired Customer else Existing Customer\n",
    "LEVEL 1 Analysis of Categorical Data (Univariate Analysis) "
   ]
  },
  {
   "cell_type": "code",
   "execution_count": 13,
   "id": "e256edc5",
   "metadata": {},
   "outputs": [
    {
     "name": "stdout",
     "output_type": "stream",
     "text": [
      "Unique values in Attrition_Flag are: ['Existing Customer' 'Attrited Customer']\n",
      "Mode of Attrition_Flag is Existing Customer\n",
      "Number of missing values in Attrition_Flag is 0\n"
     ]
    }
   ],
   "source": [
    "info_of_cat(\"Attrition_Flag\")"
   ]
  },
  {
   "cell_type": "markdown",
   "id": "e18946e6",
   "metadata": {},
   "source": [
    "###### Attrition Flag is a nominal datatype."
   ]
  },
  {
   "cell_type": "code",
   "execution_count": 14,
   "id": "acbc77e3",
   "metadata": {},
   "outputs": [
    {
     "data": {
      "image/png": "[encoded data removed]",
      "text/plain": [
       "<Figure size 1080x504 with 2 Axes>"
      ]
     },
     "metadata": {
      "needs_background": "light"
     },
     "output_type": "display_data"
    }
   ],
   "source": [
    "fig, ax = plt.subplots(1, 2, figsize = (15, 7))\n",
    "ax[0].set_title(\"Count of Attrition Flag\")                  # Set the title of the graph\n",
    "percentage = df[\"Attrition_Flag\"].value_counts()         # value_counts: returns the count of values in series: return series\n",
    "labels = list(df[\"Attrition_Flag\"].value_counts().index) # Converting the index of value counts into list\n",
    "\n",
    "sns.countplot(x = df[\"Attrition_Flag\"], ax = ax[0])\n",
    "plt.pie(percentage,labels = labels, autopct= \"%0.2f%%\")  # autopct: to print the percentage on pie wedge. 2 decimal points used \n",
    "\n",
    "plt.show()"
   ]
  },
  {
   "cell_type": "markdown",
   "id": "4652b82c",
   "metadata": {},
   "source": [
    "## Interpretation: The dataset indicates that 16% of the customers left the bank while 84% of the customers are still with it."
   ]
  },
  {
   "cell_type": "markdown",
   "id": "a37c204a",
   "metadata": {},
   "source": [
    "# 2. Analysis of  Gender column: Gender of a person (Male or Female)\n",
    "LEVEL 1 Analysis of Categorical Data (Univariate Analysis) "
   ]
  },
  {
   "cell_type": "code",
   "execution_count": 15,
   "id": "659533cf",
   "metadata": {},
   "outputs": [
    {
     "name": "stdout",
     "output_type": "stream",
     "text": [
      "Unique values in Gender are: ['M' 'F' nan]\n",
      "Mode of Gender is F\n",
      "Number of missing values in Gender is 93\n",
      "\n",
      "There are null values in the Gender column\n"
     ]
    }
   ],
   "source": [
    "info_of_cat(\"Gender\")"
   ]
  },
  {
   "cell_type": "markdown",
   "id": "8a87b235",
   "metadata": {},
   "source": [
    "###### Gender is a nominal datatype (Categorical)."
   ]
  },
  {
   "cell_type": "markdown",
   "id": "93a82faa",
   "metadata": {},
   "source": [
    "##    Way to fill: Mode of the Gender Column\n",
    "\n",
    "Note: Mode is not the perfect way to fill the missing value in this case. One might need to handle such a situation with caution. This is for demonstration purposes only. "
   ]
  },
  {
   "cell_type": "code",
   "execution_count": 16,
   "id": "621884b3",
   "metadata": {},
   "outputs": [
    {
     "name": "stdout",
     "output_type": "stream",
     "text": [
      "F\n"
     ]
    }
   ],
   "source": [
    "gender_mode = df.Gender.mode()[0]\n",
    "print(gender_mode)\n",
    "df[\"Gender\"].fillna(gender_mode, inplace = True)"
   ]
  },
  {
   "cell_type": "code",
   "execution_count": 17,
   "id": "e6e3f50a",
   "metadata": {},
   "outputs": [
    {
     "data": {
      "image/png": "[encoded data removed]",
      "text/plain": [
       "<Figure size 1080x504 with 2 Axes>"
      ]
     },
     "metadata": {
      "needs_background": "light"
     },
     "output_type": "display_data"
    }
   ],
   "source": [
    "fig, ax = plt.subplots(1, 2, figsize = (15, 7))\n",
    "data = df[\"Gender\"].value_counts()                                  # Value count is an inbuilt function to calculate the number of classes                                                                       #in gender columns\n",
    "labels =data.keys()                                                  #data keys provide the index names but this function provides the columns \n",
    "                                                                     #names if called on dataframe\n",
    "sns.countplot(x = df[\"Gender\"], ax = ax[0])\n",
    "plt.pie(x = data, autopct = \"%.1f%%\", explode = [0.02, 0.0], labels = labels, pctdistance = 0.5) # pctdistance is the distance between the percentage\n",
    "                                                                     # on pie chart from center.\n",
    "                                                                     #  explode is to split the slices by the distance provided\n",
    "                                                                     # autopct: is used to print the number on pie slices.  \n",
    "\n",
    "plt.show()\n"
   ]
  },
  {
   "cell_type": "markdown",
   "id": "76c43e4c",
   "metadata": {},
   "source": [
    "## Interpretation: Female customers are more in number, contributing to 53%."
   ]
  },
  {
   "cell_type": "markdown",
   "id": "3547152c",
   "metadata": {},
   "source": [
    "# 3. Analysis of  Dependent Count: Number of dependents on each customer \n",
    "LEVEL 1 Analysis of Categorical Data (Univariate Analysis) "
   ]
  },
  {
   "cell_type": "code",
   "execution_count": 18,
   "id": "9ca7b30f",
   "metadata": {},
   "outputs": [
    {
     "name": "stdout",
     "output_type": "stream",
     "text": [
      "Unique values in Dependent_count are: [  3   5   4   2   0   1   9  29 103  22  25  78  90  35  60  42 119 104\n",
      "  88  48  34 143 100  59 130  95   7  82  69  92 110  17  10  27  19 109\n",
      " 142 116 113 125  80  63  24  97 102  52  87  11 117  13  67  89  61  72\n",
      " 120  76]\n",
      "Mode of Dependent_count is 3\n",
      "Number of missing values in Dependent_count is 0\n"
     ]
    }
   ],
   "source": [
    "info_of_cat(\"Dependent_count\") # check for the unique values in the feature"
   ]
  },
  {
   "cell_type": "markdown",
   "id": "a090842d",
   "metadata": {},
   "source": [
    "###### Dependent_count is an ordinal datatype (Categorical) as it has a hierarchy in it."
   ]
  },
  {
   "cell_type": "markdown",
   "id": "d999ede3",
   "metadata": {},
   "source": [
    "## Interpretation: Some people are having many dependents on them. This could be a result of human error in data.\n",
    "\n",
    "Note: This might not always be the correct approach unless verified by a domain expert! "
   ]
  },
  {
   "cell_type": "code",
   "execution_count": 19,
   "id": "bcefc900",
   "metadata": {},
   "outputs": [
    {
     "data": {
      "text/plain": [
       "<Figure size 720x432 with 0 Axes>"
      ]
     },
     "execution_count": 19,
     "metadata": {},
     "output_type": "execute_result"
    },
    {
     "data": {
      "text/plain": [
       "<Figure size 720x432 with 0 Axes>"
      ]
     },
     "metadata": {},
     "output_type": "display_data"
    }
   ],
   "source": [
    "plt.figure(figsize=(10,6))"
   ]
  },
  {
   "cell_type": "code",
   "execution_count": 20,
   "id": "89ab2394",
   "metadata": {},
   "outputs": [
    {
     "data": {
      "image/png": "[encoded data removed]",
      "text/plain": [
       "<Figure size 2160x720 with 1 Axes>"
      ]
     },
     "metadata": {
      "needs_background": "light"
     },
     "output_type": "display_data"
    }
   ],
   "source": [
    "fig, ax = plt.subplots(figsize= (10, 7))\n",
    "ax = sns.countplot(x = df[\"Dependent_count\"])\n",
    "for bar in ax.patches:                                              # ax.patches returns the rectange object from matplotlib\n",
    "    percentage = f\"{round(bar.get_height() /len(df), 2)}%\"          # first it calculate the bar height and then dividing by the number of rows in data(to calculate percentage) \n",
    "                                                                    # and multiply with 100 to get the percentage and rounding of by 2 numbers.  \n",
    "    x = bar.get_x() + bar.get_width() /2                            # get_x: returns the left corrdinate of the rectange, get_width: returns width of rectagle\n",
    "    y = bar.get_height()                                            # get_height: returns height of rectange\n",
    "    ax.annotate(percentage, (x, y), va = \"bottom\", ha =\"center\" )   # va bottom: means percentage would be above the bar head. \n",
    "    fig.set_figheight(10)                                                             # annotate: used to annotate over objects, here objects are the bars\n",
    "    fig.set_figwidth(30)\n",
    "plt.show()"
   ]
  },
  {
   "cell_type": "markdown",
   "id": "809729cd",
   "metadata": {},
   "source": [
    "\n",
    "## Interpretation: Very few people are having more than 5 dependents. However, there are some cases where the dependent count is greater than 100, which is abnormal. Hence, data clearing might be  required. "
   ]
  },
  {
   "cell_type": "markdown",
   "id": "9a85fce3",
   "metadata": {},
   "source": [
    "# Outliers Analysis and Treatment:\n",
    "The customers who have a Dependent Count greater than the 5 are replaced with the mean of the population."
   ]
  },
  {
   "cell_type": "code",
   "execution_count": 21,
   "id": "e41ed6ab",
   "metadata": {},
   "outputs": [],
   "source": [
    "# Making changes in data\n",
    "mean = int(df.Dependent_count.mean())\n",
    "# accessing the data higher than 6\n",
    "x = df[df[\"Dependent_count\"] > 5].index\n",
    "for index in x:\n",
    "    df.loc[index, \"Dependent_count\"] = mean"
   ]
  },
  {
   "cell_type": "code",
   "execution_count": 22,
   "id": "e01cc3ba",
   "metadata": {},
   "outputs": [
    {
     "name": "stdout",
     "output_type": "stream",
     "text": [
      "Unique values in Dependent_count are: [3 5 4 2 0 1]\n",
      "Mode of Dependent_count is 3\n",
      "Number of missing values in Dependent_count is 0\n"
     ]
    }
   ],
   "source": [
    "info_of_cat(\"Dependent_count\")"
   ]
  },
  {
   "cell_type": "code",
   "execution_count": 23,
   "id": "63dd0de9",
   "metadata": {},
   "outputs": [
    {
     "data": {
      "image/png": "[encoded data removed]",
      "text/plain": [
       "<Figure size 720x504 with 1 Axes>"
      ]
     },
     "metadata": {
      "needs_background": "light"
     },
     "output_type": "display_data"
    }
   ],
   "source": [
    "fig, ax = plt.subplots(figsize= (10, 7))\n",
    "ax = sns.countplot(x = df[\"Dependent_count\"])\n",
    "for bar in ax.patches:                                              # ax.patches returns the rectange object from matplotlib\n",
    "    percentage = f\"{round(bar.get_height() /len(df), 2)}%\"          # first it calculate the bar height and then dividing by the number of rows in data(to calculate percentage) \n",
    "                                                                    # and multiply with 100 to get the percentage and rounding of by 2 numbers.  \n",
    "    x = bar.get_x() + bar.get_width() /2                            # get_x: returns the left corrdinate of the rectange, get_width: returns width of rectagle\n",
    "    y = bar.get_height()                                            # get_height: returns height of rectange\n",
    "    ax.annotate(percentage, (x, y), va = \"bottom\", ha =\"center\" )   # va bottom: means percentage would be above the bar head. \n",
    "                                                                    # annotate: used to annotate over objects, here objects are the bars\n",
    "plt.show()"
   ]
  },
  {
   "cell_type": "markdown",
   "id": "f418dae9",
   "metadata": {},
   "source": [
    "## Interpretation: Card holders usually have 2 to 3 dependents on them which adds up to 53% of the total population."
   ]
  },
  {
   "cell_type": "markdown",
   "id": "437c3874",
   "metadata": {},
   "source": [
    "# 4. Analysis of  Education Level: Education level of a card holder \n",
    "LEVEL 1 Analysis of Categorical Data (Univariate Analysis) "
   ]
  },
  {
   "cell_type": "code",
   "execution_count": 24,
   "id": "8b389277",
   "metadata": {},
   "outputs": [
    {
     "name": "stdout",
     "output_type": "stream",
     "text": [
      "Unique values in Education_Level are: ['High School' 'Graduate' 'Uneducated' 'Unknown' 'College' 'Post-Graduate'\n",
      " 'Doctorate']\n",
      "Mode of Education_Level is Graduate\n",
      "Number of missing values in Education_Level is 0\n"
     ]
    }
   ],
   "source": [
    "info_of_cat( \"Education_Level\")"
   ]
  },
  {
   "cell_type": "markdown",
   "id": "3229cdd2",
   "metadata": {},
   "source": [
    "###### Education_Level is an ordinal datatype (Categorical) as it is having a hierarchy in it."
   ]
  },
  {
   "cell_type": "code",
   "execution_count": 25,
   "id": "a9a569a6",
   "metadata": {},
   "outputs": [
    {
     "data": {
      "image/png": "[encoded data removed]",
      "text/plain": [
       "<Figure size 720x504 with 1 Axes>"
      ]
     },
     "metadata": {
      "needs_background": "light"
     },
     "output_type": "display_data"
    }
   ],
   "source": [
    "# Plot the graph-\n",
    "fig, ax = plt.subplots(figsize= (10, 7))\n",
    "ax = sns.countplot(x = df[\"Education_Level\"])\n",
    "ax.set_xticklabels(ax.get_xticklabels(), rotation = 40 , ha = \"right\") # set_xticklabels is used to set the labels of the x axis\n",
    "                                                                       # ax.get_xtickslabels() returns all the labels that we need to print\n",
    "                                                                       # rotation: rotate the xlabels at angle provided, and\n",
    "                                                                       # ha: Horizontal axis:-> how you want to keep it. can be changed to center, left, right\n",
    "count = len(df[\"Education_Level\"])                                     # counting the number of rows in whole dataset\n",
    "for bar in ax.patches:                                                 # ax.patches returns the rectange object from matplotlib \n",
    "    percentage = f\"{round(bar.get_height()/count, 2)*100} %\"           # first it calculate the bar heightand then dividing by the number of row(to calculate percentage)\n",
    "                                                                            # in data and multiply with 100 to get the percentage and rounding of by 2 numbers.  \n",
    "    x = bar.get_x() + bar.get_width() /2                                # get_x: returns the left corrdinate of the rectange, get_width: returns width of rectagle\n",
    "    y = bar.get_height()                                                # get_height: returns height of rectangle bar.\n",
    "    ax.annotate(percentage, (x, y), ha = \"center\", va = \"top\")          # va: Vertical axis: -> top means percentage would bneath the bar head\n",
    "                                                                        # annotate: used to annotate over objects. here objects are the bars \n",
    "plt.show()"
   ]
  },
  {
   "cell_type": "markdown",
   "id": "d8a39193",
   "metadata": {},
   "source": [
    "## Interpretation: Most people are graduates or have completed high school, which adds up to 51% of the total population."
   ]
  },
  {
   "cell_type": "markdown",
   "id": "80abb4c2",
   "metadata": {},
   "source": [
    "# 5. Analysis of  Marital Status: Marital status of a card holder\n",
    "LEVEL 1 Analysis of Categorical Data (Univariate Analysis) "
   ]
  },
  {
   "cell_type": "code",
   "execution_count": 26,
   "id": "94f72cd2",
   "metadata": {},
   "outputs": [
    {
     "name": "stdout",
     "output_type": "stream",
     "text": [
      "Unique values in Marital_Status are: ['Married' 'Single' 'Unknown' 'Divorced']\n",
      "Mode of Marital_Status is Married\n",
      "Number of missing values in Marital_Status is 0\n"
     ]
    }
   ],
   "source": [
    "info_of_cat(\"Marital_Status\")"
   ]
  },
  {
   "cell_type": "markdown",
   "id": "0a57f10c",
   "metadata": {},
   "source": [
    "###### Marital_Status is a nominal datatype (Categorical)."
   ]
  },
  {
   "cell_type": "code",
   "execution_count": 27,
   "id": "336e083f",
   "metadata": {},
   "outputs": [
    {
     "name": "stdout",
     "output_type": "stream",
     "text": [
      "Married     46.282216\n",
      "Single      38.935519\n",
      "Unknown      7.396070\n",
      "Divorced     7.386195\n",
      "Name: Marital_Status, dtype: float64\n"
     ]
    },
    {
     "data": {
      "image/png": "[encoded data removed]",
      "text/plain": [
       "<Figure size 1080x432 with 2 Axes>"
      ]
     },
     "metadata": {
      "needs_background": "light"
     },
     "output_type": "display_data"
    }
   ],
   "source": [
    "fig, ax = plt.subplots(1, 2, figsize = (15, 6))\n",
    "percentage = (df[\"Marital_Status\"].value_counts()/len(df))*100      # value count is a function to calulate the number of the column marital status \n",
    "                                                                        #keeping its classes as index. \n",
    "print(percentage)\n",
    "sns.countplot(x = df[\"Marital_Status\"], ax = ax[0])\n",
    "labels = list(df[\"Marital_Status\"].value_counts().index)            # value_counts returns the count of the classes present in the marital status and its index which is the class name \n",
    "                                                                         # is accessed by the index; in sequence format and then converted into the list. \n",
    "ax[1].pie(percentage,labels = labels, autopct= \"%0.2f%%\")           # autpct: is the way how the number would print on the graph.\n",
    "plt.show()"
   ]
  },
  {
   "cell_type": "markdown",
   "id": "64194395",
   "metadata": {},
   "source": [
    "## Interpretation:  46% of the people are Married and 39% are Single. "
   ]
  },
  {
   "cell_type": "markdown",
   "id": "2f0e9171",
   "metadata": {},
   "source": [
    "# 6. Analysis of  Income Category: Income category of a card holder\n",
    "\n",
    "LEVEL 1 Analysis of Categorical Data (Univariate Analysis) \n"
   ]
  },
  {
   "cell_type": "code",
   "execution_count": 28,
   "id": "1643ab9a",
   "metadata": {},
   "outputs": [
    {
     "name": "stdout",
     "output_type": "stream",
     "text": [
      "Unique values in Income_Category are: ['$60K - $80K' 'Less than $40K' '$80K - $120K' '$40K - $60K' '$120K +'\n",
      " 'Unknown']\n",
      "Mode of Income_Category is Less than $40K\n",
      "Number of missing values in Income_Category is 0\n"
     ]
    }
   ],
   "source": [
    "info_of_cat( \"Income_Category\")"
   ]
  },
  {
   "cell_type": "markdown",
   "id": "5e6fe487",
   "metadata": {},
   "source": [
    "###### Income_Category is an ordinal datatype (Categorical) as it is having a hierarchy in it."
   ]
  },
  {
   "cell_type": "code",
   "execution_count": 29,
   "id": "616636d8",
   "metadata": {},
   "outputs": [
    {
     "name": "stdout",
     "output_type": "stream",
     "text": [
      "Less than $40K    35.163425\n",
      "$40K - $60K       17.675521\n",
      "$80K - $120K      15.157500\n",
      "$60K - $80K       13.844179\n",
      "Unknown           10.980547\n",
      "$120K +            7.178829\n",
      "Name: Income_Category, dtype: float64\n"
     ]
    },
    {
     "data": {
      "image/png": "[encoded data removed]",
      "text/plain": [
       "<Figure size 720x288 with 1 Axes>"
      ]
     },
     "metadata": {
      "needs_background": "light"
     },
     "output_type": "display_data"
    }
   ],
   "source": [
    "print((df[\"Income_Category\"].value_counts()/len(df))*100)               #First calculated the number of income category via value counts inbuilt function and then \n",
    "                                                                            #calculated the percentage of it.\n",
    "fig, ax = plt.subplots(figsize = (10, 4))\n",
    "sns.countplot(x = df[ 'Income_Category'], ax = ax)\n",
    "for bar in ax.patches:                                                  # ax.patches returns the rectange object from matplotlib\n",
    "    percentage = f\"{round((bar.get_height() /df.shape[0])*100 , 2)} %\"  # first it calculate the bar height and then dividing by the number of rows in data and \n",
    "                                                                            #multiply with 100 to get the percentage and rounding of by 2 numbers.  \n",
    "    x = bar.get_x() + bar.get_width() /2                                # get_x: returns the left corrdinate of the rectange, get_width: returns width of rectagle\n",
    "    y = bar.get_height()                                                # get_height: returns height of rectange\n",
    "    ax.annotate(percentage, (x, y), va= \"bottom\", ha = \"center\" )       # annotate: used to annotate over objects. here objects are the bars.\n",
    "plt.show()"
   ]
  },
  {
   "cell_type": "markdown",
   "id": "6669ee5c",
   "metadata": {},
   "source": [
    "## Interpretation: Majority of the population is earning less than $40k."
   ]
  },
  {
   "cell_type": "markdown",
   "id": "13b8fee0",
   "metadata": {},
   "source": [
    "# 7. Analysis of  Card Category: Type of card\n",
    "LEVEL 1 Analysis of Categorical Data (Univariate Analysis) \n"
   ]
  },
  {
   "cell_type": "code",
   "execution_count": 30,
   "id": "624fd349",
   "metadata": {},
   "outputs": [
    {
     "name": "stdout",
     "output_type": "stream",
     "text": [
      "Unique values in Card_Category are: ['Blue' 'Gold' 'Silver' nan 'Platinum']\n",
      "Mode of Card_Category is Blue\n",
      "Number of missing values in Card_Category is 132\n",
      "\n",
      "There are null values in the Card_Category column\n"
     ]
    }
   ],
   "source": [
    "info_of_cat(\"Card_Category\")"
   ]
  },
  {
   "cell_type": "markdown",
   "id": "a9742117",
   "metadata": {},
   "source": [
    "###### Card_Category is a nominal datatype (Categorical)."
   ]
  },
  {
   "cell_type": "markdown",
   "id": "aa4cb9c2",
   "metadata": {},
   "source": [
    "##    Missing value treatment:  Mode of the Card Type\n",
    "\n",
    "Note: Mode is not a perfect way to  way to fill the missing value in this case. One might need to handle such a situation with caution by consulting the domain expert. This is for demonstration purposes only. "
   ]
  },
  {
   "cell_type": "code",
   "execution_count": 31,
   "id": "5d46e94c",
   "metadata": {
    "scrolled": true
   },
   "outputs": [
    {
     "name": "stdout",
     "output_type": "stream",
     "text": [
      "Blue\n"
     ]
    }
   ],
   "source": [
    "card_mode = df.Card_Category.mode()[0]\n",
    "print(card_mode)\n",
    "df[\"Card_Category\"].fillna(card_mode, inplace = True)"
   ]
  },
  {
   "cell_type": "code",
   "execution_count": 32,
   "id": "df327be4",
   "metadata": {},
   "outputs": [
    {
     "name": "stdout",
     "output_type": "stream",
     "text": [
      "Blue        9447\n",
      "Silver       544\n",
      "Gold         116\n",
      "Platinum      20\n",
      "Name: Card_Category, dtype: int64\n"
     ]
    },
    {
     "data": {
      "image/png": "[encoded data removed]",
      "text/plain": [
       "<Figure size 1440x432 with 2 Axes>"
      ]
     },
     "metadata": {
      "needs_background": "light"
     },
     "output_type": "display_data"
    }
   ],
   "source": [
    "data = df[\"Card_Category\"].value_counts()                                   #value count is counting the number of values in the column\n",
    "print(data)\n",
    "pie, ax = plt.subplots(1, 2, figsize = [20,6])\n",
    "labels =data.keys()                                                         # Keys returning you the index names in the data\n",
    "ax[0].pie(x = data, explode = [0.2, 0.2, 0.45, 0.67], labels = labels)         # pctdistance is the distance between the percentage on pie chart from center.\n",
    "                                                                                #  explode is to split the slices by the distance provided\n",
    "sns.countplot(x = df[\"Card_Category\"], ax = ax[1])                                                                                               \n",
    "plt.title(\"Card_Category\")                                                  # title is used to prints the title on the image. \n",
    "plt.show()"
   ]
  },
  {
   "cell_type": "markdown",
   "id": "5a0175d4",
   "metadata": {},
   "source": [
    "## Interpretation: Majority of the population is using the Blue card followed by Silver. The Platinum card is sold the least. "
   ]
  },
  {
   "cell_type": "markdown",
   "id": "84dbf489",
   "metadata": {},
   "source": [
    "# 8. User defined function which returns percentage using bar graphs"
   ]
  },
  {
   "cell_type": "code",
   "execution_count": 33,
   "id": "a83a6d27",
   "metadata": {},
   "outputs": [],
   "source": [
    "def bar_percentage(ax, count: \"number of rows in data \"):\n",
    "    for bar in ax.patches:                                            # ax.patches returns the rectange object from matplotlib\n",
    "        percentage = f\"{round((bar.get_height() / count) *100, 2)}%\"  # first it calculate the bar height and then dividing by the number of row(to calculate percentage)\n",
    "                                                                            # in data and multiply with 100 to get the percentage and rounding of by 2 numbers.\n",
    "        x = bar.get_x() + bar.get_width() /2                          # get_x: returns the left corrdinate of the rectange, get_width: returns width of rectagle\n",
    "        y = bar.get_height()                                          # get_height: returns height of rectangle bar.\n",
    "        ax.annotate(percentage, (x, y), va = \"bottom\", ha = \"center\") # va: Vertical axis: -> top means percentage would bneath the bar head. top, bottom or center \n",
    "                                                                      # ha: Horizontal axis:-> how you want to keep it. can be changed to center, left, right.\n",
    "                                                                      # annotate: used to annotate over objects. here objects are the bars \n",
    "    plt.show()"
   ]
  },
  {
   "cell_type": "markdown",
   "id": "2c266462",
   "metadata": {},
   "source": [
    "# 9. Analysis of Total Relationship Count: Years of relationship with bank\n",
    "LEVEL 1 Analysis of categorical data: ordinal data  (Univariate Analysis)"
   ]
  },
  {
   "cell_type": "code",
   "execution_count": 34,
   "id": "c09dbf57",
   "metadata": {},
   "outputs": [
    {
     "name": "stdout",
     "output_type": "stream",
     "text": [
      "Unique values in Total_Relationship_Count are: [5 6 4 3 2 1]\n",
      "Mode of Total_Relationship_Count is 3\n",
      "Number of missing values in Total_Relationship_Count is 0\n"
     ]
    }
   ],
   "source": [
    "info_of_cat(\"Total_Relationship_Count\")"
   ]
  },
  {
   "cell_type": "markdown",
   "id": "1b8b7c97",
   "metadata": {},
   "source": [
    "###### Total_Relationship_Count is a ordinal datatype (Categorical) as it is having hierarchy in it."
   ]
  },
  {
   "cell_type": "code",
   "execution_count": 35,
   "id": "87ab0ccf",
   "metadata": {},
   "outputs": [
    {
     "data": {
      "image/png": "[encoded data removed]",
      "text/plain": [
       "<Figure size 720x432 with 1 Axes>"
      ]
     },
     "metadata": {
      "needs_background": "light"
     },
     "output_type": "display_data"
    }
   ],
   "source": [
    "fig, ax = plt.subplots(figsize  = (10 , 6))\n",
    "ax = sns.countplot(x = df[\"Total_Relationship_Count\"])\n",
    "bar_percentage(ax, len(df))                            # calling the function to plot the percentage on the bars"
   ]
  },
  {
   "cell_type": "markdown",
   "id": "269ee02d",
   "metadata": {},
   "source": [
    "## Interpretation: Usually people have three years of relationship with the bank. Then, there is a decline of 3%. Later, there is  very little variation. Approximately 20% of the people tend to leave in their first two years."
   ]
  },
  {
   "cell_type": "markdown",
   "id": "60e03dac",
   "metadata": {},
   "source": [
    "# 10. Analysis of  Months of Inactivity: Months elapsed since the last activity using a credit card. \n",
    "LEVEL 1 Analysis of categorical data: ordinal data  (Univariate Analysis) "
   ]
  },
  {
   "cell_type": "code",
   "execution_count": 36,
   "id": "74b998a5",
   "metadata": {},
   "outputs": [
    {
     "name": "stdout",
     "output_type": "stream",
     "text": [
      "Unique values in Months_Inactive_12_mon are: [1 4 2 3 6 0 5]\n",
      "Mode of Months_Inactive_12_mon is 3\n",
      "Number of missing values in Months_Inactive_12_mon is 0\n"
     ]
    }
   ],
   "source": [
    "info_of_cat('Months_Inactive_12_mon' )"
   ]
  },
  {
   "cell_type": "markdown",
   "id": "7559217c",
   "metadata": {},
   "source": [
    "###### Total_Relationship_Count is an ordinal datatype (Categorical) as it is having hierarchy in it."
   ]
  },
  {
   "cell_type": "code",
   "execution_count": 37,
   "id": "99e79841",
   "metadata": {},
   "outputs": [
    {
     "data": {
      "image/png": "[encoded data removed]",
      "text/plain": [
       "<Figure size 720x432 with 1 Axes>"
      ]
     },
     "metadata": {
      "needs_background": "light"
     },
     "output_type": "display_data"
    }
   ],
   "source": [
    "fig, ax = plt.subplots(figsize  = (10 , 6))\n",
    "ax = sns.countplot(x = df['Months_Inactive_12_mon'])\n",
    "bar_percentage(ax, len(df))                         # calling the function to plot the percentage on the bars\n",
    "plt.show()"
   ]
  },
  {
   "cell_type": "markdown",
   "id": "db7aa16d",
   "metadata": {},
   "source": [
    "## Interpretation: Majority of the customers are inactive for 3 months."
   ]
  },
  {
   "cell_type": "markdown",
   "id": "89e7d993",
   "metadata": {},
   "source": [
    "# $$\\;\\;\\;\\;\\;\\;Univariate \\ Analysis \\ of \\ Numerical \\ Variables$$"
   ]
  },
  {
   "cell_type": "markdown",
   "id": "6e224b9e",
   "metadata": {},
   "source": [
    "LEVEL 1 Analysis of Numerical Columns\n",
    "----------------------------------------------------------\n",
    "Check if the data is discrete or continuous. \\\n",
    "Measure the central tendency (mean, median, mode) \\\n",
    "Measure the dispersion values \\\n",
    "Check for missing values \\\n",
    "Checking for skewness\\\n",
    "Check for outliers \\\n",
    "Think about how the missing values could be treated. \\\n",
    "Think about the kind of graph/chart that can be plotted using this data.\n"
   ]
  },
  {
   "cell_type": "markdown",
   "id": "0113da74",
   "metadata": {},
   "source": [
    "# User defined function for calculating mean, median, mode,  standard deviation, and count of all null values "
   ]
  },
  {
   "cell_type": "code",
   "execution_count": 38,
   "id": "5fd26f65",
   "metadata": {},
   "outputs": [],
   "source": [
    "def info_of_numerical(col):\n",
    "    print(f\"The mean of the {col} is {df[col].mean()}\")\n",
    "    print(f\"The median of the {col} is {df[col].median()}\")\n",
    "    print(f\"The mode of the {col} is {df[col].mode()[0]}\")\n",
    "    print(f\"The standard deviation of the {col} is {df[col].std()}\")\n",
    "    print(f\"Number of missing values in the {col} is {df[col].isnull().sum()}\")"
   ]
  },
  {
   "cell_type": "markdown",
   "id": "716a60fe",
   "metadata": {},
   "source": [
    "# 11. Analysis of  the Customer Age: Age of the customer\n",
    "LEVEL 1 Analysis of Numerical Data (Univariate Analysis) "
   ]
  },
  {
   "cell_type": "code",
   "execution_count": 39,
   "id": "60a51245",
   "metadata": {},
   "outputs": [
    {
     "name": "stdout",
     "output_type": "stream",
     "text": [
      "The mean of the Customer_Age is 47.285276982324476\n",
      "The median of the Customer_Age is 46.0\n",
      "The mode of the Customer_Age is 44\n",
      "The standard deviation of the Customer_Age is 13.270923260536502\n",
      "Number of missing values in the Customer_Age is 0\n"
     ]
    }
   ],
   "source": [
    "info_of_numerical(\"Customer_Age\")"
   ]
  },
  {
   "cell_type": "markdown",
   "id": "d55b7d30",
   "metadata": {},
   "source": [
    "###### Customer_Age is a continuous data  (Numerical)."
   ]
  },
  {
   "cell_type": "code",
   "execution_count": 40,
   "id": "2cd0f1cb",
   "metadata": {},
   "outputs": [
    {
     "data": {
      "image/png": "[encoded data removed]",
      "text/plain": [
       "<Figure size 1440x504 with 2 Axes>"
      ]
     },
     "metadata": {
      "needs_background": "light"
     },
     "output_type": "display_data"
    }
   ],
   "source": [
    "# Distribution of Customer_Age\n",
    "fig, ax = plt.subplots(1, 2, figsize= (20, 7))               # Creating the space for the 2 images, first argument in subplots is rows and second is columns and the figure size\n",
    "sns.histplot(x = df[\"Customer_Age\"], ax =ax[1], color = \"m\") # ax[1] means image will plot at the second space\n",
    "sns.boxplot(x = df[\"Customer_Age\"], ax = ax[0], color = \"g\") # ax[0] means image will plot at the second space\n",
    "plt.show()\n"
   ]
  },
  {
   "cell_type": "markdown",
   "id": "bae7af70",
   "metadata": {},
   "source": [
    "In this case, the customer age follows the normal distribution. There are few customers with ages over 77. The analytics team decides to replace the ages greater than 75 with the average age of other customers. \n"
   ]
  },
  {
   "cell_type": "markdown",
   "id": "f918fdbe",
   "metadata": {},
   "source": [
    "# Outliers Analysis and Treatment:\n",
    "Customers who have ages above 75 are outliers. To treat the outliers, their age is replaced by the mean. Though this is not the only solution to treat the outliers, machine learning can help in this scenario."
   ]
  },
  {
   "cell_type": "code",
   "execution_count": 41,
   "id": "c20f450d",
   "metadata": {},
   "outputs": [],
   "source": [
    "mean = int(df.Customer_Age.mean())\n",
    "# accessing the data higher than 6\n",
    "x = df[df[\"Customer_Age\"] > 75].index\n",
    "for index in x:\n",
    "    df.loc[index, \"Customer_Age\"] = mean\n",
    "    "
   ]
  },
  {
   "cell_type": "code",
   "execution_count": 42,
   "id": "6e931642",
   "metadata": {},
   "outputs": [
    {
     "name": "stdout",
     "output_type": "stream",
     "text": [
      "The mean of the Customer_Age is 46.32931766564629\n",
      "The median of the Customer_Age is 46.0\n",
      "The mode of the Customer_Age is 47\n",
      "The standard deviation of the Customer_Age is 7.977505937702698\n",
      "Number of missing values in the Customer_Age is 0\n"
     ]
    }
   ],
   "source": [
    "info_of_numerical(\"Customer_Age\")"
   ]
  },
  {
   "cell_type": "code",
   "execution_count": 43,
   "id": "f1e4213d",
   "metadata": {},
   "outputs": [
    {
     "data": {
      "image/png": "[encoded data removed]",
      "text/plain": [
       "<Figure size 1440x504 with 2 Axes>"
      ]
     },
     "metadata": {
      "needs_background": "light"
     },
     "output_type": "display_data"
    }
   ],
   "source": [
    "# Distribution of Customer_Age (Outlier Analysis)\n",
    "fig, ax = plt.subplots(1, 2, figsize= (20, 7))               # Creating the space for the 2 images, first argument in subplots is rows and second is columns and the figure size\n",
    "sns.histplot(x = df[\"Customer_Age\"], ax =ax[1], color = \"m\") # ax[1] means image will plot at the second space\n",
    "sns.boxplot(x = df[\"Customer_Age\"], ax = ax[0], color = \"g\") # ax[0] means image will plot at the second space\n",
    "plt.show()"
   ]
  },
  {
   "cell_type": "markdown",
   "id": "75083a68",
   "metadata": {},
   "source": [
    "## Interpretation: Most likely, customer age follows the normal distribution. Most of the bank customers are in between 40 and 50 years of age.\n"
   ]
  },
  {
   "cell_type": "markdown",
   "id": "e8d0147e",
   "metadata": {},
   "source": [
    "# 12. Analysis of  Total_Revolving_Bal: Balance that is carried over month to month\n",
    "LEVEL 1 Analysis of Numerical Data (Univariate Analysis) "
   ]
  },
  {
   "cell_type": "code",
   "execution_count": 44,
   "id": "7b94f468",
   "metadata": {},
   "outputs": [
    {
     "name": "stdout",
     "output_type": "stream",
     "text": [
      "The mean of the Total_Revolving_Bal is 1162.8140614199665\n",
      "The median of the Total_Revolving_Bal is 1276.0\n",
      "The mode of the Total_Revolving_Bal is 0\n",
      "The standard deviation of the Total_Revolving_Bal is 814.9873352357697\n",
      "Number of missing values in the Total_Revolving_Bal is 0\n"
     ]
    }
   ],
   "source": [
    "info_of_numerical(\"Total_Revolving_Bal\")"
   ]
  },
  {
   "cell_type": "markdown",
   "id": "b531edfd",
   "metadata": {},
   "source": [
    "###### Total_Revolving_Bal is a continuous datatype (Numerical)."
   ]
  },
  {
   "cell_type": "code",
   "execution_count": 45,
   "id": "b397de29",
   "metadata": {},
   "outputs": [
    {
     "data": {
      "image/png": "[encoded data removed]",
      "text/plain": [
       "<Figure size 1080x504 with 2 Axes>"
      ]
     },
     "metadata": {
      "needs_background": "light"
     },
     "output_type": "display_data"
    }
   ],
   "source": [
    "fig, ax = plt.subplots(1, 2, figsize= (15, 7))\n",
    "sns.histplot(x = df['Total_Revolving_Bal'])                         # x axis contains the revolving balance amount in dollars.\n",
    "                                                                    # y axis has the count of the customers.\n",
    "sns.boxplot(x = df['Total_Revolving_Bal'], ax = ax[0], color = \"g\") # c : color: b is black\n",
    "plt.show()"
   ]
  },
  {
   "cell_type": "markdown",
   "id": "59409265",
   "metadata": {},
   "source": [
    "## Interpretation: There is a spike at the 0 Revolving Balance, which indicates the majority of people tend to have 0 Revolving Balance. Around 25% of the customers do not have a revolving balance, i.e. they settle the credit card bill within a month. Around 75% of customers do not pay the credit card balance on time. These are the profitable customers to the bank (they pay interest on the revolving balance)."
   ]
  },
  {
   "cell_type": "markdown",
   "id": "4d5f74fe",
   "metadata": {},
   "source": [
    "# 13. Analysis of  Avg_Open_To_Buy: \n",
    "## Difference between the credit limit assigned to a cardholder and the present balance on the account at that time.\n",
    "\n",
    "```Description: Monthly credit limit is $12,000.  If the customer spends $5,000 in a month, then the remaining balance is $7,000 which is called \"Average Open to Buy\".```\n",
    " \n",
    " LEVEL 1 Analysis of Numerical Data (Univariate Analysis) "
   ]
  },
  {
   "cell_type": "code",
   "execution_count": 46,
   "id": "5a1ccb4c",
   "metadata": {},
   "outputs": [
    {
     "name": "stdout",
     "output_type": "stream",
     "text": [
      "The mean of the Avg_Open_To_Buy is 7469.139636614887\n",
      "The median of the Avg_Open_To_Buy is 3474.0\n",
      "The mode of the Avg_Open_To_Buy is 1438.3\n",
      "The standard deviation of the Avg_Open_To_Buy is 9090.685323679128\n",
      "Number of missing values in the Avg_Open_To_Buy is 0\n"
     ]
    }
   ],
   "source": [
    "info_of_numerical(\"Avg_Open_To_Buy\")"
   ]
  },
  {
   "cell_type": "markdown",
   "id": "7d3c2faf",
   "metadata": {},
   "source": [
    "###### Avg_Open_To_Buy is a continuous datatype (Numerical).\n"
   ]
  },
  {
   "cell_type": "code",
   "execution_count": 47,
   "id": "546d405a",
   "metadata": {},
   "outputs": [
    {
     "data": {
      "image/png": "[encoded data removed]",
      "text/plain": [
       "<Figure size 1440x504 with 2 Axes>"
      ]
     },
     "metadata": {
      "needs_background": "light"
     },
     "output_type": "display_data"
    }
   ],
   "source": [
    "fig, ax = plt.subplots(1, 2, figsize= (20, 7))\n",
    "sns.histplot(df[\"Avg_Open_To_Buy\"], ax = ax[1], color= \"g\")     # xaxis: its a dollar amount which shows the difference between the credit limit and the prersent balance\n",
    "sns.boxplot(x = df['Avg_Open_To_Buy'], ax = ax[0], color = \"y\") # color = y:  yellow\n",
    "plt.show()"
   ]
  },
  {
   "cell_type": "markdown",
   "id": "f8b39b9d",
   "metadata": {},
   "source": [
    "# Outliers Analysis\n",
    "This is right skewed data but the strength of outliers is increasing at the end of the tail which indicates that outliers are not a human error but some people are showing behavior other than population.\n"
   ]
  },
  {
   "cell_type": "markdown",
   "id": "f6cc4d83",
   "metadata": {},
   "source": [
    "# 14. Analysis of  the Total Transaction Count: Number of transactions made by the card holder\n",
    " LEVEL 1 Analysis of Numerical Data (Univariate Analysis) "
   ]
  },
  {
   "cell_type": "code",
   "execution_count": 48,
   "id": "a1c60f40",
   "metadata": {},
   "outputs": [
    {
     "name": "stdout",
     "output_type": "stream",
     "text": [
      "The mean of the Total_Trans_Ct is 64.85869457884863\n",
      "The median of the Total_Trans_Ct is 67.0\n",
      "The mode of the Total_Trans_Ct is 81\n",
      "The standard deviation of the Total_Trans_Ct is 23.472570449233046\n",
      "Number of missing values in the Total_Trans_Ct is 0\n"
     ]
    }
   ],
   "source": [
    "info_of_numerical(\"Total_Trans_Ct\")"
   ]
  },
  {
   "cell_type": "markdown",
   "id": "f25f399f",
   "metadata": {},
   "source": [
    "###### Total_Trans_Ct is a continuous datatype (Numerical).\n"
   ]
  },
  {
   "cell_type": "code",
   "execution_count": 49,
   "id": "1bdb1011",
   "metadata": {},
   "outputs": [
    {
     "data": {
      "image/png": "[encoded data removed]",
      "text/plain": [
       "<Figure size 1440x504 with 2 Axes>"
      ]
     },
     "metadata": {
      "needs_background": "light"
     },
     "output_type": "display_data"
    }
   ],
   "source": [
    "fig, ax = plt.subplots(1, 2, figsize= (20, 7))\n",
    "sns.histplot(x = df['Total_Trans_Ct'], ax = ax[0]) #ax[0]: graph(Histogram) will be ploted at 0th position\n",
    "sns.boxplot(x = df[\"Total_Trans_Ct\"], ax = ax[1])  #ax[1]: graph(Boxplot) will be ploted at 0th position\n",
    "plt.show()"
   ]
  },
  {
   "cell_type": "markdown",
   "id": "eb4837e4",
   "metadata": {},
   "source": [
    "## Interpretation: Majority of the customers are making more than 50 transactions."
   ]
  },
  {
   "cell_type": "markdown",
   "id": "7927d786",
   "metadata": {},
   "source": [
    "# Q15. Analysis of  the Avg_Utilization_Ratio: It is a ratio of Total Revolving Balance to Credit Limit \n",
    "#### $$\\frac{Total\\;Revolving\\; Balance}{Credit \\;Limit}$$\n",
    "## The higher the value, the more the customers are spending\n",
    " LEVEL 1 Analysis of Numerical Data (Univariate Analysis) "
   ]
  },
  {
   "cell_type": "code",
   "execution_count": 50,
   "id": "f18506d2",
   "metadata": {
    "scrolled": true
   },
   "outputs": [
    {
     "name": "stdout",
     "output_type": "stream",
     "text": [
      "The mean of the Avg_Utilization_Ratio is 0.2748935518909845\n",
      "The median of the Avg_Utilization_Ratio is 0.176\n",
      "The mode of the Avg_Utilization_Ratio is 0.0\n",
      "The standard deviation of the Avg_Utilization_Ratio is 0.2756914692523933\n",
      "Number of missing values in the Avg_Utilization_Ratio is 0\n"
     ]
    }
   ],
   "source": [
    "info_of_numerical(\"Avg_Utilization_Ratio\")"
   ]
  },
  {
   "cell_type": "markdown",
   "id": "840d3fc3",
   "metadata": {},
   "source": [
    "###### Avg_Utilization_Ratio is a continuous datatype (Numerical).\n"
   ]
  },
  {
   "cell_type": "code",
   "execution_count": 51,
   "id": "d5ef3d48",
   "metadata": {},
   "outputs": [
    {
     "data": {
      "image/png": "[encoded data removed]",
      "text/plain": [
       "<Figure size 1440x432 with 2 Axes>"
      ]
     },
     "metadata": {
      "needs_background": "light"
     },
     "output_type": "display_data"
    }
   ],
   "source": [
    "fig, ax = plt.subplots(1, 2, figsize = (20, 6))\n",
    "sns.histplot(x = df['Avg_Utilization_Ratio'], ax = ax[0])  #  ax[0]: graph(Histogram) will be ploted at 0th position\n",
    "sns.boxplot(x = df['Avg_Utilization_Ratio'], ax = ax[1])   #  ax[1]: graph(Boxplot) will be ploted at 0th position\n",
    "plt.show()"
   ]
  },
  {
   "cell_type": "markdown",
   "id": "a746c40d",
   "metadata": {},
   "source": [
    "This is a right skewed data with no outliers.\n",
    "## Interpretation: Around 75% of the customers are having low utilization (less than 0.5 utilization)."
   ]
  },
  {
   "cell_type": "markdown",
   "id": "5ffaddea",
   "metadata": {},
   "source": [
    "Level 2 Analysis (Getting closer to the BIG QUESTION: Churn Analysis) \n",
    "--------------------------------------------------------------------------------------------------\n",
    "\n",
    "How can this column make way to further analysis to answer the BIG QUESTION?\n",
    "\n",
    "What other columns could be clubbed with this Attrition Flag column to ask further questions?\n",
    "\n",
    "The below are the available list of columns/features in the given data."
   ]
  },
  {
   "cell_type": "code",
   "execution_count": 52,
   "id": "17ef12b6",
   "metadata": {},
   "outputs": [
    {
     "name": "stdout",
     "output_type": "stream",
     "text": [
      "categorical               continuous\n",
      "------------------------  ---------------------\n",
      "Attrition_Flag            CLIENTNUM\n",
      "Gender                    Customer_Age\n",
      "Dependent_count           Credit_Limit\n",
      "Education_Level           Total_Revolving_Bal\n",
      "Marital_Status            Avg_Open_To_Buy\n",
      "Income_Category           Total_Trans_Amt\n",
      "Card_Category             Total_Trans_Ct\n",
      "Months_on_book            Avg_Utilization_Ratio\n",
      "Total_Relationship_Count\n",
      "Months_Inactive_12_mon\n",
      "Contacts_Count_12_mon\n"
     ]
    }
   ],
   "source": [
    "print(tabulate({\"Categorical\":categorical,\n",
    "                \"continuous\": continuous}, headers = [\"categorical\", \"continuous\"]))"
   ]
  },
  {
   "cell_type": "markdown",
   "id": "c75ca1bc",
   "metadata": {},
   "source": [
    "CAT-CAT ANALYSIS  (relationship between categorical data)\n",
    "-------------------------------------------------------------------------------------\n",
    "One could ask the following questions about the customers who have left the bank by relating the\n",
    "\"attrition flag\" column with each and every categorical column mentioned above. \n",
    " \n",
    "1. Genderwise count of customers who are with the bank and those who have left.\n",
    "2. Is there a connection between the education level and the customers who have left the bank?\n",
    "3. Marital Status analysis of those customers who have left the bank\n",
    "4. Income category analysis of the customers who have left the bank \n",
    "5. Card category analysis of the customers who have left the bank \n",
    "6. Is there any relation between months inactive and churn?\n",
    "7. Is there any relation between churn and relationship count?\n",
    "8. Is there any relation between churn and contacts count?\n",
    "\n",
    "Note: We could repeat the same analysis with the customers who are still with the bank. \n",
    "    \n",
    "1. Is there a connection between the education level and the existing customers?\n",
    "2. Marital Status analysis of those customers who are with the bank \n",
    "3. Income category analysis of customers who are with the bank \n",
    "4. Card category analysis of the customers who are still with the bank\n",
    "5. Is there any relation between months inactive and existing customers? \n",
    "6. Is there any relation between existing customers and relationship count? \n",
    "7. Is there any relation between existing customers and contacts count? "
   ]
  },
  {
   "cell_type": "markdown",
   "id": "af963ab4",
   "metadata": {},
   "source": [
    "# Q16. Relationship of Attrition_Flag with Gender\n",
    "Level 2 Categorical to Categorical"
   ]
  },
  {
   "cell_type": "code",
   "execution_count": 53,
   "id": "a088cd94",
   "metadata": {},
   "outputs": [
    {
     "data": {
      "image/png": "[encoded data removed]",
      "text/plain": [
       "<Figure size 720x504 with 1 Axes>"
      ]
     },
     "metadata": {
      "needs_background": "light"
     },
     "output_type": "display_data"
    }
   ],
   "source": [
    "fig, ax = plt.subplots(figsize = (10, 7))\n",
    "sns.countplot(x = \"Gender\", hue = \"Attrition_Flag\", data = df)\n",
    "plt.show()"
   ]
  },
  {
   "cell_type": "markdown",
   "id": "b334f959",
   "metadata": {},
   "source": [
    "## Interpretation: Percentage of women getting churned out is more than men."
   ]
  },
  {
   "cell_type": "markdown",
   "id": "c2e8dbba",
   "metadata": {},
   "source": [
    "Further Analysis (Level 3): \\\n",
    "\n",
    "Let's look into the data to check if there is additional information about the customers who are women.\n",
    "\n",
    "\n"
   ]
  },
  {
   "cell_type": "code",
   "execution_count": 54,
   "id": "ed2bd47e",
   "metadata": {
    "scrolled": true
   },
   "outputs": [
    {
     "data": {
      "text/plain": [
       "Index(['CLIENTNUM', 'Attrition_Flag', 'Customer_Age', 'Gender',\n",
       "       'Dependent_count', 'Education_Level', 'Marital_Status',\n",
       "       'Income_Category', 'Card_Category', 'Months_on_book',\n",
       "       'Total_Relationship_Count', 'Months_Inactive_12_mon',\n",
       "       'Contacts_Count_12_mon', 'Credit_Limit', 'Total_Revolving_Bal',\n",
       "       'Avg_Open_To_Buy', 'Total_Trans_Amt', 'Total_Trans_Ct',\n",
       "       'Avg_Utilization_Ratio'],\n",
       "      dtype='object')"
      ]
     },
     "execution_count": 54,
     "metadata": {},
     "output_type": "execute_result"
    }
   ],
   "source": [
    "df.columns"
   ]
  },
  {
   "cell_type": "markdown",
   "id": "330f91f2",
   "metadata": {},
   "source": [
    "### One could consider analyzing all the above columns for the customers who have left and are women. However it could be a waste of time, hence it is better to consult the domain expert to choose the appropriate columns for further analysis. \n",
    "Let's consider the following columns:\n",
    "1. Age\n",
    "2. Education\n",
    "3. Total Trans Amount"
   ]
  },
  {
   "cell_type": "markdown",
   "id": "6dc73153",
   "metadata": {},
   "source": [
    "## Further Analysis\n",
    "1. Which age group of women has a larger churn?\n",
    "2. Analyze the churn of women customers based on their education level. \n",
    "3. Do you think the average Total Transaction amount of women who churned out is different from those who are still with the bank?\n",
    "\n",
    "## Deeper Analysis\n",
    "1. One could try to analyze within each age group the education level of the women who have left the bank.\n",
    "\n",
    "## Business Value\n",
    "At times, a lot of deeper analysis scenarios might not be useful for the business, even though they might look good from an analysis perspective. \n"
   ]
  },
  {
   "cell_type": "markdown",
   "id": "9ebc7740",
   "metadata": {},
   "source": [
    "# Q17. Relationship of Attrition_Flag with Dependent_count\n",
    "Level 2 Categorical to Categorical"
   ]
  },
  {
   "cell_type": "code",
   "execution_count": 55,
   "id": "f830c494",
   "metadata": {},
   "outputs": [
    {
     "data": {
      "image/png": "[encoded data removed]",
      "text/plain": [
       "<Figure size 720x504 with 1 Axes>"
      ]
     },
     "metadata": {
      "needs_background": "light"
     },
     "output_type": "display_data"
    }
   ],
   "source": [
    "fig, ax = plt.subplots(figsize = (10, 7))\n",
    "sns.countplot(x = \"Dependent_count\", hue = \"Attrition_Flag\", data = df)\n",
    "plt.show()"
   ]
  },
  {
   "cell_type": "markdown",
   "id": "04c5978c",
   "metadata": {},
   "source": [
    "# Interpretation: Customers who are attrited or existing have a maximum of 2 to 3 dependents on them."
   ]
  },
  {
   "cell_type": "markdown",
   "id": "553dfdc9",
   "metadata": {},
   "source": [
    "Let's look into the data to check if there is additional information about the customers who are having 2 or 3 dependents."
   ]
  },
  {
   "cell_type": "code",
   "execution_count": 56,
   "id": "551e4e4e",
   "metadata": {},
   "outputs": [
    {
     "data": {
      "text/plain": [
       "Index(['CLIENTNUM', 'Attrition_Flag', 'Customer_Age', 'Gender',\n",
       "       'Dependent_count', 'Education_Level', 'Marital_Status',\n",
       "       'Income_Category', 'Card_Category', 'Months_on_book',\n",
       "       'Total_Relationship_Count', 'Months_Inactive_12_mon',\n",
       "       'Contacts_Count_12_mon', 'Credit_Limit', 'Total_Revolving_Bal',\n",
       "       'Avg_Open_To_Buy', 'Total_Trans_Amt', 'Total_Trans_Ct',\n",
       "       'Avg_Utilization_Ratio'],\n",
       "      dtype='object')"
      ]
     },
     "execution_count": 56,
     "metadata": {},
     "output_type": "execute_result"
    }
   ],
   "source": [
    "df.columns"
   ]
  },
  {
   "cell_type": "markdown",
   "id": "9adcd850",
   "metadata": {},
   "source": [
    "### One could consider analyzing all the above columns for the customers who have left and having 2 or 3 dependents.  However it could be a waste of time, hence it is better to consult the domain expert to choose the appropriate columns for further analysis. \n",
    "Let's consider the following columns:\n",
    "1. Age\n",
    "2. Education\n",
    "3. Average Open to Buy"
   ]
  },
  {
   "cell_type": "markdown",
   "id": "20084eef",
   "metadata": {},
   "source": [
    "## Further Analysis (Level 3): \n",
    "1. Age-wise analysis of those customers whose dependent count is 2 or 3 (Existing and Churned out)\n",
    "2. Is there any relation between the number of dependents (2 or 3) and the Education level of customers who are existing and those churned out?\n",
    "3. Do you think the column \"Average open to buy\" is affected by the dependent count (2 or3)?\n",
    "\n",
    "## Deeper Analysis\n",
    "One could analyze how the education level and age of a customer is affecting \"avg open to buy\" where dependent count is 2 or 3? \n",
    "\n",
    "## Business Value\n",
    "At times, a lot of deeper analysis scenarios might not be useful for the business, even though they might look good from an analysis perspective."
   ]
  },
  {
   "cell_type": "markdown",
   "id": "957810da",
   "metadata": {},
   "source": [
    "# Q18. Relationship of Attrition_Flag with Education_Level\n",
    "Level 2 Categorical to Categorical"
   ]
  },
  {
   "cell_type": "code",
   "execution_count": 57,
   "id": "cb1d0ceb",
   "metadata": {},
   "outputs": [
    {
     "data": {
      "image/png": "[encoded data removed]",
      "text/plain": [
       "<Figure size 720x504 with 1 Axes>"
      ]
     },
     "metadata": {
      "needs_background": "light"
     },
     "output_type": "display_data"
    }
   ],
   "source": [
    "fig, ax = plt.subplots(figsize = (10, 7))\n",
    "sns.countplot(x = \"Card_Category\", hue = \"Attrition_Flag\", data = df)\n",
    "plt.show()"
   ]
  },
  {
   "cell_type": "markdown",
   "id": "0f1b8b9b",
   "metadata": {},
   "source": [
    "# Interpretation: Graduate and High School customers have a higher Attrition rate compared to another education level. "
   ]
  },
  {
   "cell_type": "markdown",
   "id": "6a6a279e",
   "metadata": {},
   "source": [
    "Further Analysis (Level 3):\\\n",
    "Let's look into the data to check if there is additional information about the customers who are from Graduation and High School.\n"
   ]
  },
  {
   "cell_type": "code",
   "execution_count": 58,
   "id": "f71727cd",
   "metadata": {},
   "outputs": [
    {
     "data": {
      "text/plain": [
       "Index(['CLIENTNUM', 'Attrition_Flag', 'Customer_Age', 'Gender',\n",
       "       'Dependent_count', 'Education_Level', 'Marital_Status',\n",
       "       'Income_Category', 'Card_Category', 'Months_on_book',\n",
       "       'Total_Relationship_Count', 'Months_Inactive_12_mon',\n",
       "       'Contacts_Count_12_mon', 'Credit_Limit', 'Total_Revolving_Bal',\n",
       "       'Avg_Open_To_Buy', 'Total_Trans_Amt', 'Total_Trans_Ct',\n",
       "       'Avg_Utilization_Ratio'],\n",
       "      dtype='object')"
      ]
     },
     "execution_count": 58,
     "metadata": {},
     "output_type": "execute_result"
    }
   ],
   "source": [
    "df.columns"
   ]
  },
  {
   "cell_type": "markdown",
   "id": "d58d6a2f",
   "metadata": {},
   "source": [
    "### One could consider analyzing all the above columns for the customers who have Graduation and High School. However it could be a waste of time, hence it is better to consult the domain expert to choose the appropriate columns for further analysis. \n",
    "Let's consider the following columns:\n",
    "1. Card Category\n",
    "2. Income Category\n",
    "3. Total Transaction Amount "
   ]
  },
  {
   "cell_type": "markdown",
   "id": "47ee96b0",
   "metadata": {},
   "source": [
    "## Further Analysis (Level 3):\n",
    "1. Card Category wise analysis of customers who are high school passouts and churned out.   \n",
    "2. Income category wise breakdown of customers who are high school passouts and still with the bank. \n",
    "3. Present the details of Total Transaction Amount of existing customers who are high school passouts. \n",
    "\n",
    "## Deeper Analysis\n",
    "One could analyze how the education level within each income category is Affecting the transaction made by the customers who are still with the bank.\n",
    "\n",
    "## Business Value\n",
    "At times, a lot of deeper analysis scenarios might not be useful for the business, even though they might look good from an analysis perspective.  "
   ]
  },
  {
   "cell_type": "markdown",
   "id": "b1e33434",
   "metadata": {},
   "source": [
    "# Q19. Relationship of Attrition_Flag with Income_Category\n",
    "Level 2 Categorical to Categorical"
   ]
  },
  {
   "cell_type": "code",
   "execution_count": 59,
   "id": "9a00416b",
   "metadata": {},
   "outputs": [
    {
     "data": {
      "image/png": "[encoded data removed]",
      "text/plain": [
       "<Figure size 720x504 with 1 Axes>"
      ]
     },
     "metadata": {
      "needs_background": "light"
     },
     "output_type": "display_data"
    }
   ],
   "source": [
    "fig, ax = plt.subplots(figsize = (10, 7))\n",
    "sns.countplot(x = \"Income_Category\", hue = \"Attrition_Flag\", data = df)\n",
    "plt.show()\n"
   ]
  },
  {
   "cell_type": "markdown",
   "id": "b5218f60",
   "metadata": {},
   "source": [
    "# Interpretation: Almost 20-30% of customers who attrited are earning less than $40,000."
   ]
  },
  {
   "cell_type": "markdown",
   "id": "6ccec853",
   "metadata": {},
   "source": [
    "Further Analysis (Level 3):\\\n",
    "Let's look into the data to check if there is an additional information about the customers who are earning less than $40K. \n"
   ]
  },
  {
   "cell_type": "code",
   "execution_count": 60,
   "id": "d602fe28",
   "metadata": {},
   "outputs": [
    {
     "data": {
      "text/plain": [
       "Index(['CLIENTNUM', 'Attrition_Flag', 'Customer_Age', 'Gender',\n",
       "       'Dependent_count', 'Education_Level', 'Marital_Status',\n",
       "       'Income_Category', 'Card_Category', 'Months_on_book',\n",
       "       'Total_Relationship_Count', 'Months_Inactive_12_mon',\n",
       "       'Contacts_Count_12_mon', 'Credit_Limit', 'Total_Revolving_Bal',\n",
       "       'Avg_Open_To_Buy', 'Total_Trans_Amt', 'Total_Trans_Ct',\n",
       "       'Avg_Utilization_Ratio'],\n",
       "      dtype='object')"
      ]
     },
     "execution_count": 60,
     "metadata": {},
     "output_type": "execute_result"
    }
   ],
   "source": [
    "df.columns"
   ]
  },
  {
   "cell_type": "markdown",
   "id": "e50e3b72",
   "metadata": {},
   "source": [
    "### One could consider analyzing all the above columns for the customers who are earning less than $40K. However it could be a waste of time, hence it is better to consult the domain expert to choose the appropriate columns for further analysis. \n",
    "Let's consider the following columns:\n",
    "1. Education Level\n",
    "2. Transaction Amount\n",
    "3. Average Utilization Ratio"
   ]
  },
  {
   "cell_type": "markdown",
   "id": "b9367796",
   "metadata": {},
   "source": [
    "## Further Analysis (Level 3):\n",
    "Considering only the customers who are earning less than $40,000 \n",
    "1. Analysis of education level of customers who are with the bank and those who left.\n",
    "2. Analysis of Transaction Amount (mean, median, and mode) made by the existing customers and comparing with those not existing  \n",
    "3. What is the average utilization ratio of the customers who are existing?\n",
    "\n",
    "## Deeper Analysis\n",
    "One could check if there is any relation between Transaction Amount and Average Utilization Ratio for the existing customers who hold a graduate degree. This analysis can be further extended to all those customers with different education levels (existing and exited separately)\n",
    "\n",
    "## Business Value\n",
    "At times, a lot of deeper analysis scenarios might not be useful for the business, even though they might look good from an analysis perspective.  "
   ]
  },
  {
   "cell_type": "markdown",
   "id": "08bdc676",
   "metadata": {},
   "source": [
    "# Q20. Relationship of Attrition_Flag with Card_Category\n",
    "Level 2 Categorical to Categorical"
   ]
  },
  {
   "cell_type": "code",
   "execution_count": 61,
   "id": "128d532c",
   "metadata": {},
   "outputs": [
    {
     "data": {
      "image/png": "[encoded data removed]",
      "text/plain": [
       "<Figure size 720x504 with 1 Axes>"
      ]
     },
     "metadata": {
      "needs_background": "light"
     },
     "output_type": "display_data"
    }
   ],
   "source": [
    "fig, ax = plt.subplots(figsize = (10, 7))\n",
    "sns.countplot(x = \"Card_Category\", hue = \"Attrition_Flag\", data = df)\n",
    "plt.show()\n"
   ]
  },
  {
   "cell_type": "markdown",
   "id": "72ed5cc0",
   "metadata": {},
   "source": [
    "# Interpretation: Majority of the customers are churning from the blue card category. It is also to be noted that the maximum customers are also blue card holders. "
   ]
  },
  {
   "cell_type": "markdown",
   "id": "36ab90df",
   "metadata": {},
   "source": [
    "Further Analysis (Level 3):\\\n",
    "Let's look into the data to check if there is an additional information about the customers who hold the blue card."
   ]
  },
  {
   "cell_type": "code",
   "execution_count": 62,
   "id": "a5485942",
   "metadata": {},
   "outputs": [
    {
     "data": {
      "text/plain": [
       "Index(['CLIENTNUM', 'Attrition_Flag', 'Customer_Age', 'Gender',\n",
       "       'Dependent_count', 'Education_Level', 'Marital_Status',\n",
       "       'Income_Category', 'Card_Category', 'Months_on_book',\n",
       "       'Total_Relationship_Count', 'Months_Inactive_12_mon',\n",
       "       'Contacts_Count_12_mon', 'Credit_Limit', 'Total_Revolving_Bal',\n",
       "       'Avg_Open_To_Buy', 'Total_Trans_Amt', 'Total_Trans_Ct',\n",
       "       'Avg_Utilization_Ratio'],\n",
       "      dtype='object')"
      ]
     },
     "execution_count": 62,
     "metadata": {},
     "output_type": "execute_result"
    }
   ],
   "source": [
    "df.columns"
   ]
  },
  {
   "cell_type": "markdown",
   "id": "62267c11",
   "metadata": {},
   "source": [
    "### One could consider analyzing all the above columns for the customers who hold the blue card. However it could be a waste of time, hence it is better to consult the domain expert to choose the appropriate columns for further analysis. \n",
    "Let's consider the following columns:\n",
    "1. Income Category\n",
    "2. Transaction Amount\n",
    "3. Credit Limit"
   ]
  },
  {
   "cell_type": "markdown",
   "id": "91ee02b2",
   "metadata": {},
   "source": [
    "## Further Analysis (Level 3):\n",
    "1. Analysis of the churned out customers who hold the blue card with respect to their Income category. \n",
    "2. Analysis of  transaction amount (mean, median, mode) for blue card customers who are no longer with the bank and compare it with the existing customers \n",
    "3. How is the credit limit of the blue card customers affecting the churn?\n",
    "\n",
    "## Deeper Analysis\n",
    "How is the income category and Credit limit affecting the transaction amount of Blue Card holders who are still with the bank?\n",
    "\n",
    "\n",
    "## Business Value\n",
    "At times, a lot of deeper analysis scenarios might not be useful for the business, even though they might look good from an analysis perspective.  \n",
    "\n",
    "Note: The above Deeper Analysis might be worth spending time! (As per the business requirement) "
   ]
  },
  {
   "cell_type": "markdown",
   "id": "f96f5dc9",
   "metadata": {},
   "source": [
    "# CAT NUM ANALYSIS: Categorical to continuous"
   ]
  },
  {
   "cell_type": "code",
   "execution_count": 63,
   "id": "29cf6863",
   "metadata": {},
   "outputs": [
    {
     "data": {
      "text/plain": [
       "['CLIENTNUM',\n",
       " 'Customer_Age',\n",
       " 'Credit_Limit',\n",
       " 'Total_Revolving_Bal',\n",
       " 'Avg_Open_To_Buy',\n",
       " 'Total_Trans_Amt',\n",
       " 'Total_Trans_Ct',\n",
       " 'Avg_Utilization_Ratio']"
      ]
     },
     "execution_count": 63,
     "metadata": {},
     "output_type": "execute_result"
    }
   ],
   "source": [
    "continuous  # to check the names of the continuous columns"
   ]
  },
  {
   "cell_type": "markdown",
   "id": "d1e12097",
   "metadata": {},
   "source": [
    "CAT-NUM ANALYSIS (relationship between categorical and numerical data) \n",
    "-----------------------------------------------------------------------------------------------------------\n",
    "\n",
    "One could ask the following questions about the customers who have left the bank by relating \n",
    "attrition flag column, with each and every numerical column mentioned above \n",
    "\n",
    "1. Customer age analysis of the customers who left the bank.\n",
    "2. Credit limit analysis of the customers who have left the bank.\n",
    "3. Average utilization ratio analysis of the customers who left the bank.\n",
    "4. Analysis of Average Open to Buy and the churned out customers.\n",
    "5. Analysis of Total Transaction Amount of the customers who have left the bank.\n",
    "\n",
    "Note: We could repeat the same analysis with customers who are still with the bank.\n",
    "1. Customer age analysis of the customers who are with the bank.\n",
    "2. Credit limit analysis of customers who are still with the bank.\n",
    "3. Average utilization ratio analysis of the customers who are still with the bank.\n",
    "4. Analysis of Average Open to Buy and the existing customers. \n",
    "5. Analysis of Total Transaction Amount with the customers who are still with the bank.\n",
    "\n",
    "\n",
    "A lot more analysis can be carried out this way! \n"
   ]
  },
  {
   "cell_type": "markdown",
   "id": "9bf2e7b6",
   "metadata": {},
   "source": [
    "# Q21. Relationship of Attrition_Flag with Customer_Age\n",
    "Level 2: Categorical to continuous"
   ]
  },
  {
   "cell_type": "code",
   "execution_count": 64,
   "id": "16f691f5",
   "metadata": {},
   "outputs": [
    {
     "data": {
      "image/png": "[encoded data removed]",
      "text/plain": [
       "<Figure size 1080x504 with 2 Axes>"
      ]
     },
     "metadata": {
      "needs_background": "light"
     },
     "output_type": "display_data"
    }
   ],
   "source": [
    "fig, ax = plt.subplots(1, 2, figsize = (15, 7))\n",
    "sns.histplot(x = df[\"Customer_Age\"], hue = df[\"Attrition_Flag\"], ax = ax[0])\n",
    "sns.boxplot(y = df[\"Customer_Age\"], x = df[\"Attrition_Flag\"], ax = ax[1])\n",
    "plt.show()"
   ]
  },
  {
   "cell_type": "markdown",
   "id": "b8838fdf",
   "metadata": {},
   "source": [
    "# Interpretation: Most of the bank customers  are between 40 to 50 years of age. "
   ]
  },
  {
   "cell_type": "markdown",
   "id": "364ecd34",
   "metadata": {},
   "source": [
    "Further Analysis (Level 3):\\\n",
    "Let's look into the data to check if there is an additional information about the customers whose ages are between 40 to 50 years. \n"
   ]
  },
  {
   "cell_type": "code",
   "execution_count": 65,
   "id": "85744079",
   "metadata": {},
   "outputs": [
    {
     "data": {
      "text/plain": [
       "Index(['CLIENTNUM', 'Attrition_Flag', 'Customer_Age', 'Gender',\n",
       "       'Dependent_count', 'Education_Level', 'Marital_Status',\n",
       "       'Income_Category', 'Card_Category', 'Months_on_book',\n",
       "       'Total_Relationship_Count', 'Months_Inactive_12_mon',\n",
       "       'Contacts_Count_12_mon', 'Credit_Limit', 'Total_Revolving_Bal',\n",
       "       'Avg_Open_To_Buy', 'Total_Trans_Amt', 'Total_Trans_Ct',\n",
       "       'Avg_Utilization_Ratio'],\n",
       "      dtype='object')"
      ]
     },
     "execution_count": 65,
     "metadata": {},
     "output_type": "execute_result"
    }
   ],
   "source": [
    "df.columns"
   ]
  },
  {
   "cell_type": "markdown",
   "id": "00b3bb15",
   "metadata": {},
   "source": [
    "### One could consider analyzing all the above columns for the customers who are between 40 to 50 years of age. However it could be a waste of time, hence it is better to consult the domain expert to choose the appropriate columns for further analysis. \n",
    "Let's consider the following columns:\n",
    "1. Dependent Count\n",
    "2. Credit Limit\n",
    "3. Average Utilization Ratio"
   ]
  },
  {
   "cell_type": "markdown",
   "id": "c15bc917",
   "metadata": {},
   "source": [
    "## Further Analysis (Level 3):\n",
    "Based on the customers who have ages between 40 and 50. \n",
    "1. Analysis of the dependent count and who are churned out and who are still using the services. \n",
    "2. Is there any relation between the Credit limit and attrition of the customers?\n",
    "3. What is the average utilization ratio of the credit card for each age sub group between 40 and 50 (we need to group the customers into 4 buckets between 40 and 50) \n",
    "\n",
    "## Deeper Analysis\n",
    "Within each of the age sub groups (4 buckets between 40-50), what is the relation between the Credit limit and Average utilization ratio? We could carry out this analysis separately for those customers who are still with the bank and those who have left the bank. \n",
    "\n",
    "## Business Value\n",
    "At times, a lot of deeper analysis scenarios might not be useful for the business, even though they might look good from an analysis perspective.  "
   ]
  },
  {
   "cell_type": "markdown",
   "id": "988df65d",
   "metadata": {},
   "source": [
    "# Q22. Relationship of Attrition_Flag with Credit_Limit\n",
    "Level 2: Categorical to continuous"
   ]
  },
  {
   "cell_type": "code",
   "execution_count": 66,
   "id": "d148a018",
   "metadata": {},
   "outputs": [
    {
     "data": {
      "image/png": "[encoded data removed]",
      "text/plain": [
       "<Figure size 1080x504 with 2 Axes>"
      ]
     },
     "metadata": {
      "needs_background": "light"
     },
     "output_type": "display_data"
    }
   ],
   "source": [
    "fig, ax = plt.subplots(1, 2, figsize = (15, 7))\n",
    "sns.histplot(x = df[\"Credit_Limit\"], hue = df[\"Attrition_Flag\"], ax = ax[0])\n",
    "sns.boxplot(x = df[\"Attrition_Flag\"] ,y = df[\"Credit_Limit\"] , ax = ax[1])\n",
    "plt.show()"
   ]
  },
  {
   "cell_type": "markdown",
   "id": "51231eb0",
   "metadata": {},
   "source": [
    "This is a right skewed data.\n",
    "# Interpretation: There is not a significant difference in the credit limit of the existing customers and those who have left the bank. This paves way for interesting analysis as to why customers choose to stay with the bank or leave. "
   ]
  },
  {
   "cell_type": "markdown",
   "id": "85854120",
   "metadata": {},
   "source": [
    "Further Analysis (Level 3):\\\n",
    "Let's look into the data to check if there is an additional information about the customers who are having lower credit limits (below 75% of the existing customer).\n"
   ]
  },
  {
   "cell_type": "code",
   "execution_count": 67,
   "id": "fc298508",
   "metadata": {},
   "outputs": [
    {
     "data": {
      "text/plain": [
       "Index(['CLIENTNUM', 'Attrition_Flag', 'Customer_Age', 'Gender',\n",
       "       'Dependent_count', 'Education_Level', 'Marital_Status',\n",
       "       'Income_Category', 'Card_Category', 'Months_on_book',\n",
       "       'Total_Relationship_Count', 'Months_Inactive_12_mon',\n",
       "       'Contacts_Count_12_mon', 'Credit_Limit', 'Total_Revolving_Bal',\n",
       "       'Avg_Open_To_Buy', 'Total_Trans_Amt', 'Total_Trans_Ct',\n",
       "       'Avg_Utilization_Ratio'],\n",
       "      dtype='object')"
      ]
     },
     "execution_count": 67,
     "metadata": {},
     "output_type": "execute_result"
    }
   ],
   "source": [
    "df.columns"
   ]
  },
  {
   "cell_type": "markdown",
   "id": "2ff614d5",
   "metadata": {},
   "source": [
    "### One could consider analyzing all the above columns for the customers who have a lower credit limit. However it could be a waste of time, hence it is better to consult the domain expert to choose the appropriate columns for further analysis. \n",
    "Let's consider the following columns:\n",
    "1. Education Level\n",
    "2. Income Category"
   ]
  },
  {
   "cell_type": "markdown",
   "id": "86b164fa",
   "metadata": {},
   "source": [
    "## Further Analysis (Level 3):\n",
    "Based on the customers who have a lower credit limit.\n",
    "1. How are the education level and income category affecting the customer churn? \n",
    "2. Identify the churned out customers with high income category, high education level, and high credit limit. \n",
    "\n",
    "## Deeper Analysis\n",
    "To be answered by the students \n",
    "\n",
    "\n",
    "## Business Value\n",
    "At times, a lot of deeper analysis scenarios might not be useful for the business, even though they might look good from an analysis perspective.  "
   ]
  },
  {
   "cell_type": "markdown",
   "id": "c9f3da77",
   "metadata": {},
   "source": [
    "# Q23. Relationship of Attrition_Flag with Avg_Utilization_Ratio\n",
    "Level 2: Categorical to continuous"
   ]
  },
  {
   "cell_type": "code",
   "execution_count": 68,
   "id": "f8851980",
   "metadata": {},
   "outputs": [
    {
     "data": {
      "image/png": "[encoded data removed]",
      "text/plain": [
       "<Figure size 1080x504 with 2 Axes>"
      ]
     },
     "metadata": {
      "needs_background": "light"
     },
     "output_type": "display_data"
    }
   ],
   "source": [
    "fig, ax = plt.subplots(1, 2, figsize = (15, 7))\n",
    "sns.histplot(x = df[\"Avg_Utilization_Ratio\"], hue = df[\"Attrition_Flag\"], ax = ax[0])\n",
    "sns.boxplot(x = df[\"Attrition_Flag\"] ,y = df[\"Avg_Utilization_Ratio\"] , ax = ax[1])\n",
    "plt.show()"
   ]
  },
  {
   "cell_type": "markdown",
   "id": "5e1a5c75",
   "metadata": {},
   "source": [
    "# Interpretation: Customers who churned have very low usage. Most of them haven't used their cards. Around  75% of customers who churned have usage only of only 0.2%."
   ]
  },
  {
   "cell_type": "markdown",
   "id": "41d5b7b3",
   "metadata": {},
   "source": [
    "Further Analysis (Level 3):\\\n",
    "Let's look into the data to check if there is an additional information about the customers who are having utilization ratios below 0.2.\n"
   ]
  },
  {
   "cell_type": "code",
   "execution_count": 69,
   "id": "870f6906",
   "metadata": {},
   "outputs": [
    {
     "data": {
      "text/plain": [
       "Index(['CLIENTNUM', 'Attrition_Flag', 'Customer_Age', 'Gender',\n",
       "       'Dependent_count', 'Education_Level', 'Marital_Status',\n",
       "       'Income_Category', 'Card_Category', 'Months_on_book',\n",
       "       'Total_Relationship_Count', 'Months_Inactive_12_mon',\n",
       "       'Contacts_Count_12_mon', 'Credit_Limit', 'Total_Revolving_Bal',\n",
       "       'Avg_Open_To_Buy', 'Total_Trans_Amt', 'Total_Trans_Ct',\n",
       "       'Avg_Utilization_Ratio'],\n",
       "      dtype='object')"
      ]
     },
     "execution_count": 69,
     "metadata": {},
     "output_type": "execute_result"
    }
   ],
   "source": [
    "df.columns"
   ]
  },
  {
   "cell_type": "markdown",
   "id": "a09475a1",
   "metadata": {},
   "source": [
    "### One could consider analyzing all the above columns for the customers who have a lower utilization ratio. However it could be a waste of time, hence it is better to consult the domain expert to choose the appropriate columns for further analysis. \n",
    "Let's consider the following columns:\n",
    "1. Age\n",
    "2. Marital_Status\n",
    "3. Credit Limit"
   ]
  },
  {
   "cell_type": "markdown",
   "id": "9abbe0a7",
   "metadata": {},
   "source": [
    "## Further Analysis (Level 3):\n",
    "Based on the lower utilization ratio\n",
    "1. Is there is a relation between the attrition and the age of customers who have the lower utilization ratio?\n",
    "2. Analysis of Marital Status and utilization ratio of the customers who are leaving out the bank vs those who are still with the bank. \n",
    "3. Is there any relation between the credit limit offered to the customers (having lower utilization Ratio) compared to those who are having a higher utilization ratio?\n",
    "\n",
    "## Deeper Analysis \n",
    "To be answered by the students \n",
    "\n",
    "\n",
    "## Business Value\n",
    "At times, a lot of deeper analysis scenarios might not be useful for the business, even though they might look good from an analysis perspective.  "
   ]
  },
  {
   "cell_type": "code",
   "execution_count": 70,
   "id": "85289e39",
   "metadata": {},
   "outputs": [
    {
     "name": "stderr",
     "output_type": "stream",
     "text": [
      "C:\\Users\\AdityaKumar\\anaconda3\\lib\\site-packages\\seaborn\\axisgrid.py:670: UserWarning: Using the countplot function without specifying `order` is likely to produce an incorrect plot.\n",
      "  warnings.warn(warning)\n"
     ]
    },
    {
     "data": {
      "image/png": "[encoded data removed]",
      "text/plain": [
       "<Figure size 504x504 with 1 Axes>"
      ]
     },
     "metadata": {
      "needs_background": "light"
     },
     "output_type": "display_data"
    }
   ],
   "source": [
    "# 7 Card category wise analysis of customers who are high school pass outs and churned out\n",
    "data = df[(df[\"Education_Level\"] == \"High School\")& (df[\"Attrition_Flag\"] == \"Attrited Customer\")]\n",
    "g = sns.FacetGrid(data, col =\"Education_Level\", height = 7)\n",
    "g.map(sns.countplot, \"Card_Category\")\n",
    "plt.show()"
   ]
  },
  {
   "cell_type": "code",
   "execution_count": 71,
   "id": "c950ad73",
   "metadata": {},
   "outputs": [
    {
     "name": "stderr",
     "output_type": "stream",
     "text": [
      "C:\\Users\\AdityaKumar\\anaconda3\\lib\\site-packages\\seaborn\\axisgrid.py:670: UserWarning: Using the countplot function without specifying `order` is likely to produce an incorrect plot.\n",
      "  warnings.warn(warning)\n"
     ]
    },
    {
     "data": {
      "image/png": "[encoded data removed]",
      "text/plain": [
       "<Figure size 504x504 with 1 Axes>"
      ]
     },
     "metadata": {
      "needs_background": "light"
     },
     "output_type": "display_data"
    }
   ],
   "source": [
    "# 8. Income category wise breakdown of the customers who are high school pass outs and are still with the bank\n",
    "\n",
    "\n",
    "data = df[(df[\"Education_Level\"] == \"High School\")& (df[\"Attrition_Flag\"] == \"Existing Customer\")]\n",
    "g = sns.FacetGrid(data, col =\"Education_Level\", height = 7)\n",
    "g.map(sns.countplot, \"Income_Category\")\n",
    "plt.show()\n",
    "\n",
    "\n"
   ]
  },
  {
   "cell_type": "markdown",
   "id": "0945ecba",
   "metadata": {},
   "source": [
    "# Income category wise breakdown of the customers who are high school pass outs and are still with the bank are shown in above graph and most customers earn less than 40K"
   ]
  },
  {
   "cell_type": "code",
   "execution_count": 72,
   "id": "4f5210db",
   "metadata": {},
   "outputs": [
    {
     "data": {
      "image/png": "[encoded data removed]",
      "text/plain": [
       "<Figure size 504x504 with 1 Axes>"
      ]
     },
     "metadata": {
      "needs_background": "light"
     },
     "output_type": "display_data"
    }
   ],
   "source": [
    " #9.Present the details of Total Transaction Amount of existing customers who are high school pass outs.\n",
    "with_bank = df[(df[\"Education_Level\"] == \"High School\") & (df[\"Attrition_Flag\"] == \"Existing Customer\")]\n",
    "with_bank_mean = with_bank[\"Total_Trans_Amt\"].mean()\n",
    "\n",
    "g = sns.FacetGrid(with_bank, col = \"Attrition_Flag\", height = 7)\n",
    "g.map(sns.histplot, \"Total_Trans_Amt\")\n",
    "plt.show()"
   ]
  },
  {
   "cell_type": "markdown",
   "id": "db39f4cd",
   "metadata": {},
   "source": [
    "# Total Transaction Amount of existing customers who are high school pass outs mostly lies in range of 2000 to 5200."
   ]
  },
  {
   "cell_type": "code",
   "execution_count": 73,
   "id": "b129d8ab",
   "metadata": {},
   "outputs": [],
   "source": [
    "# 10. Analysis of the education level of the customers who are with the bank and those who left\n"
   ]
  },
  {
   "cell_type": "code",
   "execution_count": 74,
   "id": "9bce0e7d",
   "metadata": {},
   "outputs": [
    {
     "name": "stderr",
     "output_type": "stream",
     "text": [
      "C:\\Users\\AdityaKumar\\anaconda3\\lib\\site-packages\\seaborn\\axisgrid.py:670: UserWarning: Using the countplot function without specifying `order` is likely to produce an incorrect plot.\n",
      "  warnings.warn(warning)\n"
     ]
    },
    {
     "data": {
      "image/png": "[encoded data removed]",
      "text/plain": [
       "<Figure size 1008x504 with 2 Axes>"
      ]
     },
     "metadata": {
      "needs_background": "light"
     },
     "output_type": "display_data"
    }
   ],
   "source": [
    "g = sns.FacetGrid(df, col =\"Attrition_Flag\", height = 7)\n",
    "g.map(sns.countplot, \"Education_Level\")\n",
    "plt.show()"
   ]
  },
  {
   "cell_type": "markdown",
   "id": "983de266",
   "metadata": {},
   "source": [
    "# Education level of the customers who are with the bank and those who left are Doctorate and graduate respectively"
   ]
  },
  {
   "cell_type": "code",
   "execution_count": 75,
   "id": "a57c4ec7",
   "metadata": {},
   "outputs": [],
   "source": [
    "# 11. Analysis of Transaction Amount (mean, median, and mode) made by the existing customers and comparing it with those who are not existing\n",
    "with_bank1 = df[(df[\"Attrition_Flag\"] == \"Existing Customer\")]\n",
    "left_bank1 = df[(df[\"Attrition_Flag\"] == \"Attrited Customer\")]\n",
    "with_bank_mean1 = with_bank1[\"Total_Trans_Amt\"].mean()\n",
    "left_bank_mean1 = left_bank1[\"Total_Trans_Amt\"].mean()"
   ]
  },
  {
   "cell_type": "code",
   "execution_count": 103,
   "id": "0b9e5dcf",
   "metadata": {},
   "outputs": [
    {
     "name": "stdout",
     "output_type": "stream",
     "text": [
      "Customers who are with the bank their average transaction amount is 4654.656\n",
      "Customers who left the bank their average transaction amount is 3095.026\n"
     ]
    }
   ],
   "source": [
    "print(f\"Customers who are with the bank their average transaction amount is {round(with_bank_mean1, 3)}\")\n",
    "print(f\"Customers who left the bank their average transaction amount is {round(left_bank_mean1,3)}\")\n"
   ]
  },
  {
   "cell_type": "code",
   "execution_count": 77,
   "id": "1c0d783c",
   "metadata": {},
   "outputs": [
    {
     "name": "stdout",
     "output_type": "stream",
     "text": [
      "Customers who are with the bank their median transaction amount is 4100.0\n",
      "Customers who left the bank their median transaction amount is 2329.0\n"
     ]
    }
   ],
   "source": [
    "with_bank2 = df[(df[\"Attrition_Flag\"] == \"Existing Customer\")]\n",
    "left_bank2 = df[(df[\"Attrition_Flag\"] == \"Attrited Customer\")]\n",
    "with_bank_median = with_bank2[\"Total_Trans_Amt\"].median()\n",
    "left_bank_median = left_bank2[\"Total_Trans_Amt\"].median()\n",
    "print(f\"Customers who are with the bank their median transaction amount is {round(with_bank_median, 3)}\")\n",
    "print(f\"Customers who left the bank their median transaction amount is {round(left_bank_median,3)}\")"
   ]
  },
  {
   "cell_type": "code",
   "execution_count": 78,
   "id": "e54bf173",
   "metadata": {},
   "outputs": [
    {
     "name": "stdout",
     "output_type": "stream",
     "text": [
      "Customers who are with the bank their mode transaction amount is 0    4253\n",
      "1    4509\n",
      "dtype: int64\n",
      "Customers who left the bank their mode transaction amount is 0    2108\n",
      "1    2216\n",
      "2    2312\n",
      "dtype: int64\n"
     ]
    }
   ],
   "source": [
    "with_bank3 = df[(df[\"Attrition_Flag\"] == \"Existing Customer\")]\n",
    "left_bank3 = df[(df[\"Attrition_Flag\"] == \"Attrited Customer\")]\n",
    "with_bank_mode = with_bank3[\"Total_Trans_Amt\"].mode()\n",
    "left_bank_mode = left_bank3[\"Total_Trans_Amt\"].mode()\n",
    "print(f\"Customers who are with the bank their mode transaction amount is {round(with_bank_mode, 3)}\")\n",
    "print(f\"Customers who left the bank their mode transaction amount is {round(left_bank_mode,3)}\")"
   ]
  },
  {
   "cell_type": "code",
   "execution_count": 79,
   "id": "ef4a1120",
   "metadata": {},
   "outputs": [
    {
     "name": "stdout",
     "output_type": "stream",
     "text": [
      "The mean of the Avg_Utilization_Ratio is 0.2748935518909845\n",
      "The median of the Avg_Utilization_Ratio is 0.176\n",
      "The mode of the Avg_Utilization_Ratio is 0.0\n",
      "The standard deviation of the Avg_Utilization_Ratio is 0.2756914692523933\n",
      "Number of missing values in the Avg_Utilization_Ratio is 0\n"
     ]
    }
   ],
   "source": [
    "# 12. What is the average utilization ratio of the existing customers?\n",
    "info_of_numerical(\"Avg_Utilization_Ratio\")"
   ]
  },
  {
   "cell_type": "code",
   "execution_count": 80,
   "id": "0c83b5ca",
   "metadata": {},
   "outputs": [
    {
     "data": {
      "image/png": "[encoded data removed]",
      "text/plain": [
       "<Figure size 504x504 with 1 Axes>"
      ]
     },
     "metadata": {
      "needs_background": "light"
     },
     "output_type": "display_data"
    }
   ],
   "source": [
    "exting_cust = df[(df[\"Attrition_Flag\"] == \"Existing Customer\")]\n",
    "\n",
    "g = sns.FacetGrid(exting_cust, col = \"Attrition_Flag\", height = 7)\n",
    "g.map(sns.histplot, \"Avg_Utilization_Ratio\")\n",
    "plt.show()"
   ]
  },
  {
   "cell_type": "markdown",
   "id": "950a9c71",
   "metadata": {},
   "source": [
    "# Average utilization ratio of most the existing customers lies between 0.0 to 0.2"
   ]
  },
  {
   "cell_type": "code",
   "execution_count": 81,
   "id": "87fded33",
   "metadata": {},
   "outputs": [
    {
     "data": {
      "image/png": "[encoded data removed]",
      "text/plain": [
       "<Figure size 504x504 with 1 Axes>"
      ]
     },
     "metadata": {
      "needs_background": "light"
     },
     "output_type": "display_data"
    }
   ],
   "source": [
    "# 13. Analysis of the churned out customers who hold the blue card with respect to their income categories\n",
    "churned_cust = df[(df[\"Card_Category\"] == \"Blue\") & (df[\"Attrition_Flag\"] == \"Attrited Customer\")]\n",
    "\n",
    "g = sns.FacetGrid(churned_cust, col = \"Attrition_Flag\", height = 7)\n",
    "g.map(sns.histplot, \"Income_Category\")\n",
    "plt.show()"
   ]
  },
  {
   "cell_type": "markdown",
   "id": "92900b06",
   "metadata": {},
   "source": [
    "# Most of the churned out customers who hold the blue card have less tahn 40K income "
   ]
  },
  {
   "cell_type": "code",
   "execution_count": 82,
   "id": "e2ea8cc1",
   "metadata": {},
   "outputs": [],
   "source": [
    "# 14. Analysis of transaction amount (mean, median, mode) for blue card customers who are no longer with the bank and comparing it with the existing customers"
   ]
  },
  {
   "cell_type": "code",
   "execution_count": 83,
   "id": "acf3752f",
   "metadata": {},
   "outputs": [
    {
     "name": "stdout",
     "output_type": "stream",
     "text": [
      "Customers who are with the bank and have blue card their average transaction amount is 4468.249\n",
      "Customers who left the bank and have blue card their average transaction amount is 2957.836\n"
     ]
    }
   ],
   "source": [
    "with_bank5 = df[(df[\"Attrition_Flag\"] == \"Existing Customer\")& (df[\"Card_Category\"] == \"Blue\")]\n",
    "left_bank5 = df[(df[\"Attrition_Flag\"] == \"Attrited Customer\")& (df[\"Card_Category\"] == \"Blue\")]\n",
    "with_bank_mean5 = with_bank5[\"Total_Trans_Amt\"].mean()\n",
    "left_bank_mean5 = left_bank5[\"Total_Trans_Amt\"].mean()\n",
    "print(f\"Customers who are with the bank and have blue card their average transaction amount is {round(with_bank_mean5, 3)}\")\n",
    "print(f\"Customers who left the bank and have blue card their average transaction amount is {round(left_bank_mean5,3)}\")"
   ]
  },
  {
   "cell_type": "code",
   "execution_count": 84,
   "id": "eee90ecf",
   "metadata": {},
   "outputs": [
    {
     "name": "stdout",
     "output_type": "stream",
     "text": [
      "Customers who are with the bank and have blue card their median transaction amount is 4085.0\n",
      "Customers who left the bank and have blue card their median transaction amount is 2314.0\n"
     ]
    }
   ],
   "source": [
    "with_bank5 = df[(df[\"Attrition_Flag\"] == \"Existing Customer\")& (df[\"Card_Category\"] == \"Blue\")]\n",
    "left_bank5 = df[(df[\"Attrition_Flag\"] == \"Attrited Customer\")& (df[\"Card_Category\"] == \"Blue\")]\n",
    "with_bank_median1 = with_bank5[\"Total_Trans_Amt\"].median()\n",
    "left_bank_median1 = left_bank5[\"Total_Trans_Amt\"].median()\n",
    "print(f\"Customers who are with the bank and have blue card their median transaction amount is {round(with_bank_median1, 3)}\")\n",
    "print(f\"Customers who left the bank and have blue card their median transaction amount is {round(left_bank_median1,3)}\")"
   ]
  },
  {
   "cell_type": "code",
   "execution_count": 85,
   "id": "454327b1",
   "metadata": {},
   "outputs": [
    {
     "name": "stdout",
     "output_type": "stream",
     "text": [
      "Customers who are with the bank and have blue card their mode transaction amount is 0    4253\n",
      "1    4509\n",
      "dtype: int64\n",
      "Customers who left the bank and have blue card their mode transaction amount is 0    2108\n",
      "1    2216\n",
      "2    2312\n",
      "dtype: int64\n"
     ]
    }
   ],
   "source": [
    "with_bank5 = df[(df[\"Attrition_Flag\"] == \"Existing Customer\")& (df[\"Card_Category\"] == \"Blue\")]\n",
    "left_bank5 = df[(df[\"Attrition_Flag\"] == \"Attrited Customer\")& (df[\"Card_Category\"] == \"Blue\")]\n",
    "with_bank_mode1 = with_bank5[\"Total_Trans_Amt\"].mode()\n",
    "left_bank_mode1 = left_bank5[\"Total_Trans_Amt\"].mode()\n",
    "print(f\"Customers who are with the bank and have blue card their mode transaction amount is {round(with_bank_mode1, 3)}\")\n",
    "print(f\"Customers who left the bank and have blue card their mode transaction amount is {round(left_bank_mode1,3)}\")"
   ]
  },
  {
   "cell_type": "code",
   "execution_count": 86,
   "id": "3620028a",
   "metadata": {},
   "outputs": [
    {
     "data": {
      "image/png": "[encoded data removed]",
      "text/plain": [
       "<Figure size 504x504 with 1 Axes>"
      ]
     },
     "metadata": {
      "needs_background": "light"
     },
     "output_type": "display_data"
    }
   ],
   "source": [
    "# 15. How is the credit limit of the blue card customers affecting the churn?\n",
    "cust_data1 = df[(df[\"Attrition_Flag\"] == \"Attrited Customer\")&(df[\"Card_Category\"] == \"Blue\")]\n",
    "\n",
    "g = sns.FacetGrid(cust_data1, col = \"Attrition_Flag\", height = 7)\n",
    "g.map(sns.histplot, \"Credit_Limit\")\n",
    "plt.show()"
   ]
  },
  {
   "cell_type": "markdown",
   "id": "b213861e",
   "metadata": {},
   "source": [
    "# Mostly, credit limit of the blue card customers affecting the churn lies in range of 2500 to 10000"
   ]
  },
  {
   "cell_type": "code",
   "execution_count": 97,
   "id": "99988593",
   "metadata": {},
   "outputs": [
    {
     "data": {
      "image/png": "[encoded data removed]",
      "text/plain": [
       "<Figure size 576x288 with 2 Axes>"
      ]
     },
     "metadata": {
      "needs_background": "light"
     },
     "output_type": "display_data"
    }
   ],
   "source": [
    "# 16. Analysis of the dependent count with respect to the customers who have churned out and the customers who are still using the services\n",
    "\n",
    "data1 = df[(df[\"Dependent_count\"] == 2) | (df[\"Dependent_count\"] == 3)]\n",
    "g = sns.FacetGrid(data1, col = \"Dependent_count\", height = 4)\n",
    "g.map(sns.histplot, \"Attrition_Flag\")\n",
    "plt.show()"
   ]
  },
  {
   "cell_type": "markdown",
   "id": "5d2322fd",
   "metadata": {},
   "source": [
    "# dependent count with respect to the customers who have churned out and the customers who are still using the services are plotted above"
   ]
  },
  {
   "cell_type": "code",
   "execution_count": 88,
   "id": "e376e0d8",
   "metadata": {},
   "outputs": [
    {
     "data": {
      "image/png": "[encoded data removed]",
      "text/plain": [
       "<Figure size 576x288 with 2 Axes>"
      ]
     },
     "metadata": {
      "needs_background": "light"
     },
     "output_type": "display_data"
    }
   ],
   "source": [
    "# 17. Is there a relation between the credit limit and the attrition of the customers?\n",
    "g = sns.FacetGrid(df, col = \"Attrition_Flag\", height = 4)\n",
    "g.map(sns.histplot, \"Credit_Limit\")\n",
    "plt.show()\n"
   ]
  },
  {
   "cell_type": "markdown",
   "id": "16920d98",
   "metadata": {},
   "source": [
    "# With the increase in credit limit attrition decreases"
   ]
  },
  {
   "cell_type": "code",
   "execution_count": 89,
   "id": "2c6071f8",
   "metadata": {},
   "outputs": [
    {
     "data": {
      "image/png": "[encoded data removed]",
      "text/plain": [
       "<Figure size 720x360 with 2 Axes>"
      ]
     },
     "metadata": {
      "needs_background": "light"
     },
     "output_type": "display_data"
    }
   ],
   "source": [
    "# 18. What is the average utilization ratio of the credit card for each age sub-group between 40 and 50? (We need to group the customers into 4 buckets between 40 and 50.)\n",
    "data=df[(df[\"Customer_Age\"]>=40)&(df[\"Customer_Age\"]<=50)]\n",
    "data[\"Avg_Utilization_Ratio\"].mean()\n",
    "fig,ax=plt.subplots(1,2,figsize=(10,5))\n",
    "sns.boxplot(x=df[\"Avg_Utilization_Ratio\"],ax=ax[0])\n",
    "sns.histplot(x=df[\"Avg_Utilization_Ratio\"],ax=ax[1])\n",
    "plt.show()\n",
    "\n"
   ]
  },
  {
   "cell_type": "markdown",
   "id": "2af290df",
   "metadata": {},
   "source": [
    "# Mostly, average utilization ratio of the credit card for each age sub-group between 40 and 50 lies in range of 0 to 0.5"
   ]
  },
  {
   "cell_type": "code",
   "execution_count": 99,
   "id": "c1d6dc28",
   "metadata": {},
   "outputs": [
    {
     "data": {
      "image/png": "[encoded data removed]",
      "text/plain": [
       "<Figure size 1512x216 with 7 Axes>"
      ]
     },
     "metadata": {
      "needs_background": "light"
     },
     "output_type": "display_data"
    }
   ],
   "source": [
    "#19. How are the education level and income category affecting the customer churn?\n",
    "el_data = df[(df[\"Attrition_Flag\"] == \"Attrited Customer\")]\n",
    "g = sns.FacetGrid(el_data, col = \"Education_Level\", height = 3)\n",
    "g.map(sns.histplot, \"Income_Category\")\n",
    "plt.show()\n",
    "\n"
   ]
  },
  {
   "cell_type": "markdown",
   "id": "9fedf5f8",
   "metadata": {},
   "source": [
    "# How are the education level and income category affecting the customer churn is plotted above."
   ]
  },
  {
   "cell_type": "code",
   "execution_count": 91,
   "id": "1e66318b",
   "metadata": {},
   "outputs": [
    {
     "name": "stdout",
     "output_type": "stream",
     "text": [
      "      CLIENTNUM     Attrition_Flag  Customer_Age Gender  Dependent_count  \\\n",
      "2671  827984658  Attrited Customer            49      M                3   \n",
      "3049  715570533  Attrited Customer            48      M                3   \n",
      "3950  806947308  Attrited Customer            40      M                4   \n",
      "5437  775152708  Attrited Customer            49      M                3   \n",
      "6598  751518633  Attrited Customer            48      M                5   \n",
      "6907  709649958  Attrited Customer            62      M                0   \n",
      "8859  788943333  Attrited Customer            51      M                3   \n",
      "8863  714077583  Attrited Customer            43      M                3   \n",
      "9047  718353633  Attrited Customer            50      M                1   \n",
      "9061  789412458  Attrited Customer            44      M                2   \n",
      "9561  789684258  Attrited Customer            57      M                2   \n",
      "9597  715076358  Attrited Customer            57      M                1   \n",
      "\n",
      "     Education_Level Marital_Status Income_Category Card_Category  \\\n",
      "2671   Post-Graduate        Married    $80K - $120K          Blue   \n",
      "3049   Post-Graduate        Unknown         $120K +          Blue   \n",
      "3950   Post-Graduate        Married     $60K - $80K          Blue   \n",
      "5437   Post-Graduate        Unknown    $80K - $120K          Blue   \n",
      "6598   Post-Graduate         Single         $120K +        Silver   \n",
      "6907   Post-Graduate       Divorced     $60K - $80K        Silver   \n",
      "8859   Post-Graduate        Married    $80K - $120K        Silver   \n",
      "8863   Post-Graduate        Married     $40K - $60K      Platinum   \n",
      "9047   Post-Graduate        Unknown    $80K - $120K          Gold   \n",
      "9061   Post-Graduate        Married     $60K - $80K          Blue   \n",
      "9561   Post-Graduate         Single    $80K - $120K        Silver   \n",
      "9597   Post-Graduate        Unknown    $80K - $120K          Blue   \n",
      "\n",
      "      Months_on_book  Total_Relationship_Count  Months_Inactive_12_mon  \\\n",
      "2671              45                         3                       0   \n",
      "3049              35                         2                       2   \n",
      "3950              35                         3                       4   \n",
      "5437              39                         2                       3   \n",
      "6598              41                         5                       3   \n",
      "6907              46                         4                       5   \n",
      "8859              37                         6                       2   \n",
      "8863              31                         2                       3   \n",
      "9047              36                         2                       3   \n",
      "9061              34                         6                       3   \n",
      "9561              43                         2                       3   \n",
      "9597              36                         4                       3   \n",
      "\n",
      "      Contacts_Count_12_mon  Credit_Limit  Total_Revolving_Bal  \\\n",
      "2671                      4       23870.0                    0   \n",
      "3049                      6       34516.0                    0   \n",
      "3950                      3       20178.0                 1553   \n",
      "5437                      4       20769.0                  901   \n",
      "6598                      1       34516.0                 2517   \n",
      "6907                      6       28229.0                  287   \n",
      "8859                      2       34516.0                  989   \n",
      "8863                      4       23981.0                  593   \n",
      "9047                      2       34516.0                    0   \n",
      "9061                      4       23026.0                 2517   \n",
      "9561                      3       34516.0                 1847   \n",
      "9597                      3       23714.0                    0   \n",
      "\n",
      "      Avg_Open_To_Buy  Total_Trans_Amt  Total_Trans_Ct  Avg_Utilization_Ratio  \n",
      "2671          23870.0             1885              39                  0.000  \n",
      "3049          34516.0             1632              44                  0.000  \n",
      "3950          18625.0             1735              44                  0.077  \n",
      "5437          19868.0             1835              43                  0.043  \n",
      "6598          31999.0             2260              50                  0.073  \n",
      "6907          27942.0             2281              45                  0.010  \n",
      "8859          33527.0             4810              55                  0.029  \n",
      "8863          23388.0             4758              65                  0.025  \n",
      "9047          34516.0             5547              75                  0.000  \n",
      "9061          20509.0             4909              52                  0.109  \n",
      "9561          32669.0             7842              61                  0.054  \n",
      "9597          23714.0             8463              62                  0.000  \n"
     ]
    },
    {
     "data": {
      "image/png": "[encoded data removed]",
      "text/plain": [
       "<Figure size 432x432 with 1 Axes>"
      ]
     },
     "metadata": {
      "needs_background": "light"
     },
     "output_type": "display_data"
    }
   ],
   "source": [
    " # 20.Identify the churned out customers with high income category, high education level, and high credit limit.\n",
    "cust_churned = df[(df[\"Attrition_Flag\"] == \"Attrited Customer\")& (df[\"Education_Level\"] == \"Post-Graduate\")& (df[\"Credit_Limit\"] >=20000)]\n",
    "print(cust_churned)\n",
    "\n",
    "g = sns.FacetGrid(cust_churned, col = \"Attrition_Flag\", height = 6)\n",
    "g.map(sns.histplot, \"Income_Category\")\n",
    "plt.show()\n",
    "\n",
    "\n",
    "    "
   ]
  },
  {
   "cell_type": "markdown",
   "id": "1401a525",
   "metadata": {},
   "source": [
    "# Churned out customers with high income category, high education level, and high credit limit mostly lies in income category of 80K to 120K"
   ]
  },
  {
   "cell_type": "code",
   "execution_count": 92,
   "id": "5ce6f3e3",
   "metadata": {},
   "outputs": [
    {
     "data": {
      "image/png": "[encoded data removed]",
      "text/plain": [
       "<Figure size 864x432 with 2 Axes>"
      ]
     },
     "metadata": {
      "needs_background": "light"
     },
     "output_type": "display_data"
    }
   ],
   "source": [
    "#21. Is there is a relation between the attrition and the age of customers who have a lower utilization ratio?\n",
    "rl_data = df[(df[\"Avg_Utilization_Ratio\"] <=0.4)]\n",
    "g = sns.FacetGrid(rl_data, col = \"Attrition_Flag\", height = 6)\n",
    "g.map(sns.histplot, \"Customer_Age\")\n",
    "plt.show()\n",
    "\n"
   ]
  },
  {
   "cell_type": "markdown",
   "id": "a520e1f0",
   "metadata": {},
   "source": [
    "# Mostly attrition happens in age group of 40-50 years of customers who have a lower utilization ratio"
   ]
  },
  {
   "cell_type": "code",
   "execution_count": 93,
   "id": "131c6c65",
   "metadata": {},
   "outputs": [],
   "source": [
    "#22. Analysis of marital status and utilization ratio of the customers who are leaving out the bank versus those who are still with the bank\n",
    "\n"
   ]
  },
  {
   "cell_type": "code",
   "execution_count": 94,
   "id": "a423e48f",
   "metadata": {},
   "outputs": [
    {
     "data": {
      "image/png": "[encoded data removed]",
      "text/plain": [
       "<Figure size 864x216 with 4 Axes>"
      ]
     },
     "metadata": {
      "needs_background": "light"
     },
     "output_type": "display_data"
    }
   ],
   "source": [
    "data10 = df[(df[\"Attrition_Flag\"] == \"Attrited Customer\")]\n",
    "g = sns.FacetGrid(data10, col = \"Marital_Status\", height = 3)\n",
    "g.map(sns.histplot, \"Avg_Utilization_Ratio\")\n",
    "plt.show()"
   ]
  },
  {
   "cell_type": "code",
   "execution_count": 95,
   "id": "2d1b52d9",
   "metadata": {},
   "outputs": [
    {
     "data": {
      "image/png": "[encoded data removed]",
      "text/plain": [
       "<Figure size 864x216 with 4 Axes>"
      ]
     },
     "metadata": {
      "needs_background": "light"
     },
     "output_type": "display_data"
    }
   ],
   "source": [
    "data11 = df[(df[\"Attrition_Flag\"] == \"Existing Customer\")]\n",
    "g = sns.FacetGrid(data11, col = \"Marital_Status\", height = 3)\n",
    "g.map(sns.histplot, \"Avg_Utilization_Ratio\")\n",
    "plt.show()"
   ]
  },
  {
   "cell_type": "markdown",
   "id": "9d62a3d6",
   "metadata": {},
   "source": [
    "# Most of the attrition happens of those customers whose martial status is single."
   ]
  },
  {
   "cell_type": "code",
   "execution_count": 96,
   "id": "748b19b0",
   "metadata": {},
   "outputs": [
    {
     "data": {
      "image/png": "[encoded data removed]",
      "text/plain": [
       "<Figure size 720x360 with 2 Axes>"
      ]
     },
     "metadata": {
      "needs_background": "light"
     },
     "output_type": "display_data"
    }
   ],
   "source": [
    "# 23. Is there a relation between the credit limit offered to the customers (having a lower utilization ratio) compared to those who are having a higher utilization ratio?\n",
    "\n",
    "df[\"Avg_Utilization_Ratio\"].describe()\n",
    "below=df[df[\"Avg_Utilization_Ratio\"]<0.023]\n",
    "above=df[df[\"Avg_Utilization_Ratio\"]>0.5]\n",
    "\n",
    "fig,ax=plt.subplots(1,2,figsize=(10,5))\n",
    "sns.histplot(below[\"Credit_Limit\"],ax=ax[0])\n",
    "sns.histplot(above[\"Credit_Limit\"],ax=ax[1])\n",
    "ax[0].set_title(\"Average Utilization below .023\")\n",
    "ax[1].set_title(\"Average Utilization above .50\")\n",
    "\n",
    "plt.show()\n"
   ]
  },
  {
   "cell_type": "markdown",
   "id": "57834ab4",
   "metadata": {},
   "source": [
    "# Credit limit offered to customers with less Average Utilization has more range as comapred to customers with high Average Utilization."
   ]
  },
  {
   "cell_type": "code",
   "execution_count": null,
   "id": "aae49bfb",
   "metadata": {},
   "outputs": [],
   "source": []
  },
  {
   "cell_type": "code",
   "execution_count": null,
   "id": "e5c4c4df",
   "metadata": {},
   "outputs": [],
   "source": []
  },
  {
   "cell_type": "code",
   "execution_count": null,
   "id": "44611226",
   "metadata": {},
   "outputs": [],
   "source": []
  }
 ],
 "metadata": {
  "kernelspec": {
   "display_name": "Python 3 (ipykernel)",
   "language": "python",
   "name": "python3"
  },
  "language_info": {
   "codemirror_mode": {
    "name": "ipython",
    "version": 3
   },
   "file_extension": ".py",
   "mimetype": "text/x-python",
   "name": "python",
   "nbconvert_exporter": "python",
   "pygments_lexer": "ipython3",
   "version": "3.9.7"
  }
 },
 "nbformat": 4,
 "nbformat_minor": 5
}
