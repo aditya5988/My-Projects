{
 "cells": [
  {
   "cell_type": "code",
   "execution_count": 3,
   "id": "175732ae",
   "metadata": {},
   "outputs": [
    {
     "name": "stdout",
     "output_type": "stream",
     "text": [
      "1632479963728\n",
      "10\n",
      "<class 'int'>\n"
     ]
    }
   ],
   "source": [
    "# Task1 (a)\n",
    "rollno = 10\n",
    "print(id(rollno))\n",
    "print(rollno)\n",
    "print(type(rollno))"
   ]
  },
  {
   "cell_type": "code",
   "execution_count": 5,
   "id": "822f86ae",
   "metadata": {},
   "outputs": [
    {
     "name": "stdout",
     "output_type": "stream",
     "text": [
      "1632560019888\n",
      "Aditya\n",
      "<class 'str'>\n"
     ]
    }
   ],
   "source": [
    "Task 1 (b)\n",
    "first_name = 'Aditya'\n",
    "print(id(first_name))\n",
    "print(first_name)\n",
    "print(type(first_name))\n"
   ]
  },
  {
   "cell_type": "code",
   "execution_count": 9,
   "id": "fb96de51",
   "metadata": {},
   "outputs": [
    {
     "name": "stdout",
     "output_type": "stream",
     "text": [
      "Kumar\n",
      "1632560544496\n",
      "<class 'str'>\n"
     ]
    }
   ],
   "source": [
    "Task 1 (c)\n",
    "last_name = \"Kumar\"\n",
    "print(last_name)\n",
    "print(id(last_name))\n",
    "print(type(last_name))"
   ]
  },
  {
   "cell_type": "code",
   "execution_count": 12,
   "id": "062d0142",
   "metadata": {},
   "outputs": [
    {
     "name": "stdout",
     "output_type": "stream",
     "text": [
      "50\n",
      "1632479965008\n",
      "<class 'int'>\n"
     ]
    }
   ],
   "source": [
    "# Task 1 (d)\n",
    "maxmarks = 50\n",
    "print (maxmarks)\n",
    "print(id(maxmarks))\n",
    "print (type(maxmarks))"
   ]
  },
  {
   "cell_type": "code",
   "execution_count": 15,
   "id": "ce33e15f",
   "metadata": {},
   "outputs": [
    {
     "name": "stdout",
     "output_type": "stream",
     "text": [
      "2\n",
      "<class 'int'>\n"
     ]
    }
   ],
   "source": [
    "# Task 2(a)\n",
    "var1 = 2                 #var1 is a valid variable as it starts with alphabet \n",
    "print(var1)\n",
    "print(type(var1))"
   ]
  },
  {
   "cell_type": "code",
   "execution_count": 16,
   "id": "9bd1b781",
   "metadata": {},
   "outputs": [
    {
     "ename": "SyntaxError",
     "evalue": "invalid syntax (Temp/ipykernel_7036/1778298853.py, line 1)",
     "output_type": "error",
     "traceback": [
      "\u001b[1;36m  File \u001b[1;32m\"C:\\Users\\ADITYA~1\\AppData\\Local\\Temp/ipykernel_7036/1778298853.py\"\u001b[1;36m, line \u001b[1;32m1\u001b[0m\n\u001b[1;33m    2var = 2\u001b[0m\n\u001b[1;37m     ^\u001b[0m\n\u001b[1;31mSyntaxError\u001b[0m\u001b[1;31m:\u001b[0m invalid syntax\n"
     ]
    }
   ],
   "source": [
    "# task 2(b)\n",
    "2var = 2                 # 2var is not a valid variable as a variable cannot start with numerical value\n",
    "print(2var)"
   ]
  },
  {
   "cell_type": "code",
   "execution_count": 17,
   "id": "9399f2e9",
   "metadata": {},
   "outputs": [
    {
     "ename": "SyntaxError",
     "evalue": "invalid syntax (Temp/ipykernel_7036/2557146167.py, line 1)",
     "output_type": "error",
     "traceback": [
      "\u001b[1;36m  File \u001b[1;32m\"C:\\Users\\ADITYA~1\\AppData\\Local\\Temp/ipykernel_7036/2557146167.py\"\u001b[1;36m, line \u001b[1;32m1\u001b[0m\n\u001b[1;33m    var 1 =2\u001b[0m\n\u001b[1;37m        ^\u001b[0m\n\u001b[1;31mSyntaxError\u001b[0m\u001b[1;31m:\u001b[0m invalid syntax\n"
     ]
    }
   ],
   "source": [
    "# task 2(c)\n",
    "var 1 =2               #var 1 is not a valid variable as there should not be any space in between variable name  \n",
    "print(var 1)"
   ]
  },
  {
   "cell_type": "code",
   "execution_count": 18,
   "id": "cdc8611d",
   "metadata": {},
   "outputs": [
    {
     "ename": "SyntaxError",
     "evalue": "invalid syntax (Temp/ipykernel_7036/143623358.py, line 1)",
     "output_type": "error",
     "traceback": [
      "\u001b[1;36m  File \u001b[1;32m\"C:\\Users\\ADITYA~1\\AppData\\Local\\Temp/ipykernel_7036/143623358.py\"\u001b[1;36m, line \u001b[1;32m1\u001b[0m\n\u001b[1;33m    var$2 = 2\u001b[0m\n\u001b[1;37m       ^\u001b[0m\n\u001b[1;31mSyntaxError\u001b[0m\u001b[1;31m:\u001b[0m invalid syntax\n"
     ]
    }
   ],
   "source": [
    "# task 2 (d)\n",
    "var$2 = 2              # var$1 is not a valid variable as no special characters are allowed in variable decleration\n",
    "print (var$2)"
   ]
  },
  {
   "cell_type": "code",
   "execution_count": 19,
   "id": "3527b8c2",
   "metadata": {},
   "outputs": [
    {
     "name": "stdout",
     "output_type": "stream",
     "text": [
      "15\n"
     ]
    }
   ],
   "source": [
    "# Task 3(a)\n",
    "Class=15               # Class is a valid variable and has a integer value allocated\n",
    "print(Class)"
   ]
  },
  {
   "cell_type": "code",
   "execution_count": 21,
   "id": "b1d58be8",
   "metadata": {},
   "outputs": [
    {
     "ename": "SyntaxError",
     "evalue": "invalid syntax (Temp/ipykernel_7036/1492987263.py, line 1)",
     "output_type": "error",
     "traceback": [
      "\u001b[1;36m  File \u001b[1;32m\"C:\\Users\\ADITYA~1\\AppData\\Local\\Temp/ipykernel_7036/1492987263.py\"\u001b[1;36m, line \u001b[1;32m1\u001b[0m\n\u001b[1;33m    class=14\u001b[0m\n\u001b[1;37m         ^\u001b[0m\n\u001b[1;31mSyntaxError\u001b[0m\u001b[1;31m:\u001b[0m invalid syntax\n"
     ]
    }
   ],
   "source": [
    "# Task 3(b)\n",
    "class=14               # class is a key word and hence cannot be allocated a datatype\n",
    "print(class)"
   ]
  },
  {
   "cell_type": "code",
   "execution_count": 22,
   "id": "804b0246",
   "metadata": {},
   "outputs": [
    {
     "name": "stdout",
     "output_type": "stream",
     "text": [
      "13\n"
     ]
    }
   ],
   "source": [
    "# task 3 (c)\n",
    "DEF =13               # DEF is a valid variable with a integer value allocated\n",
    "print (DEF)"
   ]
  },
  {
   "cell_type": "code",
   "execution_count": 23,
   "id": "f46805be",
   "metadata": {},
   "outputs": [
    {
     "ename": "SyntaxError",
     "evalue": "invalid syntax (Temp/ipykernel_7036/2047777300.py, line 1)",
     "output_type": "error",
     "traceback": [
      "\u001b[1;36m  File \u001b[1;32m\"C:\\Users\\ADITYA~1\\AppData\\Local\\Temp/ipykernel_7036/2047777300.py\"\u001b[1;36m, line \u001b[1;32m1\u001b[0m\n\u001b[1;33m    def = 12\u001b[0m\n\u001b[1;37m        ^\u001b[0m\n\u001b[1;31mSyntaxError\u001b[0m\u001b[1;31m:\u001b[0m invalid syntax\n"
     ]
    }
   ],
   "source": [
    "# task 4 (d)\n",
    "def = 12              # def is a keyword and hence cannot be allocated a datatype\n",
    "print (def)"
   ]
  },
  {
   "cell_type": "code",
   "execution_count": 25,
   "id": "3c677cc0",
   "metadata": {},
   "outputs": [
    {
     "ename": "NameError",
     "evalue": "name 'true' is not defined",
     "output_type": "error",
     "traceback": [
      "\u001b[1;31m---------------------------------------------------------------------------\u001b[0m",
      "\u001b[1;31mNameError\u001b[0m                                 Traceback (most recent call last)",
      "\u001b[1;32mC:\\Users\\ADITYA~1\\AppData\\Local\\Temp/ipykernel_7036/1063658052.py\u001b[0m in \u001b[0;36m<module>\u001b[1;34m\u001b[0m\n\u001b[1;32m----> 1\u001b[1;33m \u001b[0ma\u001b[0m \u001b[1;33m=\u001b[0m \u001b[0mtrue\u001b[0m\u001b[1;33m\u001b[0m\u001b[1;33m\u001b[0m\u001b[0m\n\u001b[0m\u001b[0;32m      2\u001b[0m \u001b[0mprint\u001b[0m\u001b[1;33m(\u001b[0m\u001b[0ma\u001b[0m\u001b[1;33m)\u001b[0m\u001b[1;33m\u001b[0m\u001b[1;33m\u001b[0m\u001b[0m\n",
      "\u001b[1;31mNameError\u001b[0m: name 'true' is not defined"
     ]
    }
   ],
   "source": [
    "# Task 4 (e)\n",
    "a = true             # true is not a string nor a datatype and is undefined\n",
    "print(a)"
   ]
  },
  {
   "cell_type": "code",
   "execution_count": 26,
   "id": "e375bc1a",
   "metadata": {},
   "outputs": [
    {
     "ename": "NameError",
     "evalue": "name 'false' is not defined",
     "output_type": "error",
     "traceback": [
      "\u001b[1;31m---------------------------------------------------------------------------\u001b[0m",
      "\u001b[1;31mNameError\u001b[0m                                 Traceback (most recent call last)",
      "\u001b[1;32mC:\\Users\\ADITYA~1\\AppData\\Local\\Temp/ipykernel_7036/1428573983.py\u001b[0m in \u001b[0;36m<module>\u001b[1;34m\u001b[0m\n\u001b[1;32m----> 1\u001b[1;33m \u001b[0mb\u001b[0m \u001b[1;33m=\u001b[0m \u001b[0mfalse\u001b[0m\u001b[1;33m\u001b[0m\u001b[1;33m\u001b[0m\u001b[0m\n\u001b[0m\u001b[0;32m      2\u001b[0m \u001b[0mprint\u001b[0m \u001b[1;33m(\u001b[0m\u001b[0mb\u001b[0m\u001b[1;33m)\u001b[0m\u001b[1;33m\u001b[0m\u001b[1;33m\u001b[0m\u001b[0m\n",
      "\u001b[1;31mNameError\u001b[0m: name 'false' is not defined"
     ]
    }
   ],
   "source": [
    "# Task 4 (f)\n",
    "b = false              # false is not a string nor a datatype and is undefined\n",
    "print (b)"
   ]
  },
  {
   "cell_type": "code",
   "execution_count": 29,
   "id": "602013f6",
   "metadata": {},
   "outputs": [
    {
     "name": "stdout",
     "output_type": "stream",
     "text": [
      "35.55\n",
      "1632560764688\n",
      "<class 'float'>\n"
     ]
    }
   ],
   "source": [
    "marks = 35.55        #Task4 a\n",
    "print(marks)\n",
    "print(id(marks))\n",
    "print(type(marks))"
   ]
  },
  {
   "cell_type": "code",
   "execution_count": 32,
   "id": "92284a42",
   "metadata": {},
   "outputs": [
    {
     "name": "stdout",
     "output_type": "stream",
     "text": [
      "40.99\n",
      "1632560763760\n",
      "<class 'float'>\n"
     ]
    }
   ],
   "source": [
    "marks = 40.99        #Task4 b\n",
    "print(marks)\n",
    "print(id(marks))\n",
    "print(type(marks))"
   ]
  },
  {
   "cell_type": "code",
   "execution_count": null,
   "id": "928a9706",
   "metadata": {},
   "outputs": [],
   "source": [
    "# task4 c\n",
    "# No id of both values are not same as both are stored at different locations "
   ]
  },
  {
   "cell_type": "code",
   "execution_count": 43,
   "id": "d59fc8f1",
   "metadata": {},
   "outputs": [
    {
     "name": "stdout",
     "output_type": "stream",
     "text": [
      "percentage:79.14285714285715 %\n",
      "\n"
     ]
    }
   ],
   "source": [
    "Task 5(a)\n",
    "maxmarks = 350\n",
    "marks = 277\n",
    "percentage = (marks/maxmarks)*100\n",
    "print(\"percentage:%s %%\\n\"%percentage)"
   ]
  },
  {
   "cell_type": "code",
   "execution_count": 49,
   "id": "44d5723c",
   "metadata": {},
   "outputs": [
    {
     "name": "stdout",
     "output_type": "stream",
     "text": [
      "AdityaKumar\n"
     ]
    }
   ],
   "source": [
    "# task 5(b)\n",
    "a = 'Aditya'\n",
    "b = 'Kumar'\n",
    "fullname= a+b\n",
    "print (fullname)"
   ]
  },
  {
   "cell_type": "code",
   "execution_count": 50,
   "id": "906e58c2",
   "metadata": {},
   "outputs": [
    {
     "name": "stdout",
     "output_type": "stream",
     "text": [
      "277 AdityaKumar 79.14285714285715\n"
     ]
    }
   ],
   "source": [
    "# Task 5(c)\n",
    "print(marks,fullname,percentage)"
   ]
  },
  {
   "cell_type": "code",
   "execution_count": null,
   "id": "34f088eb",
   "metadata": {},
   "outputs": [],
   "source": [
    "# Task 6\n",
    "# Will be taught lateron"
   ]
  },
  {
   "cell_type": "code",
   "execution_count": 51,
   "id": "ac0841ad",
   "metadata": {},
   "outputs": [
    {
     "ename": "TypeError",
     "evalue": "unsupported operand type(s) for +: 'int' and 'str'",
     "output_type": "error",
     "traceback": [
      "\u001b[1;31m---------------------------------------------------------------------------\u001b[0m",
      "\u001b[1;31mTypeError\u001b[0m                                 Traceback (most recent call last)",
      "\u001b[1;32mC:\\Users\\ADITYA~1\\AppData\\Local\\Temp/ipykernel_7036/82384584.py\u001b[0m in \u001b[0;36m<module>\u001b[1;34m\u001b[0m\n\u001b[1;32m----> 1\u001b[1;33m \u001b[0ma\u001b[0m \u001b[1;33m=\u001b[0m \u001b[1;36m1\u001b[0m\u001b[1;33m+\u001b[0m\u001b[1;34m\"2\"\u001b[0m\u001b[1;33m\u001b[0m\u001b[1;33m\u001b[0m\u001b[0m\n\u001b[0m\u001b[0;32m      2\u001b[0m \u001b[0mprint\u001b[0m \u001b[1;33m(\u001b[0m\u001b[0ma\u001b[0m\u001b[1;33m)\u001b[0m\u001b[1;33m\u001b[0m\u001b[1;33m\u001b[0m\u001b[0m\n",
      "\u001b[1;31mTypeError\u001b[0m: unsupported operand type(s) for +: 'int' and 'str'"
     ]
    }
   ],
   "source": [
    "# Task 7(a) \n",
    "a = 1+\"2\"           # Both integer and string datatypes cannot be combined\n",
    "print (a)"
   ]
  },
  {
   "cell_type": "code",
   "execution_count": 52,
   "id": "4d17dc75",
   "metadata": {},
   "outputs": [
    {
     "name": "stdout",
     "output_type": "stream",
     "text": [
      "12\n"
     ]
    }
   ],
   "source": [
    "# Task 7(b)\n",
    "a = \"1\"+\"2\"       # Both datatypes are string and can be combined to get output\n",
    "print (a)"
   ]
  },
  {
   "cell_type": "code",
   "execution_count": 53,
   "id": "a58394b2",
   "metadata": {},
   "outputs": [
    {
     "name": "stdout",
     "output_type": "stream",
     "text": [
      "0.5\n"
     ]
    }
   ],
   "source": [
    "# Task 7(c)\n",
    "a = 1/2         # arithmetic operation is done and output is of float datatype\n",
    "print(a)"
   ]
  },
  {
   "cell_type": "code",
   "execution_count": 54,
   "id": "e9fd673b",
   "metadata": {},
   "outputs": [
    {
     "name": "stdout",
     "output_type": "stream",
     "text": [
      "0\n"
     ]
    }
   ],
   "source": [
    "# Task 7(d)\n",
    "a = 1//2          # output is 0 because it is floor division operation which only gives the integer part and truncates the decimal part\n",
    "print (a)"
   ]
  },
  {
   "cell_type": "code",
   "execution_count": 55,
   "id": "01a99a4b",
   "metadata": {},
   "outputs": [
    {
     "data": {
      "text/plain": [
       "True"
      ]
     },
     "execution_count": 55,
     "metadata": {},
     "output_type": "execute_result"
    }
   ],
   "source": [
    "# Task 8(a)\n",
    "True and True         # In accordance to 'and' function"
   ]
  },
  {
   "cell_type": "code",
   "execution_count": 56,
   "id": "a8cc5293",
   "metadata": {},
   "outputs": [
    {
     "data": {
      "text/plain": [
       "False"
      ]
     },
     "execution_count": 56,
     "metadata": {},
     "output_type": "execute_result"
    }
   ],
   "source": [
    "# Task 8(b)\n",
    "True and False        # In accordance to 'and' function"
   ]
  },
  {
   "cell_type": "code",
   "execution_count": 57,
   "id": "65d04f16",
   "metadata": {},
   "outputs": [
    {
     "data": {
      "text/plain": [
       "True"
      ]
     },
     "execution_count": 57,
     "metadata": {},
     "output_type": "execute_result"
    }
   ],
   "source": [
    "# Task 8(c)\n",
    "False or True         # In accordance to 'or' function"
   ]
  },
  {
   "cell_type": "code",
   "execution_count": 58,
   "id": "e61fbebc",
   "metadata": {},
   "outputs": [
    {
     "data": {
      "text/plain": [
       "False"
      ]
     },
     "execution_count": 58,
     "metadata": {},
     "output_type": "execute_result"
    }
   ],
   "source": [
    "# Task 8(d)\n",
    "False or False        # In accordance to 'or' function"
   ]
  },
  {
   "cell_type": "code",
   "execution_count": 59,
   "id": "d34ed1d4",
   "metadata": {},
   "outputs": [
    {
     "data": {
      "text/plain": [
       "True"
      ]
     },
     "execution_count": 59,
     "metadata": {},
     "output_type": "execute_result"
    }
   ],
   "source": [
    "# task 9(a)                  # Answer is true in accordance to 'in' operator used  \n",
    "first_name = 'Aditya'\n",
    "full_name = 'Aditya Kumar'\n",
    "first_name in full_name        "
   ]
  },
  {
   "cell_type": "code",
   "execution_count": 60,
   "id": "57712d81",
   "metadata": {},
   "outputs": [
    {
     "data": {
      "text/plain": [
       "False"
      ]
     },
     "execution_count": 60,
     "metadata": {},
     "output_type": "execute_result"
    }
   ],
   "source": [
    "# Task 9(b)\n",
    "first_name = 'Aditya'               # Answer is false in accordance to 'is' function used\n",
    "full_name = 'Aditya Kumar'\n",
    "first_name is full_name"
   ]
  },
  {
   "cell_type": "code",
   "execution_count": 62,
   "id": "fc1801ac",
   "metadata": {},
   "outputs": [
    {
     "name": "stdout",
     "output_type": "stream",
     "text": [
      "66\n",
      "1024\n"
     ]
    }
   ],
   "source": [
    "# Task 10\n",
    "a=4\n",
    "b=3\n",
    "c=2\n",
    "d= a**b+c\n",
    "e= a**(b+c)\n",
    "print(d)\n",
    "print(e)\n",
    "\n",
    "# values of both d and e are different because in d after getting values of a^b, c is added but in case of e values are a^(b+c)"
   ]
  },
  {
   "cell_type": "code",
   "execution_count": 63,
   "id": "aea03171",
   "metadata": {},
   "outputs": [
    {
     "name": "stdout",
     "output_type": "stream",
     "text": [
      "Area is circle is  113.03999999999999\n"
     ]
    }
   ],
   "source": [
    "# Task 11\n",
    "radius = 6\n",
    "area = 3.14 * radius * radius\n",
    "print('Area is circle is ', area)"
   ]
  },
  {
   "cell_type": "code",
   "execution_count": 65,
   "id": "22c661b4",
   "metadata": {},
   "outputs": [
    {
     "name": "stdout",
     "output_type": "stream",
     "text": [
      "Salse tax to be paid is  15.299999999999999\n",
      "Final Price to be paid is 100.3\n"
     ]
    }
   ],
   "source": [
    "# Task12\n",
    "SP = 85\n",
    "sales_tax = .18 * SP\n",
    "final_amount = 1.18 * SP\n",
    "print ('Sales tax to be paid is ', sales_tax)\n",
    "print ('Final Price to be paid is', final_amount)"
   ]
  },
  {
   "cell_type": "code",
   "execution_count": 70,
   "id": "841ccabe",
   "metadata": {},
   "outputs": [
    {
     "name": "stdout",
     "output_type": "stream",
     "text": [
      "Total Dollars with Individual are 44.44\n"
     ]
    }
   ],
   "source": [
    "# Task 13\n",
    "INR = 75\n",
    "Total_rupees = 3333\n",
    "Total_Dollors = Total_rupees/INR\n",
    "print ('Total Dollars with Individual are', Total_Dollors)"
   ]
  },
  {
   "cell_type": "code",
   "execution_count": 72,
   "id": "8e13b6f3",
   "metadata": {},
   "outputs": [
    {
     "name": "stdout",
     "output_type": "stream",
     "text": [
      "Purchasing Power last year with 7% inflation was = $  467.2897196261682\n"
     ]
    }
   ],
   "source": [
    "# Task14\n",
    "inflation = 7\n",
    "Purchasing_power = 500\n",
    "purchasing_power_ly = 500/1.07       # x+0.07x=500 , 1.07x=500,\n",
    "print('Purchasing Power last year with 7% inflation was = $ ',purchasing_power_ly)\n"
   ]
  },
  {
   "cell_type": "code",
   "execution_count": 69,
   "id": "3abc3ad8",
   "metadata": {},
   "outputs": [
    {
     "data": {
      "text/plain": [
       "502.20000000000005"
      ]
     },
     "execution_count": 69,
     "metadata": {},
     "output_type": "execute_result"
    }
   ],
   "source": [
    "# task 15 \n",
    "# Save File\n"
   ]
  }
 ],
 "metadata": {
  "kernelspec": {
   "display_name": "Python 3 (ipykernel)",
   "language": "python",
   "name": "python3"
  },
  "language_info": {
   "codemirror_mode": {
    "name": "ipython",
    "version": 3
   },
   "file_extension": ".py",
   "mimetype": "text/x-python",
   "name": "python",
   "nbconvert_exporter": "python",
   "pygments_lexer": "ipython3",
   "version": "3.9.7"
  }
 },
 "nbformat": 4,
 "nbformat_minor": 5
}
