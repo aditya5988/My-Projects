{
 "cells": [
  {
   "cell_type": "code",
   "execution_count": 3,
   "id": "792aa3ab",
   "metadata": {},
   "outputs": [
    {
     "name": "stdout",
     "output_type": "stream",
     "text": [
      "Enter a characterm\n",
      "Holiday\n"
     ]
    }
   ],
   "source": [
    "# Task 1\n",
    "char=input(\"Enter a character\")\n",
    "if char.upper()=='A' :\n",
    "    print('Python')\n",
    "elif char.upper()=='B' :\n",
    "    print('MySQL')\n",
    "elif char.upper()=='C' :\n",
    "    print('Excel')\n",
    "else :\n",
    "    print('Holiday')"
   ]
  },
  {
   "cell_type": "code",
   "execution_count": 7,
   "id": "35da0c9c",
   "metadata": {},
   "outputs": [
    {
     "name": "stdout",
     "output_type": "stream",
     "text": [
      "Enter a number :5\n",
      "Enter a number :2\n",
      "5 is greater than 2\n"
     ]
    }
   ],
   "source": [
    "# Task2\n",
    "num1=int(input(\"Enter a number :\"))\n",
    "num2=int(input(\"Enter a number :\"))\n",
    "if num1>num2:\n",
    "    print(num1 ,\"is greater than\", num2)\n",
    "else:\n",
    "    print(num2, \"is greater than\", num1)"
   ]
  },
  {
   "cell_type": "code",
   "execution_count": 10,
   "id": "80f8f804",
   "metadata": {},
   "outputs": [
    {
     "name": "stdout",
     "output_type": "stream",
     "text": [
      "Enter your basis salary20000\n",
      "Net salary after deductions = 24000.0\n"
     ]
    }
   ],
   "source": [
    "# Task 3\n",
    "salary=int(input(\"Enter your basis salary\"))\n",
    "if salary>0 and salary<=4000:\n",
    "    hra=salary*(10/100)\n",
    "    da=salary*(5/100)\n",
    "    Net_salary=salary+hra+da\n",
    "elif salary>=4001 and salary <=10000 :\n",
    "    hra=salary*(20/100)\n",
    "    da=salary*(10/100)\n",
    "    tax=salary*(15/100)\n",
    "    Net_salary=salary+hra+da-tax\n",
    "else:\n",
    "    hra=salary*(25/100)\n",
    "    da=salary*(15/100)\n",
    "    tax=salary*(20/100)\n",
    "    Net_salary=salary+hra+da-tax\n",
    "print(\"Net salary after deductions =\", Net_salary)\n",
    "    \n",
    "    "
   ]
  },
  {
   "cell_type": "code",
   "execution_count": 14,
   "id": "a8d159b7",
   "metadata": {},
   "outputs": [
    {
     "name": "stdout",
     "output_type": "stream",
     "text": [
      "Enter a worddesign\n",
      "The word exists in var variable\n"
     ]
    }
   ],
   "source": [
    "# Task 4\n",
    "var=\"Python is an interpreted high-level general-purpose programming language. Its design philosphy emphazises code readibilty with its use of significant indentation. Its language constructs as well as its object-oriented approach aim to help programmers write clear, logical code for small and large-scale projects\"\n",
    "word=input(\"Enter a word\")\n",
    "if word in var:\n",
    "    print(\"The word exists in var variable\")\n",
    "else:\n",
    "    print(\"The word doesn't exist in var variable\")"
   ]
  },
  {
   "cell_type": "code",
   "execution_count": null,
   "id": "a72d708c",
   "metadata": {},
   "outputs": [],
   "source": [
    "# Task5 : To be done in later part of course\n"
   ]
  },
  {
   "cell_type": "code",
   "execution_count": 16,
   "id": "bc3ef91c",
   "metadata": {},
   "outputs": [
    {
     "name": "stdout",
     "output_type": "stream",
     "text": [
      "Enter a characterM\n",
      "Upper case\n"
     ]
    }
   ],
   "source": [
    "# Task 6\n",
    "char=input(\"Enter a character\")\n",
    "if char==char.upper():\n",
    "    print(\"Upper case\")\n",
    "else:\n",
    "    print(\"Lower case\")\n"
   ]
  },
  {
   "cell_type": "code",
   "execution_count": 21,
   "id": "fc303f7d",
   "metadata": {},
   "outputs": [
    {
     "name": "stdout",
     "output_type": "stream",
     "text": [
      "Enter a characterO\n",
      "Vowel\n"
     ]
    }
   ],
   "source": [
    "# Task 7\n",
    "c=input(\"Enter a character\")\n",
    "if c.lower()=='a' or c.lower()=='e' or c.lower()=='i' or c.lower()=='o' or c.lower()=='u' or c.upper()=='A' or c.upper()=='E' or c.upper()=='I' or c.upper()=='O' or c.upper()=='U':\n",
    "    print('Vowel')\n",
    "else:\n",
    "    print('Consonant')"
   ]
  },
  {
   "cell_type": "code",
   "execution_count": 24,
   "id": "06ac8a0b",
   "metadata": {},
   "outputs": [
    {
     "name": "stdout",
     "output_type": "stream",
     "text": [
      "Enter a year :2021\n",
      "2021 is not a leap year\n"
     ]
    }
   ],
   "source": [
    "# Task 8\n",
    "year=int(input(\"Enter a year :\"))\n",
    "if year%4==0:\n",
    "    print(year,\" is a leap year\")\n",
    "else:\n",
    "    print(year, \"is not a leap year\")"
   ]
  },
  {
   "cell_type": "code",
   "execution_count": 28,
   "id": "075663b6",
   "metadata": {},
   "outputs": [
    {
     "name": "stdout",
     "output_type": "stream",
     "text": [
      "Enter a number between 1 and 128\n",
      "Month is August and has 31 days\n"
     ]
    }
   ],
   "source": [
    "# Task 9\n",
    "num=int(input(\"Enter a number between 1 and 12\"))\n",
    "if num==1:\n",
    "    print(\"Month is January and has 31 days\")\n",
    "elif num==2:\n",
    "    print(\"Month is February and has 28 days\")\n",
    "elif num==3:\n",
    "    print(\"Month is March and has 31 days\")\n",
    "elif num==4:\n",
    "    print(\"Month is April and has 30 days\")\n",
    "elif num==5:\n",
    "    print(\"Month is May and has 31 days\")\n",
    "elif num==6:\n",
    "    print(\"Month is June and has 30 days\")\n",
    "elif num==7:\n",
    "    print(\"Month is July and has 31 days\")\n",
    "elif num==8:\n",
    "    print(\"Month is August and has 31 days\")\n",
    "elif num==9:\n",
    "    print(\"Month is September and has 30 days\")\n",
    "elif num==10:\n",
    "    print(\"Month is October and has 31 days\")\n",
    "elif num==11:\n",
    "    print(\"Month is November and has 30 days\")\n",
    "elif num==12:\n",
    "    print(\"Month is December and has 31 days\")\n",
    "else :\n",
    "    print(\"Wrong input. Give a number between 1 and 12\")\n"
   ]
  },
  {
   "cell_type": "code",
   "execution_count": 31,
   "id": "277bd820",
   "metadata": {},
   "outputs": [
    {
     "name": "stdout",
     "output_type": "stream",
     "text": [
      "Enter your Gender :F\n",
      "Enter your age :45\n",
      "Discount is 30%\n"
     ]
    }
   ],
   "source": [
    "# Task 10\n",
    "gender=input(\"Enter your Gender :\")\n",
    "if gender.lower()=='f' or gender.upper()=='F':\n",
    "    age=int(input(\"Enter your age :\"))\n",
    "    if age>30:\n",
    "        print(\"Discount is 30%\")\n",
    "    elif age>=21 and age<=30:\n",
    "        print(\"Discount is 20%\")\n",
    "    elif age<=20:\n",
    "        print(\"Discount is 10%\")\n",
    "        \n",
    "else:\n",
    "    print(\"No discount\")"
   ]
  },
  {
   "cell_type": "code",
   "execution_count": null,
   "id": "6ce90945",
   "metadata": {},
   "outputs": [],
   "source": []
  }
 ],
 "metadata": {
  "kernelspec": {
   "display_name": "Python 3 (ipykernel)",
   "language": "python",
   "name": "python3"
  },
  "language_info": {
   "codemirror_mode": {
    "name": "ipython",
    "version": 3
   },
   "file_extension": ".py",
   "mimetype": "text/x-python",
   "name": "python",
   "nbconvert_exporter": "python",
   "pygments_lexer": "ipython3",
   "version": "3.9.7"
  }
 },
 "nbformat": 4,
 "nbformat_minor": 5
}
