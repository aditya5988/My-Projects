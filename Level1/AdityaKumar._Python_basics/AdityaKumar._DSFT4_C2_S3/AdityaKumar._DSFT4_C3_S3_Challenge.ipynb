{
 "cells": [
  {
   "cell_type": "code",
   "execution_count": 3,
   "id": "144149b5",
   "metadata": {},
   "outputs": [
    {
     "name": "stdout",
     "output_type": "stream",
     "text": [
      "Enter a string for empty listhello\n",
      "['hello']\n",
      "Enter a string for empty listaditya\n",
      "['hello', 'aditya']\n",
      "Enter a string for empty listpython\n",
      "['hello', 'aditya', 'python']\n",
      "Enter a string for empty listdelhi\n",
      "['hello', 'aditya', 'python', 'delhi']\n",
      "Enter a string for empty listnice\n",
      "['hello', 'aditya', 'python', 'delhi', 'nice']\n",
      "Enter a string for empty listgood\n",
      "['hello', 'aditya', 'python', 'delhi', 'nice', 'good']\n",
      "Enter a string for empty listword\n",
      "['hello', 'aditya', 'python', 'delhi', 'nice', 'good', 'word']\n",
      "Enter a string for empty listbad\n",
      "['hello', 'aditya', 'python', 'delhi', 'nice', 'good', 'word', 'bad']\n",
      "Enter a string for empty listlaptop\n",
      "['hello', 'aditya', 'python', 'delhi', 'nice', 'good', 'word', 'bad', 'laptop']\n",
      "Enter a string for empty listcloud\n",
      "['hello', 'aditya', 'python', 'delhi', 'nice', 'good', 'word', 'bad', 'laptop', 'cloud']\n",
      "olleh\n",
      "aytida\n",
      "nohtyp\n",
      "ihled\n",
      "ecin\n",
      "doog\n",
      "drow\n",
      "dab\n",
      "potpal\n",
      "duolc\n"
     ]
    }
   ],
   "source": [
    "# Task 1\n",
    "emptylist=[]\n",
    "for i in range(10):\n",
    "    emptylist.append(input(\"Enter a string for empty list\"))\n",
    "    print(emptylist)\n",
    "for j in range(len(emptylist)):\n",
    "    print(emptylist[j][-1::-1])"
   ]
  },
  {
   "cell_type": "code",
   "execution_count": 4,
   "id": "2eaf0492",
   "metadata": {},
   "outputs": [
    {
     "name": "stdout",
     "output_type": "stream",
     "text": [
      "Enter a string from empty list :hello\n",
      "['hello']\n",
      "Enter a string from empty list :aditya\n",
      "['hello', 'aditya']\n",
      "Enter a string from empty list :nice\n",
      "['aditya', 'hello', 'nice']\n",
      "Enter a string from empty list :good\n",
      "['nice', 'hello', 'aditya', 'good']\n",
      "Enter a string from empty list :weather\n",
      "['good', 'aditya', 'hello', 'nice', 'weather']\n",
      "Enter a string from empty list :python\n",
      "['weather', 'nice', 'hello', 'aditya', 'good', 'python']\n",
      "Enter a string from empty list :laptop\n",
      "['python', 'good', 'aditya', 'hello', 'nice', 'weather', 'laptop']\n",
      "Enter a string from empty list :mumbai\n",
      "['laptop', 'weather', 'nice', 'hello', 'aditya', 'good', 'python', 'mumbai']\n",
      "Enter a string from empty list :cloud\n",
      "['mumbai', 'python', 'good', 'aditya', 'hello', 'nice', 'weather', 'laptop', 'cloud']\n",
      "Enter a string from empty list :happy\n",
      "['cloud', 'laptop', 'weather', 'nice', 'hello', 'aditya', 'good', 'python', 'mumbai', 'happy']\n",
      "['happy', 'mumbai', 'python', 'good', 'aditya', 'hello', 'nice', 'weather', 'laptop', 'cloud']\n"
     ]
    }
   ],
   "source": [
    "# Task 2\n",
    "emptylist1=[]\n",
    "for i in range(10):\n",
    "    emptylist1.append(input(\"Enter a string from empty list :\"))\n",
    "    print(emptylist1)\n",
    "    emptylist1.reverse()\n",
    "print(emptylist1)"
   ]
  },
  {
   "cell_type": "code",
   "execution_count": 8,
   "id": "01465607",
   "metadata": {},
   "outputs": [
    {
     "name": "stdout",
     "output_type": "stream",
     "text": [
      "Enter a string in list :hello\n",
      "['hello']\n",
      "Enter a string in list :aditya\n",
      "['hello', 'aditya']\n",
      "Enter a string in list :python\n",
      "['hello', 'aditya', 'python']\n",
      "Enter a string in list :delhi\n",
      "['hello', 'aditya', 'python', 'delhi']\n",
      "Enter a string in list :hello\n",
      "['hello', 'aditya', 'python', 'delhi', 'hello']\n",
      "Enter a string in list :python\n",
      "['hello', 'aditya', 'python', 'delhi', 'hello', 'python']\n",
      "Enter a string in list :laptop\n",
      "['hello', 'aditya', 'python', 'delhi', 'hello', 'python', 'laptop']\n",
      "Enter a string in list :delhi\n",
      "['hello', 'aditya', 'python', 'delhi', 'hello', 'python', 'laptop', 'delhi']\n",
      "Enter a string in list :hello\n",
      "['hello', 'aditya', 'python', 'delhi', 'hello', 'python', 'laptop', 'delhi', 'hello']\n",
      "Enter a string in list :laptop\n",
      "['hello', 'aditya', 'python', 'delhi', 'hello', 'python', 'laptop', 'delhi', 'hello', 'laptop']\n"
     ]
    }
   ],
   "source": [
    "# Task 3\n",
    "alist1=[]\n",
    "for i in range(10):\n",
    "    alist1.append(input(\"Enter a string in list :\"))\n",
    "    print(alist1)"
   ]
  },
  {
   "cell_type": "code",
   "execution_count": 15,
   "id": "f90e7f5e",
   "metadata": {},
   "outputs": [
    {
     "name": "stdout",
     "output_type": "stream",
     "text": [
      "['hello', 'aditya', 'python', 'delhi', 'hello', 'python', 'laptop', 'delhi', 'hello', 'laptop']\n",
      "['hello', 'aditya', 'python', 'delhi', 'laptop']\n"
     ]
    }
   ],
   "source": [
    "# Task 4\n",
    "blist=[]\n",
    "print(alist1)\n",
    "for x in alist1:\n",
    "    if x in blist:\n",
    "        continue\n",
    "    else:\n",
    "        blist.append(x)\n",
    "print(blist)\n"
   ]
  },
  {
   "cell_type": "code",
   "execution_count": 16,
   "id": "d7178b26",
   "metadata": {},
   "outputs": [
    {
     "name": "stdout",
     "output_type": "stream",
     "text": [
      "['hello', 'aditya', 'python', 'delhi', 'laptop']\n"
     ]
    },
    {
     "data": {
      "text/plain": [
       "['aditya', 'delhi', 'hello', 'laptop', 'python']"
      ]
     },
     "execution_count": 16,
     "metadata": {},
     "output_type": "execute_result"
    }
   ],
   "source": [
    "# Task 5\n",
    "print(blist)\n",
    "sorted(blist)"
   ]
  },
  {
   "cell_type": "code",
   "execution_count": 37,
   "id": "ade8eb97",
   "metadata": {},
   "outputs": [
    {
     "name": "stdout",
     "output_type": "stream",
     "text": [
      "[]\n"
     ]
    }
   ],
   "source": [
    "# Task 6\n",
    "print(blist)\n",
    "for i in blist:\n",
    "    blist.pop()\n",
    "print(blist)\n"
   ]
  },
  {
   "cell_type": "code",
   "execution_count": 28,
   "id": "2462bb7c",
   "metadata": {},
   "outputs": [
    {
     "name": "stdout",
     "output_type": "stream",
     "text": [
      "The numbers that are divisible by 5 and 7 between 1500 and 2700 are : [1505, 1540, 1575, 1610, 1645, 1680, 1715, 1750, 1785, 1820, 1855, 1890, 1925, 1960, 1995, 2030, 2065, 2100, 2135, 2170, 2205, 2240, 2275, 2310, 2345, 2380, 2415, 2450, 2485, 2520, 2555, 2590, 2625, 2660, 2695]\n"
     ]
    }
   ],
   "source": [
    "# Task 7\n",
    "divisibles=[]\n",
    "for i in range (1500,2701):\n",
    "    if i%7==0:\n",
    "        if i%5==0:\n",
    "            divisibles.append(i)\n",
    "print(\"The numbers that are divisible by 5 and 7 between 1500 and 2700 are :\", divisibles)"
   ]
  },
  {
   "cell_type": "code",
   "execution_count": 27,
   "id": "baeb002f",
   "metadata": {},
   "outputs": [
    {
     "name": "stdout",
     "output_type": "stream",
     "text": [
      "Enter the number :5\n",
      "1\n",
      "2\n",
      "3\n",
      "4\n",
      "6\n",
      "7\n",
      "8\n",
      "9\n",
      "11\n",
      "12\n",
      "13\n",
      "14\n",
      "16\n",
      "17\n",
      "18\n",
      "19\n",
      "21\n",
      "22\n",
      "23\n",
      "24\n",
      "26\n",
      "27\n",
      "28\n",
      "29\n"
     ]
    }
   ],
   "source": [
    "# Task 8\n",
    "n=int(input('Enter the number :'))\n",
    "for i in range (1,31):\n",
    "    if i%n==0:\n",
    "        continue\n",
    "    else:\n",
    "        print(i)"
   ]
  },
  {
   "cell_type": "code",
   "execution_count": 36,
   "id": "ea5c6ee7",
   "metadata": {},
   "outputs": [
    {
     "name": "stdout",
     "output_type": "stream",
     "text": [
      "[[20, 20, 20], [20, 20, 20], [20, 20, 20]]\n"
     ]
    }
   ],
   "source": [
    "# Task 9\n",
    "firstlist=[[1,2,3],[4,5,6],[7,8,9]]\n",
    "secondlist=[[19,18,17], [16,15,14],[13,12,11]]\n",
    "thirdlist=[]\n",
    "for x in range(3):\n",
    "    templist=[]\n",
    "    for j in range(3):\n",
    "        templist.append(firstlist[i][j]+secondlist[i][j])\n",
    "        \n",
    "    thirdlist.append(templist)\n",
    "print(thirdlist)\n"
   ]
  },
  {
   "cell_type": "code",
   "execution_count": 39,
   "id": "948b6877",
   "metadata": {},
   "outputs": [
    {
     "name": "stdout",
     "output_type": "stream",
     "text": [
      "Enter values for first list:1\n",
      "Enter values for first list:2\n",
      "Enter values for first list:3\n",
      "Enter values for first list:4\n",
      "Enter values for first list:5\n",
      "Enter values for first list:6\n",
      "Enter values for first list:7\n",
      "Enter values for first list:8\n",
      "Enter values for first list:9\n",
      "Enter values for second list:10\n",
      "Enter values for second list:11\n",
      "Enter values for second list:12\n",
      "Enter values for second list:13\n",
      "Enter values for second list:14\n",
      "Enter values for second list:15\n",
      "Enter values for second list:16\n",
      "Enter values for second list:17\n",
      "Enter values for second list:18\n",
      "[[1, 2, 3], [4, 5, 6], [7, 8, 9]]\n",
      "[[10, 11, 12], [13, 14, 15], [16, 17, 18]]\n"
     ]
    }
   ],
   "source": [
    "# Task 10\n",
    "flist1=[]\n",
    "for i in range(3):\n",
    "    f=[]\n",
    "    for j in range(3):\n",
    "        f.append(int(input(\"Enter values for first list:\")))\n",
    "    flist1.append(f)\n",
    "\n",
    "flist2=[]\n",
    "for i in range(3):\n",
    "    f=[]\n",
    "    for j in range (3):\n",
    "        f.append(int(input(\"Enter values for second list:\")))\n",
    "    flist2.append(f)\n",
    "print(flist1)\n",
    "print(flist2)"
   ]
  },
  {
   "cell_type": "code",
   "execution_count": null,
   "id": "46f9de72",
   "metadata": {},
   "outputs": [],
   "source": []
  }
 ],
 "metadata": {
  "kernelspec": {
   "display_name": "Python 3 (ipykernel)",
   "language": "python",
   "name": "python3"
  },
  "language_info": {
   "codemirror_mode": {
    "name": "ipython",
    "version": 3
   },
   "file_extension": ".py",
   "mimetype": "text/x-python",
   "name": "python",
   "nbconvert_exporter": "python",
   "pygments_lexer": "ipython3",
   "version": "3.9.7"
  }
 },
 "nbformat": 4,
 "nbformat_minor": 5
}
