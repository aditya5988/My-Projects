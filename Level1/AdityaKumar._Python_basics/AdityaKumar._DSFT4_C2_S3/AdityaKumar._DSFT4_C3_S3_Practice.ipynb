{
 "cells": [
  {
   "cell_type": "code",
   "execution_count": 16,
   "id": "0231667c",
   "metadata": {},
   "outputs": [
    {
     "name": "stdout",
     "output_type": "stream",
     "text": [
      "True\n"
     ]
    }
   ],
   "source": [
    "# Task 1\n",
    "mynames=[\"Joe\",\"Zoe\",\"World\",\"Brad\",\"Angelina\",\"World\",\"Zuki\",\"Tom\",\"Paris\",\"World\",\"Magic\"]\n",
    "print(\"USA\" in mynames)"
   ]
  },
  {
   "cell_type": "code",
   "execution_count": 9,
   "id": "cc59d716",
   "metadata": {},
   "outputs": [
    {
     "name": "stdout",
     "output_type": "stream",
     "text": [
      "Number of times world is present= 3\n"
     ]
    }
   ],
   "source": [
    "# Task 2\n",
    "print(\"Number of times world is present=\", mynames.count(\"World\"))"
   ]
  },
  {
   "cell_type": "code",
   "execution_count": 17,
   "id": "87c8e162",
   "metadata": {},
   "outputs": [
    {
     "name": "stdout",
     "output_type": "stream",
     "text": [
      "Number of even numbers = 14\n",
      "Number of odd numbers = 15\n"
     ]
    }
   ],
   "source": [
    "# Task 3\n",
    "dataset=list(range(1,30))\n",
    "odd_count=0\n",
    "even_count=0\n",
    "for i in dataset:\n",
    "    if i%2==0:\n",
    "        even_count=even_count+1\n",
    "    else:\n",
    "        odd_count=odd_count+1\n",
    "\n",
    "print(\"Number of even numbers =\",even_count)\n",
    "print(\"Number of odd numbers =\",odd_count)"
   ]
  },
  {
   "cell_type": "code",
   "execution_count": 18,
   "id": "a3e59a5e",
   "metadata": {},
   "outputs": [
    {
     "name": "stdout",
     "output_type": "stream",
     "text": [
      "[2, 4, 6, 8, 10]\n"
     ]
    }
   ],
   "source": [
    "# Task 4\n",
    "L=[]\n",
    "count=0\n",
    "for x in dataset:\n",
    "    if (x%2==0):\n",
    "        L.append(x)\n",
    "        count=count+1\n",
    "    if (count==5):\n",
    "        break\n",
    "print(L)"
   ]
  },
  {
   "cell_type": "code",
   "execution_count": 22,
   "id": "e1f433bf",
   "metadata": {},
   "outputs": [
    {
     "name": "stdout",
     "output_type": "stream",
     "text": [
      "The last two odd numbers are :\n",
      "29 27 "
     ]
    }
   ],
   "source": [
    "# Task 5\n",
    "dataset = list(range(1,30))\n",
    "count=0\n",
    "length=len(dataset)\n",
    "print(\"The last two odd numbers are :\")\n",
    "for x in dataset:\n",
    "    y=dataset[length-1]\n",
    "    if(y%2!=0):\n",
    "        print(y, end=\" \")\n",
    "        count = count+1\n",
    "        if (count==2):\n",
    "            break\n",
    "    length=length-1\n",
    "        "
   ]
  },
  {
   "cell_type": "code",
   "execution_count": 23,
   "id": "8b181005",
   "metadata": {},
   "outputs": [
    {
     "name": "stdout",
     "output_type": "stream",
     "text": [
      "Enter the first list element in integer1\n",
      "Enter the first list element in integer2\n",
      "Enter the first list element in integer3\n",
      "Enter the first list element in integer4\n",
      "Enter the first list element in integer5\n",
      "Enter the second list element in integer6\n",
      "Enter the second list element in integer7\n",
      "Enter the second list element in integer8\n",
      "Enter the second list element in integer9\n",
      "Enter the second list element in integer10\n",
      "Enter the list in stringAditya\n",
      "Final list ['Aditya', 1, 2, 3, 4, 5, 6, 7, 8, 9, 10]\n"
     ]
    }
   ],
   "source": [
    "# Task 6\n",
    "x=[]\n",
    "y=[]\n",
    "for c in range (0,5):\n",
    "    x.append(int(input(\"Enter the first list element in integer\")))\n",
    "for c in range (0,5):\n",
    "    y.append(int(input(\"Enter the second list element in integer\")))\n",
    "x.extend(y)\n",
    "x.insert(0,input(\"Enter the list in string\"))\n",
    "print(\"Final list\", x)"
   ]
  },
  {
   "cell_type": "code",
   "execution_count": 25,
   "id": "f3f936ef",
   "metadata": {},
   "outputs": [
    {
     "name": "stdout",
     "output_type": "stream",
     "text": [
      "First and last ten elements of the list are:  [1, 4, 9, 16, 25, 36, 49, 64, 81, 100, 900, 961, 1024, 1089, 1156, 1225, 1296, 1369, 1444, 1521]\n"
     ]
    }
   ],
   "source": [
    "# Task 7\n",
    "num=[]\n",
    "for a in range(1,41):\n",
    "    num.append(a**2)\n",
    "length=len(num)-1\n",
    "final = num[0:10]+num[length-10:length]\n",
    "print(\"First and last ten elements of the list are: \",final)\n"
   ]
  },
  {
   "cell_type": "code",
   "execution_count": 28,
   "id": "b828e9e3",
   "metadata": {},
   "outputs": [
    {
     "name": "stdout",
     "output_type": "stream",
     "text": [
      "Enter the number whose table is required:5\n",
      "5 * 1 = 5\n",
      "5 * 2 = 10\n",
      "5 * 3 = 15\n",
      "5 * 4 = 20\n",
      "5 * 5 = 25\n",
      "5 * 6 = 30\n",
      "5 * 7 = 35\n",
      "5 * 8 = 40\n",
      "5 * 9 = 45\n",
      "5 * 10 = 50\n"
     ]
    }
   ],
   "source": [
    "# Task 8\n",
    "c=int(input(\"Enter the number whose table is required:\"))\n",
    "for a in range (1,11):\n",
    "    print(c, \"*\", a,\"=\",(c*a))"
   ]
  },
  {
   "cell_type": "code",
   "execution_count": null,
   "id": "01839fb1",
   "metadata": {},
   "outputs": [],
   "source": []
  }
 ],
 "metadata": {
  "kernelspec": {
   "display_name": "Python 3 (ipykernel)",
   "language": "python",
   "name": "python3"
  },
  "language_info": {
   "codemirror_mode": {
    "name": "ipython",
    "version": 3
   },
   "file_extension": ".py",
   "mimetype": "text/x-python",
   "name": "python",
   "nbconvert_exporter": "python",
   "pygments_lexer": "ipython3",
   "version": "3.9.7"
  }
 },
 "nbformat": 4,
 "nbformat_minor": 5
}
