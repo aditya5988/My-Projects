{
 "cells": [
  {
   "cell_type": "code",
   "execution_count": 1,
   "id": "2fbbded7",
   "metadata": {},
   "outputs": [
    {
     "name": "stdout",
     "output_type": "stream",
     "text": [
      "Enter a number:5\n",
      "Factorial of 1 is 120\n"
     ]
    }
   ],
   "source": [
    "# Task 1\n",
    "n=int(input(\"Enter a number:\"))\n",
    "fact=1\n",
    "while(n>=2):\n",
    "    fact=fact*n\n",
    "    n=n-1\n",
    "print(\"Factorial of\",n,\"is\",fact)"
   ]
  },
  {
   "cell_type": "code",
   "execution_count": 2,
   "id": "eeb1fdbe",
   "metadata": {},
   "outputs": [
    {
     "name": "stdout",
     "output_type": "stream",
     "text": [
      "  2\n",
      "  3\n",
      "  5\n",
      "  7\n",
      "  11\n",
      "  13\n",
      "  17\n",
      "  19\n"
     ]
    }
   ],
   "source": [
    "# Task 2\n",
    "num=1\n",
    "while(num<=20):\n",
    "    count=0\n",
    "    i=2\n",
    "    \n",
    "    while(i<=num//2):\n",
    "        if(num%i==0):\n",
    "            count=count+1\n",
    "            break\n",
    "        i=i+1\n",
    "    \n",
    "    if(count==0 and num!=1):\n",
    "        print(' ', num)\n",
    "    num=num+1"
   ]
  },
  {
   "cell_type": "code",
   "execution_count": 19,
   "id": "3583b103",
   "metadata": {},
   "outputs": [
    {
     "name": "stdout",
     "output_type": "stream",
     "text": [
      "Enter a number :765\n",
      "Sum of the numbers : 18\n"
     ]
    }
   ],
   "source": [
    "# Task 3\n",
    "a=int(input(\"Enter a number :\"))\n",
    "sum_=0\n",
    "rem=0\n",
    "num=a\n",
    "while (a>0):\n",
    "    rem=a%10\n",
    "    sum_=sum_+rem\n",
    "    a=a//10\n",
    "print(\"Sum of the numbers :\",sum_)\n"
   ]
  },
  {
   "cell_type": "code",
   "execution_count": 18,
   "id": "7c595275",
   "metadata": {},
   "outputs": [
    {
     "name": "stdout",
     "output_type": "stream",
     "text": [
      "Fibonacci Series\n",
      "1  \n",
      "2  \n",
      "3  \n",
      "5  \n",
      "8  \n",
      "13  \n",
      "21  \n"
     ]
    }
   ],
   "source": [
    "# Task 4\n",
    "print(\"Fibonacci Series\")\n",
    "sum=1\n",
    "n=7\n",
    "i=1\n",
    "temp=1\n",
    "while(n>0):\n",
    "    print(sum,\" \")\n",
    "    sum=i+temp\n",
    "    temp=i\n",
    "    i=sum\n",
    "    n=n-1\n",
    "    \n"
   ]
  },
  {
   "cell_type": "code",
   "execution_count": 12,
   "id": "7d071045",
   "metadata": {},
   "outputs": [
    {
     "name": "stdout",
     "output_type": "stream",
     "text": [
      "2103684609216\n",
      "(15, 17, 19, 'Hello', 'Good', 25, 4, 6, 10, 'Python', 'Happy', 77)\n",
      "2103680302672\n",
      "2103684610368\n"
     ]
    }
   ],
   "source": [
    "# Task 5\n",
    "t1=(15,17,19,\"Hello\",\"Good\",25)\n",
    "t2=(4,6,10,\"Python\",\"Happy\",77)           # There is change in id of t1 after the command because it has added elements and is now a new tuple\n",
    "print(id(t1))\n",
    "t1=t1+t2\n",
    "print(t1)\n",
    "print(id(t1))\n",
    "print(id(t2))"
   ]
  },
  {
   "cell_type": "code",
   "execution_count": 16,
   "id": "520bbebd",
   "metadata": {},
   "outputs": [
    {
     "name": "stdout",
     "output_type": "stream",
     "text": [
      "{70, 40, 10, 50, 20, 60, 30}\n"
     ]
    }
   ],
   "source": [
    "# Task 6\n",
    "m={10,20,30,40,50}\n",
    "n={30,40,50,60,70}\n",
    "m.update(n)\n",
    "print(m)\n",
    "\n"
   ]
  },
  {
   "cell_type": "code",
   "execution_count": 20,
   "id": "bf914ae9",
   "metadata": {},
   "outputs": [
    {
     "name": "stdout",
     "output_type": "stream",
     "text": [
      "2\n",
      "4\n"
     ]
    }
   ],
   "source": [
    "# Task 7\n",
    "port1 = {'FTP':1,'SSH':2, 'telnet':3, 'http':4}\n",
    "n=0\n",
    "temp=list(port1.values())\n",
    "while(n<4):\n",
    "    if temp[n]%2==0:\n",
    "        print(temp[n])\n",
    "    n=n+1"
   ]
  },
  {
   "cell_type": "code",
   "execution_count": 21,
   "id": "bd21e68f",
   "metadata": {},
   "outputs": [
    {
     "name": "stdout",
     "output_type": "stream",
     "text": [
      "{1: 1, 2: 4, 3: 9, 4: 16, 5: 25, 6: 36, 7: 49, 8: 64, 9: 81, 10: 100, 11: 121, 12: 144, 13: 169, 14: 196, 15: 225}\n",
      "{1: 1, 2: 4, 3: 9, 4: 16, 5: 25, 6: 36, 7: 49, 8: 64, 9: 81, 10: 100, 11: 121, 12: 144, 13: 169, 14: 196, 15: 225, 100: 10000}\n"
     ]
    }
   ],
   "source": [
    "# Task 8\n",
    "d={}\n",
    "for i in range(1,16):\n",
    "    d[i]=i**2\n",
    "    \n",
    "print(d)\n",
    "d[100]=10000\n",
    "print(d)"
   ]
  },
  {
   "cell_type": "code",
   "execution_count": 23,
   "id": "b84e475b",
   "metadata": {},
   "outputs": [
    {
     "name": "stdout",
     "output_type": "stream",
     "text": [
      "{'FTP': 21, 'SSH': 22, 'telnet': 23, 'fttp': 80}\n"
     ]
    }
   ],
   "source": [
    "# Task 9\n",
    "port1={21:'FTP', 22:'SSH', 23:'telnet', 80:'fttp'}\n",
    "port2={}\n",
    "for keys,values in port1.items():\n",
    "    temp={values:keys}\n",
    "    port2.update(temp)\n",
    "print(port2)"
   ]
  },
  {
   "cell_type": "code",
   "execution_count": 25,
   "id": "922e20da",
   "metadata": {},
   "outputs": [
    {
     "name": "stdout",
     "output_type": "stream",
     "text": [
      "{'emp1': {'name': 'Sara', 'dept': 'IT', 'Designation': 'Team lead'}, 'emp2': {'name': 'Anna', 'dept': 'IT', 'Designation': 'Senior Software Engineer'}, 'emp3': {'name': 'Andy', 'dept': 'Biotech', 'Designation': 'Senior Software Engineer'}, 'emp4': {'name': 'Andy', 'dept': 'Biotech', 'Designation': 'Senior Software Engineer'}}\n",
      "{'emp1': {'name': 'Sara', 'dept': 'IT', 'Designation': 'Team lead'}, 'emp2': {'name': 'Anna', 'dept': 'IT', 'Designation': 'Senior Software Engineer'}, 'emp3': {'name': 'Andy', 'dept': 'Biotech', 'Designation': 'Senior Software Engineer'}}\n"
     ]
    }
   ],
   "source": [
    "# Task 10\n",
    "Employee={\n",
    "    'emp1':{'name':'Sara','dept':'IT','Designation':'Team lead'},\n",
    "    'emp2':{'name':'Anna','dept':'IT','Designation':'Senior Software Engineer'},\n",
    "    'emp3':{'name':'Andy','dept':'Biotech','Designation':'Senior Software Engineer'},\n",
    "    'emp4':{'name':'Andy','dept':'Biotech','Designation':'Senior Software Engineer'}\n",
    "}\n",
    "print(Employee)\n",
    "del Employee['emp4']\n",
    "print(Employee)"
   ]
  },
  {
   "cell_type": "code",
   "execution_count": null,
   "id": "263f9e18",
   "metadata": {},
   "outputs": [],
   "source": []
  }
 ],
 "metadata": {
  "kernelspec": {
   "display_name": "Python 3 (ipykernel)",
   "language": "python",
   "name": "python3"
  },
  "language_info": {
   "codemirror_mode": {
    "name": "ipython",
    "version": 3
   },
   "file_extension": ".py",
   "mimetype": "text/x-python",
   "name": "python",
   "nbconvert_exporter": "python",
   "pygments_lexer": "ipython3",
   "version": "3.9.7"
  }
 },
 "nbformat": 4,
 "nbformat_minor": 5
}
