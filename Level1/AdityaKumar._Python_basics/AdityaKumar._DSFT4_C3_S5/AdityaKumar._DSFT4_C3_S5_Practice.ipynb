{
 "cells": [
  {
   "cell_type": "code",
   "execution_count": 2,
   "id": "8dc2abd7",
   "metadata": {},
   "outputs": [
    {
     "name": "stdout",
     "output_type": "stream",
     "text": [
      "Enter a String :mumbai\n",
      "String : mumbai\n",
      "Reverse: iabmum\n",
      "It is not a Palindrome\n"
     ]
    }
   ],
   "source": [
    "# Task 1\n",
    "def check(st):\n",
    "    rev=st[::-1]\n",
    "    print(\"String :\",st)\n",
    "    print(\"Reverse:\",rev)\n",
    "    if st==rev:\n",
    "        return True\n",
    "    else:\n",
    "        return False\n",
    "    \n",
    "x=input(\"Enter a String :\")\n",
    "if check(x):\n",
    "    print(\"It is a Palindrome\")\n",
    "else:\n",
    "    print(\"It is not a Palindrome\")"
   ]
  },
  {
   "cell_type": "code",
   "execution_count": 54,
   "id": "5683a587",
   "metadata": {},
   "outputs": [
    {
     "name": "stdout",
     "output_type": "stream",
     "text": [
      "Enter a sentencei love python programming language\n",
      "i language love programming python "
     ]
    }
   ],
   "source": [
    "# Task 2\n",
    "def alphabet(string):\n",
    "    x=string.split()\n",
    "    y= sorted(x)\n",
    "    for t in y:\n",
    "        print(t, end=' ')\n",
    "x=input(\"Enter a sentence\")\n",
    "alphabet(x)"
   ]
  },
  {
   "cell_type": "code",
   "execution_count": 42,
   "id": "00b13674",
   "metadata": {},
   "outputs": [
    {
     "name": "stdout",
     "output_type": "stream",
     "text": [
      "aditya\n"
     ]
    }
   ],
   "source": [
    "# Task 3\n",
    "def string(s):\n",
    "    str1=\"\"\n",
    "    return(str1.join(s))\n",
    "\n",
    "s = ['a','d','i','t','y','a']\n",
    "print(string(s))"
   ]
  },
  {
   "cell_type": "code",
   "execution_count": 45,
   "id": "0bb516f7",
   "metadata": {},
   "outputs": [
    {
     "name": "stdout",
     "output_type": "stream",
     "text": [
      "Enter a number:4\n",
      "Enter a number:5\n",
      "Enter a number:6\n",
      "Enter a number:7\n",
      "Enter a number:8\n",
      "Smallest number is 4\n",
      "Largest number is 8\n"
     ]
    }
   ],
   "source": [
    "# Task 4\n",
    "def nlist():\n",
    "    l= []\n",
    "    for i in range(5):\n",
    "        inp=int(input(\"Enter a number:\"))\n",
    "        l.append(inp)\n",
    "    print(\"Smallest number is\", min(l))\n",
    "    print(\"Largest number is\", max(l))\n",
    "    \n",
    "nlist()\n",
    "   "
   ]
  },
  {
   "cell_type": "code",
   "execution_count": 51,
   "id": "f9405b8a",
   "metadata": {},
   "outputs": [
    {
     "name": "stdout",
     "output_type": "stream",
     "text": [
      "Enter the elements in dictionary :5\n",
      "Enter key value: item1\n",
      "Enter values of keys: 45.50\n",
      "Enter key value: item2\n",
      "Enter values of keys: 35\n",
      "Enter key value: item3\n",
      "Enter values of keys: 41.30\n",
      "Enter key value: item4\n",
      "Enter values of keys: 29\n",
      "Enter key value: item5\n",
      "Enter values of keys: 49.89\n",
      "Maximum value in dictionary 49.89\n",
      "Minimum value in dictionary 29.0\n"
     ]
    }
   ],
   "source": [
    "# Task 5\n",
    "def dict():\n",
    "    d={}\n",
    "    n=int(input(\"Enter the elements in dictionary :\"))\n",
    "    for i in range(n):\n",
    "        keys=input(\"Enter key value: \")\n",
    "        value=float(input(\"Enter values of keys: \"))\n",
    "        d[keys]=value\n",
    "    print(\"Maximum value in dictionary\", max(d.values()))\n",
    "    print(\"Minimum value in dictionary\", min(d.values()))\n",
    "dict()"
   ]
  },
  {
   "cell_type": "code",
   "execution_count": 52,
   "id": "cb3a2957",
   "metadata": {},
   "outputs": [
    {
     "name": "stdout",
     "output_type": "stream",
     "text": [
      "Enter your name: Aditya\n",
      "Enter your age: 22\n",
      "Enter your gender: Male\n",
      "Profile Card: \n",
      "Name:  Aditya\n",
      "Age:  22\n",
      "Gender:  Male\n"
     ]
    }
   ],
   "source": [
    "# Task 6\n",
    "def func():\n",
    "    name=input(\"Enter your name: \")\n",
    "    age=int(input(\"Enter your age: \"))\n",
    "    gender=input(\"Enter your gender: \")\n",
    "    return name,age,gender\n",
    "def main():\n",
    "    l1=func()\n",
    "    print(\"Profile Card: \")\n",
    "    print(\"Name: \", l1[0])\n",
    "    print(\"Age: \", l1[1])\n",
    "    print(\"Gender: \", l1[2])\n",
    "main()\n",
    "            "
   ]
  },
  {
   "cell_type": "code",
   "execution_count": 46,
   "id": "0c7c83b9",
   "metadata": {},
   "outputs": [
    {
     "name": "stdout",
     "output_type": "stream",
     "text": [
      "Enter a number :5\n",
      "Enter another number :2\n",
      "Final value:  50\n"
     ]
    }
   ],
   "source": [
    "# Task 7\n",
    "def main():\n",
    "    x=int(input(\"Enter a number :\"))\n",
    "    y=int(input(\"Enter another number :\"))\n",
    "    def calc(a,b):\n",
    "        c=a**2*b\n",
    "        return c\n",
    "    print(\"Final value: \", calc(x,y))\n",
    "main()\n",
    "    \n",
    "\n",
    "\n"
   ]
  },
  {
   "cell_type": "code",
   "execution_count": 40,
   "id": "9597080d",
   "metadata": {},
   "outputs": [
    {
     "name": "stdout",
     "output_type": "stream",
     "text": [
      "The sorted list is : [('green', 1), ('blue', 2), ('yellow', 3), ('black', 4), ('red', 5)]\n"
     ]
    }
   ],
   "source": [
    "# Task 8\n",
    "colour=[('black',4),('green',1),('red',5),('blue',2),('yellow',3)]\n",
    "colour.sort(key=lambda item:item[1])\n",
    "print(\"The sorted list is :\",colour)\n"
   ]
  },
  {
   "cell_type": "code",
   "execution_count": 36,
   "id": "0d03e053",
   "metadata": {},
   "outputs": [
    {
     "name": "stdout",
     "output_type": "stream",
     "text": [
      "Original list:\n",
      "['Andy', 'Mandy', 'Sandy']\n",
      "['Handy', 'Brandy', 'Mandy']\n",
      "The intersection of two lists are : ['Mandy']\n"
     ]
    }
   ],
   "source": [
    "# Task 9\n",
    "a=[\"Andy\",\"Mandy\",\"Sandy\"]\n",
    "b=[\"Handy\",\"Brandy\",\"Mandy\"]\n",
    "print(\"Original list:\")\n",
    "print(a)\n",
    "print(b)\n",
    "result= list(filter(lambda x:x in a,b))\n",
    "print(\"The intersection of two lists are :\", result)"
   ]
  },
  {
   "cell_type": "code",
   "execution_count": 41,
   "id": "63bdd810",
   "metadata": {},
   "outputs": [
    {
     "data": {
      "text/plain": [
       "[29, 29, 29]"
      ]
     },
     "execution_count": 41,
     "metadata": {},
     "output_type": "execute_result"
    }
   ],
   "source": [
    "# Task 10\n",
    "c=[12,13,14]\n",
    "d=[17,16,15]\n",
    "list_sum=map(lambda x,y: x+y, c, d)\n",
    "list(list_sum)"
   ]
  },
  {
   "cell_type": "code",
   "execution_count": null,
   "id": "84824c4e",
   "metadata": {},
   "outputs": [],
   "source": []
  }
 ],
 "metadata": {
  "kernelspec": {
   "display_name": "Python 3 (ipykernel)",
   "language": "python",
   "name": "python3"
  },
  "language_info": {
   "codemirror_mode": {
    "name": "ipython",
    "version": 3
   },
   "file_extension": ".py",
   "mimetype": "text/x-python",
   "name": "python",
   "nbconvert_exporter": "python",
   "pygments_lexer": "ipython3",
   "version": "3.9.7"
  }
 },
 "nbformat": 4,
 "nbformat_minor": 5
}
