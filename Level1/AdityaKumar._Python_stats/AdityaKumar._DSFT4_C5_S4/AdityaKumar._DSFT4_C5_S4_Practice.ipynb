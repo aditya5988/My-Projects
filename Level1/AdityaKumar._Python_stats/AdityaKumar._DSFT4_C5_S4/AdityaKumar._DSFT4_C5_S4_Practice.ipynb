{
 "cells": [
  {
   "cell_type": "code",
   "execution_count": 3,
   "id": "5fc76ac0",
   "metadata": {},
   "outputs": [],
   "source": [
    "# Task 1\n",
    "import matplotlib.pyplot as plt\n",
    "import seaborn as sns\n",
    "import numpy as np\n",
    "import pandas as pd\n",
    "from scipy.stats import binom\n",
    "import scipy.stats as stats\n",
    "import statistics as st"
   ]
  },
  {
   "cell_type": "markdown",
   "id": "3e117996",
   "metadata": {},
   "source": [
    "\n",
    "a) No. of days last due to extreme weather conditions\n",
    "P(X<=10)= .03+.08+.15+.2+.19\n",
    "= .65\n",
    "\n",
    "b) Probability of loosing 8 to 12 days during summer\n",
    "P(8<=X<=12)\n",
    "= .15+.2+.19+.16+.10\n",
    "= .80\n",
    "\n",
    "c) Probability that number of days will not be lost all summer\n",
    "1-P(X>=6)\n",
    "= 1-(0.03+ 0.08+ 0.16+ 0.2+ 0.19+ 0.16+ 0.1+ 0.07+ 0.02)\n",
    "=0.0\n",
    "\n",
    " "
   ]
  },
  {
   "cell_type": "code",
   "execution_count": 28,
   "id": "66ba5c62",
   "metadata": {},
   "outputs": [
    {
     "name": "stdout",
     "output_type": "stream",
     "text": [
      "    X   P_X\n",
      "0   6  0.03\n",
      "1   7  0.08\n",
      "2   8  0.16\n",
      "3   9  0.20\n",
      "4  10  0.19\n",
      "5  11  0.16\n",
      "6  12  0.10\n",
      "7  13  0.07\n",
      "8  14  0.02\n"
     ]
    }
   ],
   "source": [
    "X=[6,7,8,9,10,11,12,13,14]\n",
    "P_X=[0.03,0.08,0.16,0.20,0.19,0.16,0.10,0.07,0.02]\n",
    "summer={'X':[6,7,8,9,10,11,12,13,14],'P_X':[0.03,0.08,0.16,0.20,0.19,0.16,0.10,0.07,0.02]}\n",
    "df_summer=pd.DataFrame(summer)\n",
    "print(df_summer)\n"
   ]
  },
  {
   "cell_type": "code",
   "execution_count": 26,
   "id": "744409bd",
   "metadata": {},
   "outputs": [
    {
     "name": "stdout",
     "output_type": "stream",
     "text": [
      "mean is : 10.0\n",
      "Standard Deviation : 2.7386127875258306\n"
     ]
    }
   ],
   "source": [
    "# Task1- d\n",
    "meanX=df_summer['X'].mean()\n",
    "print(\"mean is :\", meanX)\n",
    "\n",
    "sdX=df_summer['X']\n",
    "b=sdX.std()\n",
    "print(\"Standard Deviation :\",b)\n",
    "\n"
   ]
  },
  {
   "cell_type": "code",
   "execution_count": 31,
   "id": "e62a4ca6",
   "metadata": {},
   "outputs": [
    {
     "name": "stderr",
     "output_type": "stream",
     "text": [
      "C:\\Users\\AdityaKumar\\anaconda3\\lib\\site-packages\\seaborn\\_decorators.py:36: FutureWarning: Pass the following variables as keyword args: x, y. From version 0.12, the only valid positional argument will be `data`, and passing other arguments without an explicit keyword will result in an error or misinterpretation.\n",
      "  warnings.warn(\n"
     ]
    },
    {
     "data": {
      "image/png": "[encoded data removed]",
      "text/plain": [
       "<Figure size 432x288 with 1 Axes>"
      ]
     },
     "metadata": {
      "needs_background": "light"
     },
     "output_type": "display_data"
    }
   ],
   "source": [
    "# Task 1 - e)\n",
    "\n",
    "import seaborn as sns\n",
    "sns.barplot(X,P_X)\n",
    "plt.title(\"Probability distribution for weather \")\n",
    "\n",
    "plt.show()"
   ]
  },
  {
   "cell_type": "code",
   "execution_count": 33,
   "id": "5bbe11e0",
   "metadata": {},
   "outputs": [
    {
     "name": "stdout",
     "output_type": "stream",
     "text": [
      "[ 0  1  2  3  4  5  6  7  8  9 10 11 12 13 14 15 16 17 18 19 20]\n"
     ]
    }
   ],
   "source": [
    "# Task 2 a)\n",
    "\n",
    "p=0.10\n",
    "n=20\n",
    "q=1-p\n",
    "k=np.arange(0,n+1)\n",
    "print(k)"
   ]
  },
  {
   "cell_type": "code",
   "execution_count": 53,
   "id": "f0f2eb96",
   "metadata": {},
   "outputs": [
    {
     "name": "stdout",
     "output_type": "stream",
     "text": [
      "Probability of 20 purchases choosing oreo is : [9.999999999999956e-21, 1.8099999999999923e-18, 1.557099999999994e-16, 8.466309999999968e-15, 3.2634675999999883e-13, 9.481303719999969e-12, 2.1546783531999932e-10, 3.923225404119989e-09, 5.8149179847819855e-08, 7.088606331722185e-07, 7.150904021083766e-06, 5.9858531740360085e-05, 0.00041563501884547534, 0.0023860894089661137, 0.011253134164508988, 0.04317449528446335, 0.13295332343433502, 0.32307319481053387, 0.6082530018748321, 0.8784233454094307, 1.0]\n"
     ]
    }
   ],
   "source": [
    "cubinomial=list(binom.cdf(k,n,q))\n",
    "print('Probability of 20 purchases choosing oreo is :', cubinomial)"
   ]
  },
  {
   "cell_type": "code",
   "execution_count": 45,
   "id": "0245777c",
   "metadata": {},
   "outputs": [
    {
     "name": "stdout",
     "output_type": "stream",
     "text": [
      "Probability of fewer than four purchasers choose Oreo : 8.623839999999967e-15\n"
     ]
    }
   ],
   "source": [
    "# Task 2-a\n",
    "cubimomailsum=cubinomial[0]+cubinomial[1]+cubinomial[2]+cubinomial[3]\n",
    "print('Probability of fewer than four purchasers choose Oreo :', cubimomailsum )\n"
   ]
  },
  {
   "cell_type": "code",
   "execution_count": 46,
   "id": "3b500a4c",
   "metadata": {},
   "outputs": [
    {
     "name": "stdout",
     "output_type": "stream",
     "text": [
      "Mean is : 2.0\n",
      "Standard Deviation is : 1.3416407864998738\n"
     ]
    }
   ],
   "source": [
    "# Task 2-b\n",
    "mean= n*p\n",
    "sd=np.sqrt(n*p*(1-p))\n",
    "print(\"Mean is :\", mean)\n",
    "print(\"Standard Deviation is :\", sd)"
   ]
  },
  {
   "cell_type": "code",
   "execution_count": 50,
   "id": "eaab792d",
   "metadata": {},
   "outputs": [
    {
     "data": {
      "image/png": "[encoded data removed]",
      "text/plain": [
       "<Figure size 432x288 with 1 Axes>"
      ]
     },
     "metadata": {
      "needs_background": "light"
     },
     "output_type": "display_data"
    }
   ],
   "source": [
    "# task 2-c\n",
    "plt.plot(k,cubinomial)\n",
    "plt.title(\"binomial\")\n",
    "plt.xlabel(\"no of Oreo purchasers\")\n",
    "plt.ylabel(\"probability\")\n",
    "plt.show()"
   ]
  },
  {
   "cell_type": "code",
   "execution_count": 69,
   "id": "4a2c3999",
   "metadata": {},
   "outputs": [
    {
     "name": "stdout",
     "output_type": "stream",
     "text": [
      "[ 0  1  2  3  4  5  6  7  8  9 10 11 12 13 14 15]\n"
     ]
    }
   ],
   "source": [
    "# Task 3\n",
    "a=0.20\n",
    "n=15\n",
    "b=1-p\n",
    "k=np.arange(0,n+1)\n",
    "print(k)"
   ]
  },
  {
   "cell_type": "code",
   "execution_count": 71,
   "id": "47ab1baf",
   "metadata": {},
   "outputs": [
    {
     "name": "stdout",
     "output_type": "stream",
     "text": [
      "Probability for 5 overseas outsourcing company is : 0.10318229431910408\n"
     ]
    }
   ],
   "source": [
    "# Task 3 - a)\n",
    "\n",
    "binomial=binom.pmf(k,n,a)\n",
    "print('Probability for 5 overseas outsourcing company is :',binomial[5])"
   ]
  },
  {
   "cell_type": "code",
   "execution_count": 72,
   "id": "f0114788",
   "metadata": {},
   "outputs": [
    {
     "name": "stdout",
     "output_type": "stream",
     "text": [
      "Probability for more than 9 overseas outsourcing company is : 0.0007849853911040012\n"
     ]
    }
   ],
   "source": [
    "# Task 3 - b)\n",
    "\n",
    "gre_9=sum(binomial[9:])\n",
    "print('Probability for more than 9 overseas outsourcing company is :',gre_9)"
   ]
  },
  {
   "cell_type": "code",
   "execution_count": 73,
   "id": "81a2fec4",
   "metadata": {},
   "outputs": [
    {
     "name": "stdout",
     "output_type": "stream",
     "text": [
      "Probability for none of the overseas outsourcing company is : 0.03518437208883203\n"
     ]
    }
   ],
   "source": [
    "# Task 3 - c)\n",
    "\n",
    "print('Probability for none of the overseas outsourcing company is :',binomial[0])"
   ]
  },
  {
   "cell_type": "code",
   "execution_count": 75,
   "id": "60884a33",
   "metadata": {},
   "outputs": [
    {
     "name": "stdout",
     "output_type": "stream",
     "text": [
      "Probability for 4 to 7 overseas outsourcing company is : 0.3475981457162242\n"
     ]
    }
   ],
   "source": [
    "# Task 3 - d)\n",
    "\n",
    "bet_4=sum(binomial[4:8])\n",
    "print('Probability for 4 to 7 overseas outsourcing company is :',bet_4)\n"
   ]
  },
  {
   "cell_type": "code",
   "execution_count": 80,
   "id": "cc5df099",
   "metadata": {},
   "outputs": [
    {
     "data": {
      "image/png": "[encoded data removed]",
      "text/plain": [
       "<Figure size 432x288 with 1 Axes>"
      ]
     },
     "metadata": {
      "needs_background": "light"
     },
     "output_type": "display_data"
    },
    {
     "name": "stdout",
     "output_type": "stream",
     "text": [
      "Conclusion:\n",
      " \n",
      "Probability for 5 overseas outsourcing company is = 0.010470813556203011\n",
      "Probability for more than 9 overseas outsourcing company is =  0.0007849853911040012\n",
      "Probability for none of the overseas outsourcing company is =  0.20589113209464907\n",
      "Probability for 4 to 7 overseas outsourcing company is =  0.3475981457162242\n"
     ]
    }
   ],
   "source": [
    "# Task 3 - e\n",
    "binomial=binom.pmf(k,n,p)\n",
    "plt.plot(k,binomial,'o-')\n",
    "plt.title('Graph for Binomial Distribution')\n",
    "plt.xlabel('outsourcing')\n",
    "plt.ylabel('Probability')\n",
    "plt.show()\n",
    "print('Conclusion:\\n ')\n",
    "print('Probability for 5 overseas outsourcing company is =',binomial[5])\n",
    "print('Probability for more than 9 overseas outsourcing company is = ',gre_9)\n",
    "print('Probability for none of the overseas outsourcing company is = ',binomial[0])\n",
    "print('Probability for 4 to 7 overseas outsourcing company is = ',bet_4)"
   ]
  },
  {
   "cell_type": "code",
   "execution_count": 81,
   "id": "2a1b1a97",
   "metadata": {},
   "outputs": [
    {
     "data": {
      "text/html": [
       "<div>\n",
       "<style scoped>\n",
       "    .dataframe tbody tr th:only-of-type {\n",
       "        vertical-align: middle;\n",
       "    }\n",
       "\n",
       "    .dataframe tbody tr th {\n",
       "        vertical-align: top;\n",
       "    }\n",
       "\n",
       "    .dataframe thead th {\n",
       "        text-align: right;\n",
       "    }\n",
       "</style>\n",
       "<table border=\"1\" class=\"dataframe\">\n",
       "  <thead>\n",
       "    <tr style=\"text-align: right;\">\n",
       "      <th></th>\n",
       "      <th>Week 1</th>\n",
       "      <th>Week 2</th>\n",
       "      <th>Week 3</th>\n",
       "    </tr>\n",
       "  </thead>\n",
       "  <tbody>\n",
       "    <tr>\n",
       "      <th>0</th>\n",
       "      <td>3</td>\n",
       "      <td>1</td>\n",
       "      <td>5</td>\n",
       "    </tr>\n",
       "    <tr>\n",
       "      <th>1</th>\n",
       "      <td>6</td>\n",
       "      <td>2</td>\n",
       "      <td>3</td>\n",
       "    </tr>\n",
       "    <tr>\n",
       "      <th>2</th>\n",
       "      <td>4</td>\n",
       "      <td>4</td>\n",
       "      <td>5</td>\n",
       "    </tr>\n",
       "    <tr>\n",
       "      <th>3</th>\n",
       "      <td>6</td>\n",
       "      <td>0</td>\n",
       "      <td>3</td>\n",
       "    </tr>\n",
       "    <tr>\n",
       "      <th>4</th>\n",
       "      <td>2</td>\n",
       "      <td>2</td>\n",
       "      <td>5</td>\n",
       "    </tr>\n",
       "    <tr>\n",
       "      <th>5</th>\n",
       "      <td>3</td>\n",
       "      <td>6</td>\n",
       "      <td>4</td>\n",
       "    </tr>\n",
       "    <tr>\n",
       "      <th>6</th>\n",
       "      <td>1</td>\n",
       "      <td>5</td>\n",
       "      <td>7</td>\n",
       "    </tr>\n",
       "    <tr>\n",
       "      <th>7</th>\n",
       "      <td>5</td>\n",
       "      <td>4</td>\n",
       "      <td>3</td>\n",
       "    </tr>\n",
       "    <tr>\n",
       "      <th>8</th>\n",
       "      <td>1</td>\n",
       "      <td>2</td>\n",
       "      <td>4</td>\n",
       "    </tr>\n",
       "    <tr>\n",
       "      <th>9</th>\n",
       "      <td>0</td>\n",
       "      <td>5</td>\n",
       "      <td>8</td>\n",
       "    </tr>\n",
       "    <tr>\n",
       "      <th>10</th>\n",
       "      <td>3</td>\n",
       "      <td>3</td>\n",
       "      <td>3</td>\n",
       "    </tr>\n",
       "    <tr>\n",
       "      <th>11</th>\n",
       "      <td>3</td>\n",
       "      <td>4</td>\n",
       "      <td>1</td>\n",
       "    </tr>\n",
       "  </tbody>\n",
       "</table>\n",
       "</div>"
      ],
      "text/plain": [
       "    Week 1  Week 2  Week 3\n",
       "0        3       1       5\n",
       "1        6       2       3\n",
       "2        4       4       5\n",
       "3        6       0       3\n",
       "4        2       2       5\n",
       "5        3       6       4\n",
       "6        1       5       7\n",
       "7        5       4       3\n",
       "8        1       2       4\n",
       "9        0       5       8\n",
       "10       3       3       3\n",
       "11       3       4       1"
      ]
     },
     "execution_count": 81,
     "metadata": {},
     "output_type": "execute_result"
    }
   ],
   "source": [
    "# Task 4 \n",
    "\n",
    "week_1=[3,6,4,6,2,3,1,5,1,0,3,3]\n",
    "week_2=[1,2,4,0,2,6,5,4,2,5,3,4]\n",
    "week_3=[5,3,5,3,5,4,7,3,4,8,3,1]\n",
    "dct = {'Week 1':week_1,'Week 2':week_2,'Week 3':week_3}\n",
    "a=pd.DataFrame(dct)\n",
    "a"
   ]
  },
  {
   "cell_type": "code",
   "execution_count": 82,
   "id": "1c58b412",
   "metadata": {},
   "outputs": [
    {
     "name": "stdout",
     "output_type": "stream",
     "text": [
      "Mean is:  3.5\n"
     ]
    }
   ],
   "source": [
    "# Task 4\n",
    "\n",
    "b_mean=a.values.mean()\n",
    "print('Mean is: ',b_mean)"
   ]
  },
  {
   "cell_type": "code",
   "execution_count": 83,
   "id": "ff1701b0",
   "metadata": {},
   "outputs": [
    {
     "name": "stdout",
     "output_type": "stream",
     "text": [
      "\n",
      "Probability for no customer arrive in a 5 - minute interval of time 0.006737946999085467\n"
     ]
    },
    {
     "data": {
      "image/png": "[encoded data removed]",
      "text/plain": [
       "<Figure size 432x288 with 1 Axes>"
      ]
     },
     "metadata": {
      "needs_background": "light"
     },
     "output_type": "display_data"
    }
   ],
   "source": [
    "# a)\n",
    "\n",
    "from scipy.stats import poisson\n",
    "\n",
    "rate = 5          \n",
    "n=np.arange(0,36)\n",
    "\n",
    "poisson_data=poisson.pmf(n,rate)\n",
    "sum_p=0\n",
    "for i in poisson_data:\n",
    "    sum_p += i\n",
    "print('\\nProbability for no customer arrive in a 5 - minute interval of time',poisson_data[0])\n",
    "\n",
    "plt.plot(n,poisson_data,'o-')\n",
    "plt.title('Distribution Curve')\n",
    "plt.show()"
   ]
  },
  {
   "cell_type": "code",
   "execution_count": 84,
   "id": "e54b7fd6",
   "metadata": {},
   "outputs": [
    {
     "name": "stdout",
     "output_type": "stream",
     "text": [
      "\n",
      "Probability for six or more customer arrive in 5 - minute interval of time :  0.6159606548330635\n"
     ]
    },
    {
     "data": {
      "image/png": "[encoded data removed]",
      "text/plain": [
       "<Figure size 432x288 with 1 Axes>"
      ]
     },
     "metadata": {
      "needs_background": "light"
     },
     "output_type": "display_data"
    }
   ],
   "source": [
    "#  b)\n",
    "\n",
    "n=np.arange(6,36)\n",
    "rate=5\n",
    "k=poisson.pmf(n,rate)\n",
    "p=k.sum()\n",
    "print('\\nProbability for six or more customer arrive in 5 - minute interval of time : ',(1-p))\n",
    "\n",
    "plt.plot(n,k,'o-')\n",
    "plt.title('Distribution Curve')\n",
    "plt.show()"
   ]
  },
  {
   "cell_type": "code",
   "execution_count": 85,
   "id": "a7c42e84",
   "metadata": {},
   "outputs": [
    {
     "name": "stdout",
     "output_type": "stream",
     "text": [
      "\n",
      "Probability for fewer than 4 customer arrive in a 10 - minute interval of time 0.010336050675925721\n"
     ]
    },
    {
     "data": {
      "image/png": "[encoded data removed]",
      "text/plain": [
       "<Figure size 432x288 with 1 Axes>"
      ]
     },
     "metadata": {
      "needs_background": "light"
     },
     "output_type": "display_data"
    }
   ],
   "source": [
    "#  c)\n",
    "\n",
    "rate2=rate*2\n",
    "n=np.arange(0,4)\n",
    "poisson_data=poisson.pmf(n,rate2)\n",
    "a2=sum(poisson_data[:4])\n",
    "print('\\nProbability for fewer than 4 customer arrive in a 10 - minute interval of time',a2)\n",
    "\n",
    "plt.plot(n,poisson_data,'o-')\n",
    "plt.title('Distribution Curve')\n",
    "plt.show()"
   ]
  },
  {
   "cell_type": "code",
   "execution_count": 86,
   "id": "3d13f2f0",
   "metadata": {},
   "outputs": [
    {
     "name": "stdout",
     "output_type": "stream",
     "text": [
      "\n",
      "Probability for between 3 and 6 customer arrive in a 10 - minute interval of time 0.12737202516697155\n"
     ]
    },
    {
     "data": {
      "image/png": "[encoded data removed]",
      "text/plain": [
       "<Figure size 432x288 with 1 Axes>"
      ]
     },
     "metadata": {
      "needs_background": "light"
     },
     "output_type": "display_data"
    }
   ],
   "source": [
    "#  d)\n",
    "\n",
    "rate3=rate*2\n",
    "n=np.arange(3,7)\n",
    "poisson_data=poisson.pmf(n,rate3)\n",
    "print('\\nProbability for between 3 and 6 customer arrive in a 10 - minute interval of time',poisson_data.sum())\n",
    "\n",
    "plt.plot(n,poisson_data,'o-')\n",
    "plt.title('Distribution Curve')\n",
    "plt.show()"
   ]
  },
  {
   "cell_type": "code",
   "execution_count": 90,
   "id": "9f0b37c7",
   "metadata": {},
   "outputs": [
    {
     "name": "stdout",
     "output_type": "stream",
     "text": [
      "\n",
      "Probability for exactly 8 customer arrive in a 15 - minute interval of time 0.018002193147830747\n"
     ]
    },
    {
     "data": {
      "image/png": "[encoded data removed]",
      "text/plain": [
       "<Figure size 432x288 with 1 Axes>"
      ]
     },
     "metadata": {
      "needs_background": "light"
     },
     "output_type": "display_data"
    }
   ],
   "source": [
    "#  e)\n",
    "\n",
    "rate4=rate*3\n",
    "n=np.arange(0,9)\n",
    "poisson_data=poisson.pmf(n,rate4)\n",
    "a5=sum(poisson_data[:8])\n",
    "\n",
    "print('\\nProbability for exactly 8 customer arrive in a 15 - minute interval of time',a5)\n",
    "\n",
    "plt.plot(n,poisson_data,'o-')\n",
    "plt.title('Distribution Curve')\n",
    "plt.show()"
   ]
  },
  {
   "cell_type": "code",
   "execution_count": 96,
   "id": "4f234bb1",
   "metadata": {},
   "outputs": [
    {
     "name": "stdout",
     "output_type": "stream",
     "text": [
      "\n",
      "Probability that family did not make a trip to an amusement park last year :  0.5781048646705196\n"
     ]
    },
    {
     "data": {
      "image/png": "[encoded data removed]",
      "text/plain": [
       "<Figure size 432x288 with 1 Axes>"
      ]
     },
     "metadata": {
      "needs_background": "light"
     },
     "output_type": "display_data"
    }
   ],
   "source": [
    "# Task 5 - a)\n",
    "\n",
    "trips=0.548\n",
    "n=np.arange(0,13)\n",
    "poisson_data=poisson.pmf(n,trips)\n",
    "\n",
    "print('\\nProbability that family did not make a trip to an amusement park last year : ',poisson_data[0])\n",
    "\n",
    "plt.plot(n,poisson_data,'o-')\n",
    "plt.show()"
   ]
  },
  {
   "cell_type": "code",
   "execution_count": 97,
   "id": "56dc7bec",
   "metadata": {},
   "outputs": [
    {
     "name": "stdout",
     "output_type": "stream",
     "text": [
      "\n",
      "Probability that family took exactly 1 trip to an amusement park last year :  0.3168014658394448\n"
     ]
    },
    {
     "data": {
      "image/png": "[encoded data removed]",
      "text/plain": [
       "<Figure size 432x288 with 1 Axes>"
      ]
     },
     "metadata": {
      "needs_background": "light"
     },
     "output_type": "display_data"
    }
   ],
   "source": [
    "#  b)\n",
    "\n",
    "n=np.arange(0,13)\n",
    "poisson_data=poisson.pmf(n,trips)\n",
    "print('\\nProbability that family took exactly 1 trip to an amusement park last year : ',poisson_data[1])\n",
    "\n",
    "plt.plot(n,poisson_data,'o-')\n",
    "plt.show()"
   ]
  },
  {
   "cell_type": "code",
   "execution_count": 98,
   "id": "d9a59e00",
   "metadata": {},
   "outputs": [
    {
     "name": "stdout",
     "output_type": "stream",
     "text": [
      "\n",
      "Probability that family did not make a trip to an amusement park last year :  0.8949063305100032\n"
     ]
    },
    {
     "data": {
      "image/png": "[encoded data removed]",
      "text/plain": [
       "<Figure size 432x288 with 1 Axes>"
      ]
     },
     "metadata": {
      "needs_background": "light"
     },
     "output_type": "display_data"
    }
   ],
   "source": [
    "#  c)\n",
    "\n",
    "n=np.arange(0,13)\n",
    "poisson_data=poisson.pmf(n,trips)\n",
    "k=poisson_data[2:].sum()\n",
    "print('\\nProbability that family did not make a trip to an amusement park last year : ',(1-k))\n",
    "\n",
    "plt.plot(n,poisson_data,'ys-')\n",
    "plt.show()"
   ]
  },
  {
   "cell_type": "code",
   "execution_count": 99,
   "id": "c4af1bcd",
   "metadata": {},
   "outputs": [
    {
     "name": "stdout",
     "output_type": "stream",
     "text": [
      "\n",
      "Probability that family took fewer than 3 trip to an amusement park last year :  0.9817099321499723\n"
     ]
    },
    {
     "data": {
      "image/png": "[encoded data removed]",
      "text/plain": [
       "<Figure size 432x288 with 1 Axes>"
      ]
     },
     "metadata": {
      "needs_background": "light"
     },
     "output_type": "display_data"
    }
   ],
   "source": [
    "#  d)\n",
    "\n",
    "n=np.arange(0,39)\n",
    "poisson_data=poisson.pmf(n,trips)\n",
    "k=poisson_data[:3]\n",
    "print('\\nProbability that family took fewer than 3 trip to an amusement park last year : ',k.sum())\n",
    "\n",
    "plt.plot(n,poisson_data,'s-')\n",
    "plt.show()"
   ]
  },
  {
   "cell_type": "code",
   "execution_count": 100,
   "id": "509c2b10",
   "metadata": {},
   "outputs": [
    {
     "name": "stdout",
     "output_type": "stream",
     "text": [
      "\n",
      "Probability that family took exactly 4 trip to an amusement park last year :  0.0021722890655750783\n"
     ]
    },
    {
     "data": {
      "image/png": "[encoded data removed]",
      "text/plain": [
       "<Figure size 432x288 with 1 Axes>"
      ]
     },
     "metadata": {
      "needs_background": "light"
     },
     "output_type": "display_data"
    }
   ],
   "source": [
    "#  e)\n",
    "\n",
    "n=np.arange(0,78)\n",
    "poisson_data=poisson.pmf(n,trips)\n",
    "k=poisson_data[4:5]\n",
    "print('\\nProbability that family took exactly 4 trip to an amusement park last year : ',k.sum())\n",
    "\n",
    "plt.plot(n,poisson_data,'o-')\n",
    "plt.show()"
   ]
  },
  {
   "cell_type": "code",
   "execution_count": null,
   "id": "520df07a",
   "metadata": {},
   "outputs": [],
   "source": []
  }
 ],
 "metadata": {
  "kernelspec": {
   "display_name": "Python 3 (ipykernel)",
   "language": "python",
   "name": "python3"
  },
  "language_info": {
   "codemirror_mode": {
    "name": "ipython",
    "version": 3
   },
   "file_extension": ".py",
   "mimetype": "text/x-python",
   "name": "python",
   "nbconvert_exporter": "python",
   "pygments_lexer": "ipython3",
   "version": "3.9.7"
  }
 },
 "nbformat": 4,
 "nbformat_minor": 5
}
