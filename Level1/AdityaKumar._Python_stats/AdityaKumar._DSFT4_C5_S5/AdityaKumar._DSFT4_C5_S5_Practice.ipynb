{
 "cells": [
  {
   "cell_type": "code",
   "execution_count": 51,
   "id": "de7830bd",
   "metadata": {},
   "outputs": [],
   "source": [
    "import pandas as pd\n",
    "import numpy as np\n",
    "import matplotlib.pyplot as plt"
   ]
  },
  {
   "cell_type": "code",
   "execution_count": 59,
   "id": "593b5758",
   "metadata": {},
   "outputs": [
    {
     "name": "stdout",
     "output_type": "stream",
     "text": [
      "z score of $2000=  0.9213793103448276\n",
      "Probability associated with $2000 is 0.8215737866020797\n",
      "The probability of tax returns greater than $2000 are  0.1784262133979203\n"
     ]
    }
   ],
   "source": [
    "# Task 1\n",
    "from scipy.stats import norm\n",
    "mean_ret=1332\n",
    "sd_ret=725\n",
    "x1=2000\n",
    "\n",
    "z_x1=(x1-mean_ret)/sd_ret\n",
    "print('z score of $2000= ', z_x1)\n",
    "z_value=norm.cdf(z_x1)\n",
    "print(\"Probability associated with $2000 is\", z_value)\n",
    "\n",
    "z_act=1-norm.cdf(z_x1)\n",
    "print(\"The probability of tax returns greater than $2000 are \", z_act)\n"
   ]
  },
  {
   "cell_type": "code",
   "execution_count": 58,
   "id": "1f6869eb",
   "metadata": {},
   "outputs": [
    {
     "data": {
      "image/png": "[encoded data removed]",
      "text/plain": [
       "<Figure size 432x288 with 1 Axes>"
      ]
     },
     "metadata": {
      "needs_background": "light"
     },
     "output_type": "display_data"
    }
   ],
   "source": [
    "lower_p1=mean_ret-4*sd_ret\n",
    "upper_p1=mean_ret+4*sd_ret\n",
    "norm_p1=np.arange(lower_p1,upper_p1)\n",
    "plt.plot(norm_p1,norm.pdf(norm_p1,mean_ret,sd_ret))\n",
    "plt.show()"
   ]
  },
  {
   "cell_type": "code",
   "execution_count": null,
   "id": "66c9e477",
   "metadata": {},
   "outputs": [],
   "source": []
  },
  {
   "cell_type": "code",
   "execution_count": 63,
   "id": "b35407d3",
   "metadata": {},
   "outputs": [
    {
     "name": "stdout",
     "output_type": "stream",
     "text": [
      "z score of $100=  -1.6993103448275861\n",
      "Probability associated with $100 is 0.04463036222315338\n",
      "z score of $700=  -0.8717241379310345\n",
      "Probability associated with $700 is 0.19167944440584644\n",
      "Probability of price between $100 and $700 is  0.14704908218269308\n"
     ]
    }
   ],
   "source": [
    "x3=100\n",
    "x4=700\n",
    "z_x3=(x3-mean_ret)/sd_ret\n",
    "print('z score of $100= ', z_x3)\n",
    "z_value3=norm.cdf(z_x3)\n",
    "print(\"Probability associated with $100 is\", z_value3)\n",
    "\n",
    "z_x4=(x4-mean_ret)/sd_ret\n",
    "print('z score of $700= ', z_x4)\n",
    "z_value4=norm.cdf(z_x4)\n",
    "print(\"Probability associated with $700 is\", z_value4)\n",
    "\n",
    "print(\"Probability of price between $100 and $700 is \", z_value4-z_value3)\n",
    "\n",
    "\n",
    "\n",
    "\n",
    "\n",
    "\n",
    "\n",
    "\n"
   ]
  },
  {
   "cell_type": "code",
   "execution_count": 2,
   "id": "a58ba3c7",
   "metadata": {},
   "outputs": [
    {
     "data": {
      "text/html": [
       "<div>\n",
       "<style scoped>\n",
       "    .dataframe tbody tr th:only-of-type {\n",
       "        vertical-align: middle;\n",
       "    }\n",
       "\n",
       "    .dataframe tbody tr th {\n",
       "        vertical-align: top;\n",
       "    }\n",
       "\n",
       "    .dataframe thead th {\n",
       "        text-align: right;\n",
       "    }\n",
       "</style>\n",
       "<table border=\"1\" class=\"dataframe\">\n",
       "  <thead>\n",
       "    <tr style=\"text-align: right;\">\n",
       "      <th></th>\n",
       "      <th>index</th>\n",
       "      <th>price</th>\n",
       "      <th>speed</th>\n",
       "      <th>hd</th>\n",
       "      <th>ram</th>\n",
       "      <th>screen</th>\n",
       "      <th>cd</th>\n",
       "      <th>multi</th>\n",
       "      <th>premium</th>\n",
       "      <th>ads</th>\n",
       "      <th>trend</th>\n",
       "    </tr>\n",
       "  </thead>\n",
       "  <tbody>\n",
       "    <tr>\n",
       "      <th>0</th>\n",
       "      <td>1</td>\n",
       "      <td>1499</td>\n",
       "      <td>25</td>\n",
       "      <td>80</td>\n",
       "      <td>4</td>\n",
       "      <td>14</td>\n",
       "      <td>no</td>\n",
       "      <td>no</td>\n",
       "      <td>yes</td>\n",
       "      <td>94</td>\n",
       "      <td>1</td>\n",
       "    </tr>\n",
       "    <tr>\n",
       "      <th>1</th>\n",
       "      <td>2</td>\n",
       "      <td>1795</td>\n",
       "      <td>33</td>\n",
       "      <td>85</td>\n",
       "      <td>2</td>\n",
       "      <td>14</td>\n",
       "      <td>no</td>\n",
       "      <td>no</td>\n",
       "      <td>yes</td>\n",
       "      <td>94</td>\n",
       "      <td>1</td>\n",
       "    </tr>\n",
       "    <tr>\n",
       "      <th>2</th>\n",
       "      <td>3</td>\n",
       "      <td>1595</td>\n",
       "      <td>25</td>\n",
       "      <td>170</td>\n",
       "      <td>4</td>\n",
       "      <td>15</td>\n",
       "      <td>no</td>\n",
       "      <td>no</td>\n",
       "      <td>yes</td>\n",
       "      <td>94</td>\n",
       "      <td>1</td>\n",
       "    </tr>\n",
       "    <tr>\n",
       "      <th>3</th>\n",
       "      <td>4</td>\n",
       "      <td>1849</td>\n",
       "      <td>25</td>\n",
       "      <td>170</td>\n",
       "      <td>8</td>\n",
       "      <td>14</td>\n",
       "      <td>no</td>\n",
       "      <td>no</td>\n",
       "      <td>no</td>\n",
       "      <td>94</td>\n",
       "      <td>1</td>\n",
       "    </tr>\n",
       "    <tr>\n",
       "      <th>4</th>\n",
       "      <td>5</td>\n",
       "      <td>3295</td>\n",
       "      <td>33</td>\n",
       "      <td>340</td>\n",
       "      <td>16</td>\n",
       "      <td>14</td>\n",
       "      <td>no</td>\n",
       "      <td>no</td>\n",
       "      <td>yes</td>\n",
       "      <td>94</td>\n",
       "      <td>1</td>\n",
       "    </tr>\n",
       "    <tr>\n",
       "      <th>...</th>\n",
       "      <td>...</td>\n",
       "      <td>...</td>\n",
       "      <td>...</td>\n",
       "      <td>...</td>\n",
       "      <td>...</td>\n",
       "      <td>...</td>\n",
       "      <td>...</td>\n",
       "      <td>...</td>\n",
       "      <td>...</td>\n",
       "      <td>...</td>\n",
       "      <td>...</td>\n",
       "    </tr>\n",
       "    <tr>\n",
       "      <th>6254</th>\n",
       "      <td>6255</td>\n",
       "      <td>1690</td>\n",
       "      <td>100</td>\n",
       "      <td>528</td>\n",
       "      <td>8</td>\n",
       "      <td>15</td>\n",
       "      <td>no</td>\n",
       "      <td>no</td>\n",
       "      <td>yes</td>\n",
       "      <td>39</td>\n",
       "      <td>35</td>\n",
       "    </tr>\n",
       "    <tr>\n",
       "      <th>6255</th>\n",
       "      <td>6256</td>\n",
       "      <td>2223</td>\n",
       "      <td>66</td>\n",
       "      <td>850</td>\n",
       "      <td>16</td>\n",
       "      <td>15</td>\n",
       "      <td>yes</td>\n",
       "      <td>yes</td>\n",
       "      <td>yes</td>\n",
       "      <td>39</td>\n",
       "      <td>35</td>\n",
       "    </tr>\n",
       "    <tr>\n",
       "      <th>6256</th>\n",
       "      <td>6257</td>\n",
       "      <td>2654</td>\n",
       "      <td>100</td>\n",
       "      <td>1200</td>\n",
       "      <td>24</td>\n",
       "      <td>15</td>\n",
       "      <td>yes</td>\n",
       "      <td>no</td>\n",
       "      <td>yes</td>\n",
       "      <td>39</td>\n",
       "      <td>35</td>\n",
       "    </tr>\n",
       "    <tr>\n",
       "      <th>6257</th>\n",
       "      <td>6258</td>\n",
       "      <td>2195</td>\n",
       "      <td>100</td>\n",
       "      <td>850</td>\n",
       "      <td>16</td>\n",
       "      <td>15</td>\n",
       "      <td>yes</td>\n",
       "      <td>no</td>\n",
       "      <td>yes</td>\n",
       "      <td>39</td>\n",
       "      <td>35</td>\n",
       "    </tr>\n",
       "    <tr>\n",
       "      <th>6258</th>\n",
       "      <td>6259</td>\n",
       "      <td>2490</td>\n",
       "      <td>100</td>\n",
       "      <td>850</td>\n",
       "      <td>16</td>\n",
       "      <td>17</td>\n",
       "      <td>yes</td>\n",
       "      <td>no</td>\n",
       "      <td>yes</td>\n",
       "      <td>39</td>\n",
       "      <td>35</td>\n",
       "    </tr>\n",
       "  </tbody>\n",
       "</table>\n",
       "<p>6259 rows × 11 columns</p>\n",
       "</div>"
      ],
      "text/plain": [
       "      index  price  speed    hd  ram  screen   cd multi premium  ads  trend\n",
       "0         1   1499     25    80    4      14   no    no     yes   94      1\n",
       "1         2   1795     33    85    2      14   no    no     yes   94      1\n",
       "2         3   1595     25   170    4      15   no    no     yes   94      1\n",
       "3         4   1849     25   170    8      14   no    no      no   94      1\n",
       "4         5   3295     33   340   16      14   no    no     yes   94      1\n",
       "...     ...    ...    ...   ...  ...     ...  ...   ...     ...  ...    ...\n",
       "6254   6255   1690    100   528    8      15   no    no     yes   39     35\n",
       "6255   6256   2223     66   850   16      15  yes   yes     yes   39     35\n",
       "6256   6257   2654    100  1200   24      15  yes    no     yes   39     35\n",
       "6257   6258   2195    100   850   16      15  yes    no     yes   39     35\n",
       "6258   6259   2490    100   850   16      17  yes    no     yes   39     35\n",
       "\n",
       "[6259 rows x 11 columns]"
      ]
     },
     "execution_count": 2,
     "metadata": {},
     "output_type": "execute_result"
    }
   ],
   "source": [
    "# Task 2\n",
    "\n",
    "import pandas as pd\n",
    "comp_df=pd.read_csv('DS1_C5_S5_Continuous_Practice_Computers_Data.csv')\n",
    "comp_df"
   ]
  },
  {
   "cell_type": "code",
   "execution_count": 9,
   "id": "43dc1846",
   "metadata": {},
   "outputs": [
    {
     "data": {
      "text/html": [
       "<div>\n",
       "<style scoped>\n",
       "    .dataframe tbody tr th:only-of-type {\n",
       "        vertical-align: middle;\n",
       "    }\n",
       "\n",
       "    .dataframe tbody tr th {\n",
       "        vertical-align: top;\n",
       "    }\n",
       "\n",
       "    .dataframe thead th {\n",
       "        text-align: right;\n",
       "    }\n",
       "</style>\n",
       "<table border=\"1\" class=\"dataframe\">\n",
       "  <thead>\n",
       "    <tr style=\"text-align: right;\">\n",
       "      <th></th>\n",
       "      <th>index</th>\n",
       "      <th>price</th>\n",
       "      <th>speed</th>\n",
       "      <th>hd</th>\n",
       "      <th>ram</th>\n",
       "      <th>screen</th>\n",
       "      <th>cd</th>\n",
       "      <th>multi</th>\n",
       "      <th>premium</th>\n",
       "      <th>ads</th>\n",
       "      <th>trend</th>\n",
       "    </tr>\n",
       "  </thead>\n",
       "  <tbody>\n",
       "    <tr>\n",
       "      <th>0</th>\n",
       "      <td>1</td>\n",
       "      <td>1499</td>\n",
       "      <td>25</td>\n",
       "      <td>80</td>\n",
       "      <td>4</td>\n",
       "      <td>14</td>\n",
       "      <td>no</td>\n",
       "      <td>no</td>\n",
       "      <td>yes</td>\n",
       "      <td>94</td>\n",
       "      <td>1</td>\n",
       "    </tr>\n",
       "    <tr>\n",
       "      <th>1</th>\n",
       "      <td>2</td>\n",
       "      <td>1795</td>\n",
       "      <td>33</td>\n",
       "      <td>85</td>\n",
       "      <td>2</td>\n",
       "      <td>14</td>\n",
       "      <td>no</td>\n",
       "      <td>no</td>\n",
       "      <td>yes</td>\n",
       "      <td>94</td>\n",
       "      <td>1</td>\n",
       "    </tr>\n",
       "    <tr>\n",
       "      <th>2</th>\n",
       "      <td>3</td>\n",
       "      <td>1595</td>\n",
       "      <td>25</td>\n",
       "      <td>170</td>\n",
       "      <td>4</td>\n",
       "      <td>15</td>\n",
       "      <td>no</td>\n",
       "      <td>no</td>\n",
       "      <td>yes</td>\n",
       "      <td>94</td>\n",
       "      <td>1</td>\n",
       "    </tr>\n",
       "    <tr>\n",
       "      <th>3</th>\n",
       "      <td>4</td>\n",
       "      <td>1849</td>\n",
       "      <td>25</td>\n",
       "      <td>170</td>\n",
       "      <td>8</td>\n",
       "      <td>14</td>\n",
       "      <td>no</td>\n",
       "      <td>no</td>\n",
       "      <td>no</td>\n",
       "      <td>94</td>\n",
       "      <td>1</td>\n",
       "    </tr>\n",
       "    <tr>\n",
       "      <th>4</th>\n",
       "      <td>5</td>\n",
       "      <td>3295</td>\n",
       "      <td>33</td>\n",
       "      <td>340</td>\n",
       "      <td>16</td>\n",
       "      <td>14</td>\n",
       "      <td>no</td>\n",
       "      <td>no</td>\n",
       "      <td>yes</td>\n",
       "      <td>94</td>\n",
       "      <td>1</td>\n",
       "    </tr>\n",
       "    <tr>\n",
       "      <th>...</th>\n",
       "      <td>...</td>\n",
       "      <td>...</td>\n",
       "      <td>...</td>\n",
       "      <td>...</td>\n",
       "      <td>...</td>\n",
       "      <td>...</td>\n",
       "      <td>...</td>\n",
       "      <td>...</td>\n",
       "      <td>...</td>\n",
       "      <td>...</td>\n",
       "      <td>...</td>\n",
       "    </tr>\n",
       "    <tr>\n",
       "      <th>6254</th>\n",
       "      <td>6255</td>\n",
       "      <td>1690</td>\n",
       "      <td>100</td>\n",
       "      <td>528</td>\n",
       "      <td>8</td>\n",
       "      <td>15</td>\n",
       "      <td>no</td>\n",
       "      <td>no</td>\n",
       "      <td>yes</td>\n",
       "      <td>39</td>\n",
       "      <td>35</td>\n",
       "    </tr>\n",
       "    <tr>\n",
       "      <th>6255</th>\n",
       "      <td>6256</td>\n",
       "      <td>2223</td>\n",
       "      <td>66</td>\n",
       "      <td>850</td>\n",
       "      <td>16</td>\n",
       "      <td>15</td>\n",
       "      <td>yes</td>\n",
       "      <td>yes</td>\n",
       "      <td>yes</td>\n",
       "      <td>39</td>\n",
       "      <td>35</td>\n",
       "    </tr>\n",
       "    <tr>\n",
       "      <th>6256</th>\n",
       "      <td>6257</td>\n",
       "      <td>2654</td>\n",
       "      <td>100</td>\n",
       "      <td>1200</td>\n",
       "      <td>24</td>\n",
       "      <td>15</td>\n",
       "      <td>yes</td>\n",
       "      <td>no</td>\n",
       "      <td>yes</td>\n",
       "      <td>39</td>\n",
       "      <td>35</td>\n",
       "    </tr>\n",
       "    <tr>\n",
       "      <th>6257</th>\n",
       "      <td>6258</td>\n",
       "      <td>2195</td>\n",
       "      <td>100</td>\n",
       "      <td>850</td>\n",
       "      <td>16</td>\n",
       "      <td>15</td>\n",
       "      <td>yes</td>\n",
       "      <td>no</td>\n",
       "      <td>yes</td>\n",
       "      <td>39</td>\n",
       "      <td>35</td>\n",
       "    </tr>\n",
       "    <tr>\n",
       "      <th>6258</th>\n",
       "      <td>6259</td>\n",
       "      <td>2490</td>\n",
       "      <td>100</td>\n",
       "      <td>850</td>\n",
       "      <td>16</td>\n",
       "      <td>17</td>\n",
       "      <td>yes</td>\n",
       "      <td>no</td>\n",
       "      <td>yes</td>\n",
       "      <td>39</td>\n",
       "      <td>35</td>\n",
       "    </tr>\n",
       "  </tbody>\n",
       "</table>\n",
       "<p>6229 rows × 11 columns</p>\n",
       "</div>"
      ],
      "text/plain": [
       "      index  price  speed    hd  ram  screen   cd multi premium  ads  trend\n",
       "0         1   1499     25    80    4      14   no    no     yes   94      1\n",
       "1         2   1795     33    85    2      14   no    no     yes   94      1\n",
       "2         3   1595     25   170    4      15   no    no     yes   94      1\n",
       "3         4   1849     25   170    8      14   no    no      no   94      1\n",
       "4         5   3295     33   340   16      14   no    no     yes   94      1\n",
       "...     ...    ...    ...   ...  ...     ...  ...   ...     ...  ...    ...\n",
       "6254   6255   1690    100   528    8      15   no    no     yes   39     35\n",
       "6255   6256   2223     66   850   16      15  yes   yes     yes   39     35\n",
       "6256   6257   2654    100  1200   24      15  yes    no     yes   39     35\n",
       "6257   6258   2195    100   850   16      15  yes    no     yes   39     35\n",
       "6258   6259   2490    100   850   16      17  yes    no     yes   39     35\n",
       "\n",
       "[6229 rows x 11 columns]"
      ]
     },
     "execution_count": 9,
     "metadata": {},
     "output_type": "execute_result"
    }
   ],
   "source": [
    "price_df=comp_df[(comp_df.price<=4000)]\n",
    "price_df\n"
   ]
  },
  {
   "cell_type": "code",
   "execution_count": 10,
   "id": "964570ba",
   "metadata": {},
   "outputs": [
    {
     "name": "stdout",
     "output_type": "stream",
     "text": [
      "     index  price  speed    hd  ram  screen   cd multi premium  ads  trend\n",
      "0     1530   2295     33   426    8      14   no    no     yes  283     10\n",
      "1      325   1690     33    85    2      14   no    no     yes  108      4\n",
      "2     1582   1499     25   120    4      14   no    no     yes  283     10\n",
      "3     1307   2690     33   528   16      14   no    no     yes  246      9\n",
      "4     4247   2494     33   720   16      14  yes    no     yes  248     20\n",
      "..     ...    ...    ...   ...  ...     ...  ...   ...     ...  ...    ...\n",
      "618   3865   2118     66   340    8      17  yes    no     yes  273     18\n",
      "619    359   3125     66   250    8      17   no    no     yes  108      4\n",
      "620   2032   2595     66   424    4      17   no    no     yes  259     11\n",
      "621   3835   2390     33   540    8      17  yes    no     yes  273     18\n",
      "622   4926   2409     66  1000    8      17   no    no     yes  191     23\n",
      "\n",
      "[623 rows x 11 columns]\n"
     ]
    }
   ],
   "source": [
    "grouped_comp_df=price_df.groupby(['screen'])\n",
    "screen_size=price_df.screen.unique()\n",
    "strata_sample_df=pd.DataFrame()\n",
    "for s in screen_size:\n",
    "    comp_data=grouped_comp_df.get_group(s)\n",
    "    sample_data=comp_data.sample(frac=.1, random_state=1, replace=True)\n",
    "    strata_sample_df=strata_sample_df.append(sample_data,ignore_index=True)\n",
    "    \n",
    "print(strata_sample_df)"
   ]
  },
  {
   "cell_type": "code",
   "execution_count": null,
   "id": "56df1d9f",
   "metadata": {},
   "outputs": [],
   "source": [
    "# part 3"
   ]
  },
  {
   "cell_type": "code",
   "execution_count": 11,
   "id": "50f96cce",
   "metadata": {},
   "outputs": [
    {
     "name": "stdout",
     "output_type": "stream",
     "text": [
      "sample mean = 2189.593900481541\n",
      "sample median = 2143\n"
     ]
    }
   ],
   "source": [
    "import statistics as st\n",
    "comp_s=strata_sample_df['price'].tolist()\n",
    "s_mean=st.mean(comp_s)\n",
    "s_median=st.median(comp_s)\n",
    "\n",
    "print(\"sample mean =\", s_mean )\n",
    "print(\"sample median =\", s_median )"
   ]
  },
  {
   "cell_type": "code",
   "execution_count": 12,
   "id": "c7792e80",
   "metadata": {},
   "outputs": [
    {
     "name": "stdout",
     "output_type": "stream",
     "text": [
      "Population mean = 2219.576609682058\n",
      "Population median = 2144\n"
     ]
    }
   ],
   "source": [
    "comp_p=comp_df['price'].tolist()\n",
    "p_mean=st.mean(comp_p)\n",
    "p_median=st.median(comp_p)\n",
    "\n",
    "print(\"Population mean =\", p_mean )\n",
    "print(\"Population median =\", p_median )"
   ]
  },
  {
   "cell_type": "code",
   "execution_count": 14,
   "id": "a2247356",
   "metadata": {},
   "outputs": [
    {
     "name": "stdout",
     "output_type": "stream",
     "text": [
      "Population SD  580.8039556527063\n",
      "sample SD  561.3056985543769\n",
      "Sample SD from Population SD  23.269419129322955\n"
     ]
    }
   ],
   "source": [
    "import math\n",
    "p_sd=st.stdev(comp_p)\n",
    "s_sd=st.stdev(comp_s)\n",
    "sd_f_p=p_sd/math.sqrt(len(comp_s))\n",
    "print(\"Population SD \", p_sd)\n",
    "print(\"sample SD \", s_sd)\n",
    "print(\"Sample SD from Population SD \", sd_f_p)\n"
   ]
  },
  {
   "cell_type": "code",
   "execution_count": 17,
   "id": "c6ace2b9",
   "metadata": {},
   "outputs": [
    {
     "data": {
      "image/png": "[encoded data removed]",
      "text/plain": [
       "<Figure size 432x288 with 1 Axes>"
      ]
     },
     "metadata": {
      "needs_background": "light"
     },
     "output_type": "display_data"
    }
   ],
   "source": [
    "import matplotlib.pyplot as plt\n",
    "from scipy.stats import norm\n",
    "lower_s=s_mean-4*s_sd\n",
    "upper_s=s_mean+4*s_sd\n",
    "norm_s=np.arange(lower_s,upper_s)\n",
    "plt.plot(norm_s, norm.pdf(norm_s, s_mean, s_sd))\n",
    "plt.show()\n"
   ]
  },
  {
   "cell_type": "code",
   "execution_count": 20,
   "id": "7baf2058",
   "metadata": {},
   "outputs": [
    {
     "data": {
      "image/png": "[encoded data removed]",
      "text/plain": [
       "<Figure size 432x288 with 1 Axes>"
      ]
     },
     "metadata": {
      "needs_background": "light"
     },
     "output_type": "display_data"
    }
   ],
   "source": [
    "import matplotlib.pyplot as plt\n",
    "from scipy.stats import norm\n",
    "lower_p=p_mean-4*p_sd\n",
    "upper_p=p_mean+4*p_sd\n",
    "norm_p=np.arange(lower_p,upper_p)\n",
    "plt.plot(norm_p, norm.pdf(norm_p, p_mean, p_sd))\n",
    "plt.show()"
   ]
  },
  {
   "cell_type": "code",
   "execution_count": 50,
   "id": "f012fa41",
   "metadata": {},
   "outputs": [],
   "source": [
    "# Standard normal probability distribution\n",
    "\n",
    "std_data=[]\n",
    "for x in norm_s:\n",
    "    zs=(x-s_mean)/s_sd\n",
    "    std_data.append(zs)\n",
    "\n",
    "    \n"
   ]
  },
  {
   "cell_type": "code",
   "execution_count": 37,
   "id": "e553d9ff",
   "metadata": {},
   "outputs": [
    {
     "data": {
      "image/png": "[encoded data removed]",
      "text/plain": [
       "<Figure size 432x288 with 1 Axes>"
      ]
     },
     "metadata": {
      "needs_background": "light"
     },
     "output_type": "display_data"
    }
   ],
   "source": [
    "import numpy as np\n",
    "x_all=np.arange(std_data[0], std_data[-1], 10)\n",
    "plt.plot(std_data, norm.pdf(std_data, st.mean(std_data), st.stdev(std_data)), color=\"orange\")\n",
    "plt.show()"
   ]
  },
  {
   "cell_type": "code",
   "execution_count": 33,
   "id": "fc3844a2",
   "metadata": {},
   "outputs": [
    {
     "name": "stdout",
     "output_type": "stream",
     "text": [
      "z score of $2700 is  0.238173635090994\n",
      "z score of $1301 is  -0.4146495100326644\n",
      "z score of $2000 is  -0.08847125524964995\n",
      "z score of $2900 is  0.3315007466168923\n",
      "Probability associated with z=$2700 is  0.5941267875323177\n",
      "Probability associated with z=$1301 is  0.33919924931460577\n",
      "Probability associated with z=$2000 is  0.4647510648605825\n",
      "Probability associated with z=$2900 is  0.6298668614400782\n"
     ]
    }
   ],
   "source": [
    "a1=2700\n",
    "a2=1301\n",
    "a3=2000\n",
    "a4=2900\n",
    "mean= 2189.5939\n",
    "sd=2143\n",
    "\n",
    "z1=(a1-mean)/sd\n",
    "z2=(a2-mean)/sd\n",
    "z3=(a3-mean)/sd\n",
    "z4=(a4-mean)/sd\n",
    "print(\"z score of $2700 is \", z1)\n",
    "print(\"z score of $1301 is \", z2)\n",
    "print(\"z score of $2000 is \", z3)\n",
    "print(\"z score of $2900 is \", z4)\n",
    "\n",
    "b1=norm.cdf(z1)\n",
    "b2=norm.cdf(z2)\n",
    "b3=norm.cdf(z3)\n",
    "b4=norm.cdf(z4) \n",
    "\n",
    "\n",
    "print(\"Probability associated with z=$2700 is \", norm.cdf(z1) )\n",
    "print(\"Probability associated with z=$1301 is \", norm.cdf(z2) )\n",
    "print(\"Probability associated with z=$2000 is \", norm.cdf(z3) )\n",
    "print(\"Probability associated with z=$2900 is \", norm.cdf(z4) )\n"
   ]
  },
  {
   "cell_type": "code",
   "execution_count": 36,
   "id": "3970430d",
   "metadata": {},
   "outputs": [
    {
     "name": "stdout",
     "output_type": "stream",
     "text": [
      "Probability of price greater than $2700 is  0.40587321246768227\n",
      "Probability of price less than $1301 is  0.33919924931460577\n",
      "Probability of price between $2000 and $2900 is  0.1651157965794957\n"
     ]
    }
   ],
   "source": [
    "print(\"Probability of price greater than $2700 is \", 1-b1)\n",
    "print(\"Probability of price less than $1301 is \", b2)\n",
    "print(\"Probability of price between $2000 and $2900 is \", b4-b3)\n"
   ]
  },
  {
   "cell_type": "code",
   "execution_count": null,
   "id": "38059694",
   "metadata": {},
   "outputs": [],
   "source": []
  },
  {
   "cell_type": "code",
   "execution_count": null,
   "id": "20140287",
   "metadata": {},
   "outputs": [],
   "source": []
  }
 ],
 "metadata": {
  "kernelspec": {
   "display_name": "Python 3 (ipykernel)",
   "language": "python",
   "name": "python3"
  },
  "language_info": {
   "codemirror_mode": {
    "name": "ipython",
    "version": 3
   },
   "file_extension": ".py",
   "mimetype": "text/x-python",
   "name": "python",
   "nbconvert_exporter": "python",
   "pygments_lexer": "ipython3",
   "version": "3.9.7"
  }
 },
 "nbformat": 4,
 "nbformat_minor": 5
}
