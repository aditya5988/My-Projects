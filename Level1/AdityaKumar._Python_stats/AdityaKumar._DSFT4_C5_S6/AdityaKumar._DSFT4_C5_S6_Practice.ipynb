{
 "cells": [
  {
   "cell_type": "code",
   "execution_count": 6,
   "id": "a2ff4689",
   "metadata": {},
   "outputs": [],
   "source": [
    "# task 1\n",
    "import numpy as np\n",
    "import math\n",
    "from scipy.stats import norm\n",
    "p_mean=33.88\n",
    "mean_rent=32.18\n",
    "sd_rent=1.28\n",
    "n=49\n",
    "alpha=.05\n",
    "\n"
   ]
  },
  {
   "cell_type": "markdown",
   "id": "9479c294",
   "metadata": {},
   "source": [
    "Establish the null and alternate hypothesis\n",
    "\n",
    "H0= 33.88 Null Hypothesis\n",
    "Ha!= 33.88  Alternate Hypothesis"
   ]
  },
  {
   "cell_type": "code",
   "execution_count": 30,
   "id": "8db61c77",
   "metadata": {},
   "outputs": [
    {
     "name": "stdout",
     "output_type": "stream",
     "text": [
      "The Z statistics is =  -7.513009550107081\n",
      "The p_value is = 5.778331062892301e-14\n",
      "The critical value is = 1.959963984540054\n",
      "True\n",
      "True\n"
     ]
    }
   ],
   "source": [
    "rent_statistics1=(mean_rent-p_mean)/(sd_rent/math.sqrt(n))\n",
    "print(\"The Z statistics is = \", rent_statistics1)\n",
    "\n",
    "p_value1=norm.sf(abs(rent_statistics1))*2\n",
    "\n",
    "\n",
    "print(\"The p_value is =\", p_value1)\n",
    "\n",
    "rent_critical1=norm.ppf(1-alpha/2)\n",
    "print(\"The critical value is =\", rent_critical1)\n",
    "\n",
    "print(p_value1<alpha)\n",
    "print(rent_statistics1<rent_critical1)"
   ]
  },
  {
   "cell_type": "markdown",
   "id": "58c55051",
   "metadata": {},
   "source": [
    "\n",
    "Z_statistics is less than Z_critical which leads to acceptance of Null hyphothesis"
   ]
  },
  {
   "cell_type": "markdown",
   "id": "de07b888",
   "metadata": {},
   "source": [
    "# Task 2\n",
    "\n",
    "Establish the null and alternate hypothesis\n",
    "\n",
    "H0= 85 Null Hypothesis\n",
    "Ha>85  Alternate Hypothesis\n"
   ]
  },
  {
   "cell_type": "code",
   "execution_count": 9,
   "id": "1d89cdf9",
   "metadata": {},
   "outputs": [
    {
     "name": "stdout",
     "output_type": "stream",
     "text": [
      "The Z statistics is =  6.734350297014738\n",
      "The p_value is = 8.233201952582752e-12\n",
      "The critical value is = 1.6448536269514722\n",
      "True\n",
      "False\n"
     ]
    }
   ],
   "source": [
    "\n",
    "p_mean1=85\n",
    "sd_thr=2.1\n",
    "mean_thr=87.5\n",
    "n=32\n",
    "alpha=.05\n",
    "\n",
    "thr_statistics=(mean_thr-p_mean1)/(sd_thr/math.sqrt(n))\n",
    "print(\"The Z statistics is = \", thr_statistics)\n",
    "\n",
    "p_value1=norm.sf(abs(thr_statistics))\n",
    "print(\"The p_value is =\", p_value1)\n",
    "\n",
    "thr_critical=norm.ppf(1-alpha)\n",
    "print(\"The critical value is =\", thr_critical)\n",
    "\n",
    "print(p_value1<alpha)\n",
    "print(thr_statistics<thr_critical)\n"
   ]
  },
  {
   "cell_type": "code",
   "execution_count": null,
   "id": "7457d754",
   "metadata": {},
   "outputs": [],
   "source": []
  },
  {
   "cell_type": "code",
   "execution_count": 31,
   "id": "9d45d562",
   "metadata": {},
   "outputs": [
    {
     "data": {
      "image/png": "[encoded data removed]",
      "text/plain": [
       "<Figure size 432x288 with 1 Axes>"
      ]
     },
     "metadata": {
      "needs_background": "light"
     },
     "output_type": "display_data"
    }
   ],
   "source": [
    "import matplotlib.pyplot as plt\n",
    "upper=mean_thr+4*sd_thr\n",
    "lower=mean_thr-4*sd_thr\n",
    "\n",
    "x=np.arange(lower,upper,.05)\n",
    "tvals5=norm.pdf(x,mean_thr,sd_thr)\n",
    "plt.plot(x,tvals5,color='blue')\n",
    "plt.show()"
   ]
  },
  {
   "cell_type": "code",
   "execution_count": null,
   "id": "d0cd63f6",
   "metadata": {},
   "outputs": [],
   "source": [
    "P_value is less than alpha which leads to rejection of Null hypothesis\n",
    "Z_statistics is greater than Z_critical which leads to rejection of Null hyphothesis"
   ]
  },
  {
   "cell_type": "code",
   "execution_count": 17,
   "id": "f8e7befe",
   "metadata": {},
   "outputs": [
    {
     "data": {
      "text/html": [
       "<div>\n",
       "<style scoped>\n",
       "    .dataframe tbody tr th:only-of-type {\n",
       "        vertical-align: middle;\n",
       "    }\n",
       "\n",
       "    .dataframe tbody tr th {\n",
       "        vertical-align: top;\n",
       "    }\n",
       "\n",
       "    .dataframe thead th {\n",
       "        text-align: right;\n",
       "    }\n",
       "</style>\n",
       "<table border=\"1\" class=\"dataframe\">\n",
       "  <thead>\n",
       "    <tr style=\"text-align: right;\">\n",
       "      <th></th>\n",
       "      <th>California</th>\n",
       "      <th>Florida</th>\n",
       "    </tr>\n",
       "  </thead>\n",
       "  <tbody>\n",
       "    <tr>\n",
       "      <th>0</th>\n",
       "      <td>2.55</td>\n",
       "      <td>2.25</td>\n",
       "    </tr>\n",
       "    <tr>\n",
       "      <th>1</th>\n",
       "      <td>2.36</td>\n",
       "      <td>2.40</td>\n",
       "    </tr>\n",
       "    <tr>\n",
       "      <th>2</th>\n",
       "      <td>2.38</td>\n",
       "      <td>2.19</td>\n",
       "    </tr>\n",
       "    <tr>\n",
       "      <th>3</th>\n",
       "      <td>2.43</td>\n",
       "      <td>2.39</td>\n",
       "    </tr>\n",
       "    <tr>\n",
       "      <th>4</th>\n",
       "      <td>2.73</td>\n",
       "      <td>2.39</td>\n",
       "    </tr>\n",
       "    <tr>\n",
       "      <th>5</th>\n",
       "      <td>2.67</td>\n",
       "      <td>2.50</td>\n",
       "    </tr>\n",
       "    <tr>\n",
       "      <th>6</th>\n",
       "      <td>2.54</td>\n",
       "      <td>2.33</td>\n",
       "    </tr>\n",
       "    <tr>\n",
       "      <th>7</th>\n",
       "      <td>2.24</td>\n",
       "      <td>2.33</td>\n",
       "    </tr>\n",
       "    <tr>\n",
       "      <th>8</th>\n",
       "      <td>2.43</td>\n",
       "      <td>2.40</td>\n",
       "    </tr>\n",
       "    <tr>\n",
       "      <th>9</th>\n",
       "      <td>2.80</td>\n",
       "      <td>2.49</td>\n",
       "    </tr>\n",
       "    <tr>\n",
       "      <th>10</th>\n",
       "      <td>2.50</td>\n",
       "      <td>2.19</td>\n",
       "    </tr>\n",
       "    <tr>\n",
       "      <th>11</th>\n",
       "      <td>2.64</td>\n",
       "      <td>2.29</td>\n",
       "    </tr>\n",
       "    <tr>\n",
       "      <th>12</th>\n",
       "      <td>2.25</td>\n",
       "      <td>2.59</td>\n",
       "    </tr>\n",
       "    <tr>\n",
       "      <th>13</th>\n",
       "      <td>2.38</td>\n",
       "      <td>2.23</td>\n",
       "    </tr>\n",
       "    <tr>\n",
       "      <th>14</th>\n",
       "      <td>2.61</td>\n",
       "      <td>2.41</td>\n",
       "    </tr>\n",
       "    <tr>\n",
       "      <th>15</th>\n",
       "      <td>2.71</td>\n",
       "      <td>2.56</td>\n",
       "    </tr>\n",
       "    <tr>\n",
       "      <th>16</th>\n",
       "      <td>2.80</td>\n",
       "      <td>2.48</td>\n",
       "    </tr>\n",
       "    <tr>\n",
       "      <th>17</th>\n",
       "      <td>2.49</td>\n",
       "      <td>2.29</td>\n",
       "    </tr>\n",
       "    <tr>\n",
       "      <th>18</th>\n",
       "      <td>2.69</td>\n",
       "      <td>2.28</td>\n",
       "    </tr>\n",
       "    <tr>\n",
       "      <th>19</th>\n",
       "      <td>2.43</td>\n",
       "      <td>2.39</td>\n",
       "    </tr>\n",
       "    <tr>\n",
       "      <th>20</th>\n",
       "      <td>2.23</td>\n",
       "      <td>2.59</td>\n",
       "    </tr>\n",
       "    <tr>\n",
       "      <th>21</th>\n",
       "      <td>2.61</td>\n",
       "      <td>2.58</td>\n",
       "    </tr>\n",
       "    <tr>\n",
       "      <th>22</th>\n",
       "      <td>2.57</td>\n",
       "      <td>2.53</td>\n",
       "    </tr>\n",
       "    <tr>\n",
       "      <th>23</th>\n",
       "      <td>2.36</td>\n",
       "      <td>2.26</td>\n",
       "    </tr>\n",
       "    <tr>\n",
       "      <th>24</th>\n",
       "      <td>2.57</td>\n",
       "      <td>2.39</td>\n",
       "    </tr>\n",
       "    <tr>\n",
       "      <th>25</th>\n",
       "      <td>2.56</td>\n",
       "      <td>2.58</td>\n",
       "    </tr>\n",
       "    <tr>\n",
       "      <th>26</th>\n",
       "      <td>2.38</td>\n",
       "      <td>2.29</td>\n",
       "    </tr>\n",
       "    <tr>\n",
       "      <th>27</th>\n",
       "      <td>2.43</td>\n",
       "      <td>2.27</td>\n",
       "    </tr>\n",
       "    <tr>\n",
       "      <th>28</th>\n",
       "      <td>2.71</td>\n",
       "      <td>2.45</td>\n",
       "    </tr>\n",
       "    <tr>\n",
       "      <th>29</th>\n",
       "      <td>2.25</td>\n",
       "      <td>2.56</td>\n",
       "    </tr>\n",
       "    <tr>\n",
       "      <th>30</th>\n",
       "      <td>2.64</td>\n",
       "      <td>NaN</td>\n",
       "    </tr>\n",
       "    <tr>\n",
       "      <th>31</th>\n",
       "      <td>2.27</td>\n",
       "      <td>NaN</td>\n",
       "    </tr>\n",
       "    <tr>\n",
       "      <th>32</th>\n",
       "      <td>2.18</td>\n",
       "      <td>NaN</td>\n",
       "    </tr>\n",
       "  </tbody>\n",
       "</table>\n",
       "</div>"
      ],
      "text/plain": [
       "    California  Florida\n",
       "0         2.55     2.25\n",
       "1         2.36     2.40\n",
       "2         2.38     2.19\n",
       "3         2.43     2.39\n",
       "4         2.73     2.39\n",
       "5         2.67     2.50\n",
       "6         2.54     2.33\n",
       "7         2.24     2.33\n",
       "8         2.43     2.40\n",
       "9         2.80     2.49\n",
       "10        2.50     2.19\n",
       "11        2.64     2.29\n",
       "12        2.25     2.59\n",
       "13        2.38     2.23\n",
       "14        2.61     2.41\n",
       "15        2.71     2.56\n",
       "16        2.80     2.48\n",
       "17        2.49     2.29\n",
       "18        2.69     2.28\n",
       "19        2.43     2.39\n",
       "20        2.23     2.59\n",
       "21        2.61     2.58\n",
       "22        2.57     2.53\n",
       "23        2.36     2.26\n",
       "24        2.57     2.39\n",
       "25        2.56     2.58\n",
       "26        2.38     2.29\n",
       "27        2.43     2.27\n",
       "28        2.71     2.45\n",
       "29        2.25     2.56\n",
       "30        2.64      NaN\n",
       "31        2.27      NaN\n",
       "32        2.18      NaN"
      ]
     },
     "execution_count": 17,
     "metadata": {},
     "output_type": "execute_result"
    }
   ],
   "source": [
    "# Task 3\n",
    "import pandas as pd\n",
    "market_df=pd.read_csv(\"DS1_C5_S6_Hypothesis_I_Practice_CityPrice_Data.csv\")\n",
    "market_df"
   ]
  },
  {
   "cell_type": "code",
   "execution_count": 20,
   "id": "93a2855a",
   "metadata": {},
   "outputs": [],
   "source": [
    "ad_df=market_df\n",
    "market_df1=ad_df.dropna()"
   ]
  },
  {
   "cell_type": "code",
   "execution_count": 25,
   "id": "25d7b4b8",
   "metadata": {},
   "outputs": [
    {
     "name": "stdout",
     "output_type": "stream",
     "text": [
      " mean = 2.4966666666666666\n",
      " std = 0.17584913041202863\n",
      "Variance is =  0.028\n",
      "33\n"
     ]
    }
   ],
   "source": [
    "import statistics as st\n",
    "from scipy.stats import norm\n",
    "s_mean1=st.mean(market_df['California'])\n",
    "print(\" mean =\", (s_mean1))\n",
    "s_sd1=st.stdev(market_df['California'])\n",
    "print(\" std =\", (s_sd1))\n",
    "s_v1=0.028\n",
    "print(\"Variance is = \", s_v1)\n",
    "\n",
    "n1=len(market_df['California'])\n",
    "print(n1)"
   ]
  },
  {
   "cell_type": "code",
   "execution_count": 26,
   "id": "9204e502",
   "metadata": {},
   "outputs": [
    {
     "name": "stdout",
     "output_type": "stream",
     "text": [
      " mean = 2.396\n",
      " std = 0.12713283848278406\n",
      "Variance is =  0.015\n",
      "30\n"
     ]
    }
   ],
   "source": [
    "s_mean2=st.mean(market_df1['Florida'])\n",
    "print(\" mean =\", (s_mean2))\n",
    "s_sd2=st.stdev(market_df1['Florida'])\n",
    "print(\" std =\", (s_sd2))\n",
    "s_v2=0.015\n",
    "print(\"Variance is = \", s_v2)\n",
    "\n",
    "n2=len(market_df1['Florida'])\n",
    "print(n2)"
   ]
  },
  {
   "cell_type": "code",
   "execution_count": 27,
   "id": "d5090ced",
   "metadata": {},
   "outputs": [
    {
     "name": "stdout",
     "output_type": "stream",
     "text": [
      "The Z statistics is  2.7413384193834984\n"
     ]
    }
   ],
   "source": [
    "alpha = .01\n",
    "z_statistics=((s_mean1-s_mean2))/(math.sqrt(s_v1/n1 + s_v2/n2))\n",
    "print(\"The Z statistics is \", z_statistics)"
   ]
  },
  {
   "cell_type": "code",
   "execution_count": 29,
   "id": "9c6fa6b9",
   "metadata": {},
   "outputs": [
    {
     "name": "stdout",
     "output_type": "stream",
     "text": [
      "The p value is  0.006118944821314574\n"
     ]
    }
   ],
   "source": [
    "p_value=norm.sf(abs(z_statistics))*2\n",
    "print(\"The p value is \", p_value)"
   ]
  },
  {
   "cell_type": "code",
   "execution_count": 30,
   "id": "e01f0d2a",
   "metadata": {},
   "outputs": [
    {
     "name": "stdout",
     "output_type": "stream",
     "text": [
      "The z critical value is  2.5758293035489004\n"
     ]
    }
   ],
   "source": [
    "z_critical=norm.ppf(1-alpha/2)\n",
    "print(\"The z critical value is \",z_critical)"
   ]
  },
  {
   "cell_type": "code",
   "execution_count": 32,
   "id": "f95351cf",
   "metadata": {},
   "outputs": [
    {
     "name": "stdout",
     "output_type": "stream",
     "text": [
      "False\n",
      "False\n"
     ]
    }
   ],
   "source": [
    "print(p_value<alpha/2)\n",
    "print(z_statistics<z_critical)"
   ]
  },
  {
   "cell_type": "markdown",
   "id": "c6490d3b",
   "metadata": {},
   "source": [
    "\n",
    "Z_statistics is greater than Z_critical which leads to rejection of null hyphothesis"
   ]
  }
 ],
 "metadata": {
  "kernelspec": {
   "display_name": "Python 3 (ipykernel)",
   "language": "python",
   "name": "python3"
  },
  "language_info": {
   "codemirror_mode": {
    "name": "ipython",
    "version": 3
   },
   "file_extension": ".py",
   "mimetype": "text/x-python",
   "name": "python",
   "nbconvert_exporter": "python",
   "pygments_lexer": "ipython3",
   "version": "3.9.7"
  }
 },
 "nbformat": 4,
 "nbformat_minor": 5
}
