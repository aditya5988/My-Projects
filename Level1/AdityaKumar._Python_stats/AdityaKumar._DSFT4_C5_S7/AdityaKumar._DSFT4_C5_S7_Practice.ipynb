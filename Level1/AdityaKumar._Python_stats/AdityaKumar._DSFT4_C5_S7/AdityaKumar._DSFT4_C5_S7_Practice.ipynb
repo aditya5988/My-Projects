{
 "cells": [
  {
   "cell_type": "code",
   "execution_count": 94,
   "id": "36994c9e",
   "metadata": {},
   "outputs": [],
   "source": [
    "# Task 1\n",
    "\n",
    "import numpy as np\n",
    "import math\n",
    "from scipy.stats import norm\n",
    "import statistics as st\n",
    "import matplotlib.pyplot as plt"
   ]
  },
  {
   "cell_type": "code",
   "execution_count": 95,
   "id": "76153322",
   "metadata": {},
   "outputs": [],
   "source": [
    "s=[61, 93, 75, 67, 84, 95]"
   ]
  },
  {
   "cell_type": "code",
   "execution_count": 96,
   "id": "22e70895",
   "metadata": {},
   "outputs": [
    {
     "name": "stdout",
     "output_type": "stream",
     "text": [
      "79.16666666666667\n",
      "6\n",
      "13.862419221285535\n"
     ]
    }
   ],
   "source": [
    "s_mean=st.mean(s)\n",
    "print(s_mean)\n",
    "p_mean=71\n",
    "n=len(s)\n",
    "print(n)\n",
    "s_sd=st.stdev(s)\n",
    "print(s_sd)\n",
    "alpha=.05   # significance level\n",
    "dof=n-1\n"
   ]
  },
  {
   "cell_type": "markdown",
   "id": "69f13b85",
   "metadata": {},
   "source": [
    "Establish the null and alternate hypothesis\n",
    "\n",
    "H0<=71 Null Hypothesis\n",
    "Ha>71  Alternate Hypothesis"
   ]
  },
  {
   "cell_type": "code",
   "execution_count": 97,
   "id": "cc1c5fe7",
   "metadata": {},
   "outputs": [
    {
     "name": "stdout",
     "output_type": "stream",
     "text": [
      "The t-statistics is  1.443050156931714\n",
      "The t-critical value is 3.0400360154599455\n"
     ]
    }
   ],
   "source": [
    "\n",
    "norm_statistics = (s_mean - p_mean) / (s_sd/math.sqrt(n)) \n",
    "print(\"The t-statistics is \", norm_statistics)\n",
    "\n",
    "norm_critical = norm.ppf(alpha/2, dof)\n",
    "print(\"The t-critical value is \"+str(norm_critical))"
   ]
  },
  {
   "cell_type": "code",
   "execution_count": 117,
   "id": "e02dccd3",
   "metadata": {},
   "outputs": [
    {
     "data": {
      "image/png": "[encoded data removed]",
      "text/plain": [
       "<Figure size 432x288 with 1 Axes>"
      ]
     },
     "metadata": {
      "needs_background": "light"
     },
     "output_type": "display_data"
    }
   ],
   "source": [
    "upper=s_mean+4*s_sd\n",
    "lower=s_mean-4*s_sd\n",
    "\n",
    "x=np.arange(-4,4,.05)\n",
    "tvals5=t.pdf(x,5)\n",
    "plt.plot(x,tvals5,color='blue')\n",
    "plt.legend(['dof=5'])\n",
    "plt.show()\n"
   ]
  },
  {
   "cell_type": "markdown",
   "id": "32041eae",
   "metadata": {},
   "source": [
    "Reach a statistical conclusion\n",
    "As per the decision rule:\n",
    "\n",
    "i. If -t-critical > t-statistics > +t-critical : Rejection of Null Hypothesis(H0)\n",
    "\n",
    "In our study,\n",
    "\n",
    "t_statistics=1.44 < t-critical=3.040, which leads to acceptance of Null Hypothesis.\n",
    "\n",
    "Make a business decision\n",
    "Assumption:\n",
    "\n",
    "1) Sample size less than 30\n",
    "\n",
    "2) The sample mean does not follow a normal distribution but a T distribution."
   ]
  },
  {
   "cell_type": "code",
   "execution_count": 99,
   "id": "db9c3649",
   "metadata": {},
   "outputs": [],
   "source": [
    "# Task 2"
   ]
  },
  {
   "cell_type": "markdown",
   "id": "41afc4cb",
   "metadata": {},
   "source": [
    "Establish the null and alternate hypothesis\n",
    "\n",
    "H0: the difference between two sample means is zero.\n",
    "\n",
    "Ha: the difference between the two sample means is not equal to zero"
   ]
  },
  {
   "cell_type": "code",
   "execution_count": 100,
   "id": "43ae29ae",
   "metadata": {},
   "outputs": [
    {
     "name": "stdout",
     "output_type": "stream",
     "text": [
      "Sample mean of machine1 = 4.029999999999999\n",
      "Sample mean of machine2 = 4.001666666666667\n",
      "Sample variance of machine1 = 0.00033333333333333685\n",
      "Sample variance of machine2 = 0.00013666666666666084\n",
      "Sample size of machine1 = 4\n",
      "Sample size of machine2 = 6\n",
      "Degrees of freedom = 8\n"
     ]
    }
   ],
   "source": [
    "import statistics as st\n",
    "machine1=[4.05, 4.01, 4.04, 4.02]\n",
    "machine2=[4.02, 3.99, 4.01, 3.99, 4.00, 4.00]\n",
    "x1=st.mean(machine1)\n",
    "x2=st.mean(machine2)\n",
    "v1=(st.stdev(machine1))**2\n",
    "v2=(st.stdev(machine2))**2\n",
    "n1=len(machine1)\n",
    "n2=len(machine2)\n",
    "df= n1+n2-2\n",
    "alpha=0.01\n",
    "ad=(1-alpha)/2\n",
    "print(\"Sample mean of machine1 =\",x1)\n",
    "print(\"Sample mean of machine2 =\",x2)\n",
    "print(\"Sample variance of machine1 =\",v1)\n",
    "print(\"Sample variance of machine2 =\",v2)\n",
    "print(\"Sample size of machine1 =\",n1)\n",
    "print(\"Sample size of machine2 =\",n2)\n",
    "print('Degrees of freedom =',df)"
   ]
  },
  {
   "cell_type": "code",
   "execution_count": 101,
   "id": "bbbe42d7",
   "metadata": {},
   "outputs": [
    {
     "name": "stdout",
     "output_type": "stream",
     "text": [
      "t-statistic = 1.0698385183968115\n",
      "t-critical = 7.987466530491931\n"
     ]
    }
   ],
   "source": [
    "import math\n",
    "from scipy.stats import t\n",
    "diff = abs(x1-x2)\n",
    "qual = math.sqrt(v1*(n1-1) + v2*(n2-1))*math.sqrt(1/n1 + 1/n2)\n",
    "t_statistic=diff/qual\n",
    "print('t-statistic =',t_statistic)\n",
    "\n",
    "t_critical = norm.ppf(ad, df)\n",
    "print('t-critical =',t_critical)\n"
   ]
  },
  {
   "cell_type": "code",
   "execution_count": 102,
   "id": "07db3ac0",
   "metadata": {},
   "outputs": [
    {
     "data": {
      "image/png": "[encoded data removed]",
      "text/plain": [
       "<Figure size 720x504 with 1 Axes>"
      ]
     },
     "metadata": {
      "needs_background": "light"
     },
     "output_type": "display_data"
    }
   ],
   "source": [
    "fig = plt.figure(figsize =(10, 7))\n",
    "#ig = plt.figure(figsize =(10, 7))\n",
    "ax = fig.add_axes([0, 0, 1, 1])\n",
    "data=[machine1, machine2]\n",
    "# Creating plot\n",
    "plt.boxplot(data, vert=0)\n",
    "ax.set_yticklabels(['Machine-1', 'Machine-2'])\n",
    "# show plot\n",
    "plt.show()"
   ]
  },
  {
   "cell_type": "code",
   "execution_count": 118,
   "id": "954a1ea1",
   "metadata": {},
   "outputs": [
    {
     "data": {
      "image/png": "[encoded data removed]",
      "text/plain": [
       "<Figure size 432x288 with 1 Axes>"
      ]
     },
     "metadata": {
      "needs_background": "light"
     },
     "output_type": "display_data"
    }
   ],
   "source": [
    "\n",
    "\n",
    "x=np.arange(-4,4,.05)\n",
    "tvals8=t.pdf(x,8)\n",
    "plt.plot(x,tvals8,color='red')\n",
    "plt.legend(['dof=8'])\n",
    "plt.show()\n"
   ]
  },
  {
   "cell_type": "markdown",
   "id": "d3d0be97",
   "metadata": {},
   "source": [
    "Reach a statistical conclusion\n",
    "\n",
    "As per the decision rule:\n",
    "\n",
    "i. If -t-critical > t-statistics > +t-critical : Rejection of Null Hypothesis(H0)\n",
    "\n",
    "In our study,\n",
    "\n",
    "t_statistics=1.069 < t-critical=10.326, which leads to acceptance of Null Hypothesis.\n",
    "\n",
    "Make the business decision\n",
    "There is no significant difference in the mean fill of the two machines"
   ]
  },
  {
   "cell_type": "code",
   "execution_count": 103,
   "id": "47f7cf50",
   "metadata": {},
   "outputs": [],
   "source": [
    "# Task 3"
   ]
  },
  {
   "cell_type": "markdown",
   "id": "299f9807",
   "metadata": {},
   "source": [
    "H0: the average fill of gallon jugs in four machines is equal.\n",
    "\n",
    "Ha: at least one of the fill of gallon jugs of one machine is different from others."
   ]
  },
  {
   "cell_type": "code",
   "execution_count": 104,
   "id": "c56b16fd",
   "metadata": {},
   "outputs": [],
   "source": [
    "machine1=[4.05, 4.01, 4.04, 4.02]\n",
    "machine2=[4.02, 3.99, 4.01, 3.99, 4.00, 4.00]\n",
    "machine3=[4.00, 3.97, 3.95, 3.98, 3.97]\n",
    "machine4=[4.01, 4.00, 3.99, 4.02]\n"
   ]
  },
  {
   "cell_type": "code",
   "execution_count": 105,
   "id": "9beade74",
   "metadata": {},
   "outputs": [
    {
     "name": "stdout",
     "output_type": "stream",
     "text": [
      "Total fill from machine1 = 16.119999999999997\n",
      "Total fill from machine2 = 24.009999999999998\n",
      "Total fill from machine3 = 19.87\n",
      "Total fill from machine4 = 16.02\n",
      "Total fill from all four machines = 76.02\n"
     ]
    }
   ],
   "source": [
    "M1=sum(machine1)\n",
    "M2=sum(machine2)\n",
    "M3=sum(machine3)\n",
    "M4=sum(machine4)\n",
    "\n",
    "M=M1+M2+M3+M4\n",
    "print('Total fill from machine1 =',M1 )\n",
    "print('Total fill from machine2 =',M2 )\n",
    "print('Total fill from machine3 =',M3 )\n",
    "print('Total fill from machine4 =',M4 )\n",
    "\n",
    "print('Total fill from all four machines =',M )"
   ]
  },
  {
   "cell_type": "code",
   "execution_count": 106,
   "id": "db40d6e5",
   "metadata": {},
   "outputs": [
    {
     "name": "stdout",
     "output_type": "stream",
     "text": [
      "Size of machine1 = 4\n",
      "Size of machine2 = 6\n",
      "Size of machine3 = 5\n",
      "Size of machine4 = 4\n",
      "Size of all machines = 19\n"
     ]
    }
   ],
   "source": [
    "n1=len(machine1)\n",
    "n2=len(machine2)\n",
    "n3=len(machine3)\n",
    "n4=len(machine4)\n",
    "n=n1+n2+n3+n4\n",
    "print('Size of machine1 =',n1)\n",
    "print('Size of machine2 =',n2)\n",
    "print('Size of machine3 =',n3)\n",
    "print('Size of machine4 =',n4)\n",
    "print('Size of all machines =',n)\n"
   ]
  },
  {
   "cell_type": "code",
   "execution_count": 107,
   "id": "198bbb2b",
   "metadata": {},
   "outputs": [
    {
     "name": "stdout",
     "output_type": "stream",
     "text": [
      "Mean of the machine 1 = 4.029999999999999\n",
      "Mean of the machine 2 = 4.001666666666667\n",
      "Mean of the machine 3 = 3.974\n",
      "Mean of the machine 4 = 4.005\n",
      "Mean of the all machines = 4.002666666666666\n"
     ]
    }
   ],
   "source": [
    "import statistics as st\n",
    "\n",
    "x1=st.mean(machine1)\n",
    "x2=st.mean(machine2)\n",
    "x3=st.mean(machine3)\n",
    "x4=st.mean(machine4)\n",
    "\n",
    "x=(x1+x2+x3+x4)/4\n",
    "print('Mean of the machine 1 =',x1)\n",
    "print('Mean of the machine 2 =',x2)\n",
    "print('Mean of the machine 3 =',x3)\n",
    "print('Mean of the machine 4 =',x4)\n",
    "\n",
    "print('Mean of the all machines =',x)"
   ]
  },
  {
   "cell_type": "code",
   "execution_count": 108,
   "id": "a09d4792",
   "metadata": {},
   "outputs": [
    {
     "name": "stdout",
     "output_type": "stream",
     "text": [
      "SSC = 0.007125111111110891\n"
     ]
    }
   ],
   "source": [
    "# Calculate the sum of squares columns (SSC)\n",
    "SSC=n1*(x1-x)**2 + n2*(x2-x)**2 + n3*(x3-x)**2 + n4*(x4-x)**2\n",
    "print(\"SSC =\",SSC)"
   ]
  },
  {
   "cell_type": "code",
   "execution_count": 109,
   "id": "31131cf4",
   "metadata": {},
   "outputs": [
    {
     "name": "stdout",
     "output_type": "stream",
     "text": [
      "SSE = 0.0035033333333332815\n"
     ]
    }
   ],
   "source": [
    "# Calculate the sum of squares errors (SSE)\n",
    "SSE=0\n",
    "for i in machine1:\n",
    "    SSE=SSE+(i-x1)**2\n",
    "    \n",
    "for i in machine2:\n",
    "    SSE=SSE+(i-x2)**2\n",
    "    \n",
    "for i in machine3:\n",
    "    SSE=SSE+(i-x3)**2\n",
    "\n",
    "for i in machine4:\n",
    "    SSE=SSE+(i-x4)**2\n",
    "    \n",
    "print(\"SSE =\",SSE)"
   ]
  },
  {
   "cell_type": "code",
   "execution_count": 110,
   "id": "a25bf6c6",
   "metadata": {},
   "outputs": [
    {
     "name": "stdout",
     "output_type": "stream",
     "text": [
      "SST = 0.010628444444444302\n"
     ]
    }
   ],
   "source": [
    "# Calculate the total sum of squares (SST)\n",
    "SST=0\n",
    "for i in machine1:\n",
    "    SST=SST+(i-x)**2\n",
    "    \n",
    "for i in machine2:\n",
    "    SST=SST+(i-x)**2\n",
    "    \n",
    "for i in machine3:\n",
    "    SST=SST+(i-x)**2\n",
    "\n",
    "for i in machine4:\n",
    "    SST=SST+(i-x)**2\n",
    "    \n",
    "print(\"SST =\",SST)"
   ]
  },
  {
   "cell_type": "code",
   "execution_count": 111,
   "id": "ecd4dc4f",
   "metadata": {},
   "outputs": [
    {
     "name": "stdout",
     "output_type": "stream",
     "text": [
      "dfc = 3\n",
      "dfe = 15\n",
      "dft = 18\n"
     ]
    }
   ],
   "source": [
    "# Calculate column, error, and the total degree of freedoms (dfc,dfe,dft)\n",
    "\n",
    "dfc= 4-1\n",
    "dfe= 19-4\n",
    "dft= 19-1\n",
    "print('dfc =',dfc)\n",
    "print('dfe =',dfe)\n",
    "print('dft =',dft)"
   ]
  },
  {
   "cell_type": "code",
   "execution_count": 112,
   "id": "12d4e631",
   "metadata": {},
   "outputs": [
    {
     "name": "stdout",
     "output_type": "stream",
     "text": [
      "MSC = 0.0023750370370369638\n"
     ]
    }
   ],
   "source": [
    "# Calculate MSC\n",
    "MSC=SSC/dfc\n",
    "print('MSC =',MSC)"
   ]
  },
  {
   "cell_type": "code",
   "execution_count": 113,
   "id": "652c3733",
   "metadata": {},
   "outputs": [
    {
     "name": "stdout",
     "output_type": "stream",
     "text": [
      "MSE = 0.0002335555555555521\n"
     ]
    }
   ],
   "source": [
    "# Calculate MSE\n",
    "MSE=SSE/dfe\n",
    "print('MSE =',MSE)"
   ]
  },
  {
   "cell_type": "code",
   "execution_count": 114,
   "id": "5321c119",
   "metadata": {},
   "outputs": [
    {
     "name": "stdout",
     "output_type": "stream",
     "text": [
      "F-statistic = 10.169045353631299\n"
     ]
    }
   ],
   "source": [
    "# Calculate F-statistic\n",
    "f_statistic=MSC/MSE\n",
    "print('F-statistic =',f_statistic)"
   ]
  },
  {
   "cell_type": "code",
   "execution_count": 115,
   "id": "1ea26153",
   "metadata": {},
   "outputs": [
    {
     "name": "stdout",
     "output_type": "stream",
     "text": [
      "F-critical = 5.416964857818421\n"
     ]
    }
   ],
   "source": [
    "# Calculate F-critical\n",
    "from scipy.stats import f\n",
    "\n",
    "f_critical=f.ppf(1-0.01, dfc, dfe)\n",
    "print('F-critical =',f_critical)"
   ]
  },
  {
   "cell_type": "code",
   "execution_count": 116,
   "id": "6bad119c",
   "metadata": {},
   "outputs": [
    {
     "data": {
      "image/png": "[encoded data removed]",
      "text/plain": [
       "<Figure size 432x288 with 1 Axes>"
      ]
     },
     "metadata": {
      "needs_background": "light"
     },
     "output_type": "display_data"
    }
   ],
   "source": [
    "import numpy as np\n",
    "from scipy.stats import f, norm\n",
    "import matplotlib.pyplot as plt\n",
    "\n",
    "\n",
    "v1 = f(dfn=dfc, dfd=dfe, loc=0, scale=1)\n",
    "x = np.linspace(v1.ppf(0.01), v1.ppf(1-0.01), 100)\n",
    "y = v1.pdf(x) \n",
    "\n",
    "plt.xlim(0,7)\n",
    "plt.plot(x,y, 'b-')\n",
    "plt.show()"
   ]
  },
  {
   "cell_type": "markdown",
   "id": "f67c6826",
   "metadata": {},
   "source": [
    "Reach a statistical conclusion\n",
    "As per the decision rule:\n",
    "\n",
    "i. . If F-statistic > F-critical : Rejection of Null Hypothesis(H0)\n",
    "\n",
    "In our study,\n",
    "\n",
    "F-statistic=10.169 > F-critical=5.416 , which leads to rejection of Null Hypothesis.\n",
    "\n",
    "Make a business decision\n",
    "There is a significant difference in the mean fill of gallon jugs from the four machines."
   ]
  },
  {
   "cell_type": "code",
   "execution_count": null,
   "id": "79ef5841",
   "metadata": {},
   "outputs": [],
   "source": []
  }
 ],
 "metadata": {
  "kernelspec": {
   "display_name": "Python 3 (ipykernel)",
   "language": "python",
   "name": "python3"
  },
  "language_info": {
   "codemirror_mode": {
    "name": "ipython",
    "version": 3
   },
   "file_extension": ".py",
   "mimetype": "text/x-python",
   "name": "python",
   "nbconvert_exporter": "python",
   "pygments_lexer": "ipython3",
   "version": "3.9.7"
  }
 },
 "nbformat": 4,
 "nbformat_minor": 5
}
