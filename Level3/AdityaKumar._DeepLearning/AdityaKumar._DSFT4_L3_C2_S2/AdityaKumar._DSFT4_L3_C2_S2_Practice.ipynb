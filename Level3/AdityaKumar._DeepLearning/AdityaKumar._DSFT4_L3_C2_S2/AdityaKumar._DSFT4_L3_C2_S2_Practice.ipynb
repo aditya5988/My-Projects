{
  "nbformat": 4,
  "nbformat_minor": 0,
  "metadata": {
    "colab": {
      "name": "C2_S2_Practice.ipynb",
      "provenance": [],
      "collapsed_sections": []
    },
    "kernelspec": {
      "name": "python3",
      "display_name": "Python 3"
    },
    "language_info": {
      "name": "python"
    }
  },
  "cells": [
    {
      "cell_type": "code",
      "execution_count": 1,
      "metadata": {
        "id": "Pmw4MthZLb0S"
      },
      "outputs": [],
      "source": [
        "import tensorflow as tf\n",
        "from tensorflow import keras\n",
        "import numpy as np"
      ]
    },
    {
      "cell_type": "code",
      "source": [
        "#Task 1"
      ],
      "metadata": {
        "id": "922sUpN5AQoi"
      },
      "execution_count": 2,
      "outputs": []
    },
    {
      "cell_type": "code",
      "source": [
        "tf.strings.join(['5988','Aditya','AK@gmail.com','123457856','Bangalore','Male','03/08/1999'],separator=\" \")"
      ],
      "metadata": {
        "colab": {
          "base_uri": "https://localhost:8080/"
        },
        "id": "KdWps5M2gASX",
        "outputId": "522dc2ce-6c9c-43c0-f98d-73189e426bd0"
      },
      "execution_count": 3,
      "outputs": [
        {
          "output_type": "execute_result",
          "data": {
            "text/plain": [
              "<tf.Tensor: shape=(), dtype=string, numpy=b'5988 Aditya AK@gmail.com 123457856 Bangalore Male 03/08/1999'>"
            ]
          },
          "metadata": {},
          "execution_count": 3
        }
      ]
    },
    {
      "cell_type": "code",
      "source": [
        "#Task 2"
      ],
      "metadata": {
        "id": "lVUYwTD4PiLT"
      },
      "execution_count": 4,
      "outputs": []
    },
    {
      "cell_type": "code",
      "source": [
        "matrix =tf.constant([['Indigo','violet','programmer'], ['computer','training', 'kitchen'], ['array', 'instagram', 'bluetooth']])"
      ],
      "metadata": {
        "id": "gdFecr9oZx0s"
      },
      "execution_count": 5,
      "outputs": []
    },
    {
      "cell_type": "code",
      "source": [
        "start_pos = tf.constant(np.random.randint(1,5,9).reshape(3,3))\n",
        "num_of_chars = tf.constant(np.random.randint(1,5,9).reshape(3,3))\n",
        "tf.strings.substr(matrix,start_pos,num_of_chars )"
      ],
      "metadata": {
        "colab": {
          "base_uri": "https://localhost:8080/"
        },
        "id": "HYwN0OpAmRnU",
        "outputId": "c4fe736a-422b-4d22-c8cf-ed84a8ca8042"
      },
      "execution_count": 6,
      "outputs": [
        {
          "output_type": "execute_result",
          "data": {
            "text/plain": [
              "<tf.Tensor: shape=(3, 3), dtype=string, numpy=\n",
              "array([[b'igo', b'l', b'gram'],\n",
              "       [b'u', b'inin', b'c'],\n",
              "       [b'r', b'agr', b'toot']], dtype=object)>"
            ]
          },
          "metadata": {},
          "execution_count": 6
        }
      ]
    },
    {
      "cell_type": "code",
      "source": [
        "#Task 3"
      ],
      "metadata": {
        "id": "tVDtCd4Ka9iN"
      },
      "execution_count": 7,
      "outputs": []
    },
    {
      "cell_type": "code",
      "source": [
        "product_price=tf.constant(1895.12)"
      ],
      "metadata": {
        "id": "1gNu_jAsa_pM"
      },
      "execution_count": 8,
      "outputs": []
    },
    {
      "cell_type": "code",
      "source": [
        "print(product_price)"
      ],
      "metadata": {
        "colab": {
          "base_uri": "https://localhost:8080/"
        },
        "id": "_-8-sn8Kbak7",
        "outputId": "ba3ec995-5c9e-48ca-ce1f-c61b37cea98c"
      },
      "execution_count": 9,
      "outputs": [
        {
          "output_type": "stream",
          "name": "stdout",
          "text": [
            "tf.Tensor(1895.12, shape=(), dtype=float32)\n"
          ]
        }
      ]
    },
    {
      "cell_type": "code",
      "source": [
        "#data type float16\n",
        "product_price=tf.constant(1895.2,tf.float16)"
      ],
      "metadata": {
        "id": "y93BNVW2bfAM"
      },
      "execution_count": 10,
      "outputs": []
    },
    {
      "cell_type": "code",
      "source": [
        "print (product_price)"
      ],
      "metadata": {
        "colab": {
          "base_uri": "https://localhost:8080/"
        },
        "id": "WRMlGCvmbwOs",
        "outputId": "61d71438-6bce-4e72-c347-8dee75bcf3c3"
      },
      "execution_count": 11,
      "outputs": [
        {
          "output_type": "stream",
          "name": "stdout",
          "text": [
            "tf.Tensor(1895.0, shape=(), dtype=float16)\n"
          ]
        }
      ]
    },
    {
      "cell_type": "code",
      "source": [
        "#Task 4"
      ],
      "metadata": {
        "id": "QPWmMixYMQJk"
      },
      "execution_count": 12,
      "outputs": []
    },
    {
      "cell_type": "code",
      "source": [
        "marks=tf.constant(np.random.randint(1,100,15).reshape(5,3))\n",
        "marks=tf.cast(marks,tf.int16)\n",
        "marks1=tf.Variable(marks)\n",
        "print(\"Values of matrix before updating:\", marks1)\n",
        "upd_marks=np.random.randint(1,100,15).reshape(5,3)\n",
        "marks1.assign(upd_marks)\n",
        "print(\"Values of matrix after updating:\", marks1)\n"
      ],
      "metadata": {
        "id": "lN221sCeNZjs",
        "colab": {
          "base_uri": "https://localhost:8080/"
        },
        "outputId": "3a7880ba-8c78-473e-9021-ee58fac5930a"
      },
      "execution_count": 13,
      "outputs": [
        {
          "output_type": "stream",
          "name": "stdout",
          "text": [
            "Values of matrix before updating: <tf.Variable 'Variable:0' shape=(5, 3) dtype=int16, numpy=\n",
            "array([[99, 59, 28],\n",
            "       [49, 59, 75],\n",
            "       [ 4, 29, 80],\n",
            "       [65,  6, 17],\n",
            "       [56, 12, 72]], dtype=int16)>\n",
            "Values of matrix after updating: <tf.Variable 'Variable:0' shape=(5, 3) dtype=int16, numpy=\n",
            "array([[74, 49, 99],\n",
            "       [80, 23, 53],\n",
            "       [41, 55,  3],\n",
            "       [54, 49, 16],\n",
            "       [97, 12, 75]], dtype=int16)>\n"
          ]
        }
      ]
    },
    {
      "cell_type": "code",
      "source": [
        "#Task 5"
      ],
      "metadata": {
        "id": "S8he9CkIAMfy"
      },
      "execution_count": 14,
      "outputs": []
    },
    {
      "cell_type": "code",
      "source": [
        "#Task 6"
      ],
      "metadata": {
        "id": "A3rDc7ZoA3Sx"
      },
      "execution_count": 15,
      "outputs": []
    },
    {
      "cell_type": "code",
      "source": [
        "customer = {'Name':['Aditya', 'Sonya', 'Varun'], 'age':[23, 21, 35],  'gender':['F', 'M', 'F']}\n",
        "print(customer)"
      ],
      "metadata": {
        "colab": {
          "base_uri": "https://localhost:8080/"
        },
        "id": "7uWcmorSBDMB",
        "outputId": "e2a9d730-7745-42be-9c09-60c89eaff652"
      },
      "execution_count": 16,
      "outputs": [
        {
          "output_type": "stream",
          "name": "stdout",
          "text": [
            "{'Name': ['Aditya', 'Sonya', 'Varun'], 'age': [23, 21, 35], 'gender': ['F', 'M', 'F']}\n"
          ]
        }
      ]
    },
    {
      "cell_type": "code",
      "source": [
        "t_currency = {'USA':'Dollar', 'China':'Yuan','UK':'Pound'}\n",
        "print(t_currency)"
      ],
      "metadata": {
        "colab": {
          "base_uri": "https://localhost:8080/"
        },
        "id": "V4AIND9XBaRi",
        "outputId": "cc50b66f-14c7-4253-8bcb-e752bc22615f"
      },
      "execution_count": 17,
      "outputs": [
        {
          "output_type": "stream",
          "name": "stdout",
          "text": [
            "{'USA': 'Dollar', 'China': 'Yuan', 'UK': 'Pound'}\n"
          ]
        }
      ]
    },
    {
      "cell_type": "code",
      "source": [
        "t_keys = tf.convert_to_tensor(list(t_currency.keys()))\n",
        "print(t_keys)\n",
        "t_values = tf.convert_to_tensor(list(t_currency.values()))\n",
        "print(t_values)"
      ],
      "metadata": {
        "colab": {
          "base_uri": "https://localhost:8080/"
        },
        "id": "kt1BZsbqBcgy",
        "outputId": "12473b94-5cce-4294-dde8-6186d8e36210"
      },
      "execution_count": 18,
      "outputs": [
        {
          "output_type": "stream",
          "name": "stdout",
          "text": [
            "tf.Tensor([b'USA' b'China' b'UK'], shape=(3,), dtype=string)\n",
            "tf.Tensor([b'Dollar' b'Yuan' b'Pound'], shape=(3,), dtype=string)\n"
          ]
        }
      ]
    },
    {
      "cell_type": "code",
      "source": [
        "#Task 7"
      ],
      "metadata": {
        "id": "bfzphM6BBe8C"
      },
      "execution_count": 19,
      "outputs": []
    },
    {
      "cell_type": "code",
      "source": [
        "unit=tf.constant([10,15,20,25])\n",
        "unit"
      ],
      "metadata": {
        "colab": {
          "base_uri": "https://localhost:8080/"
        },
        "id": "BlzD4MFCBm0x",
        "outputId": "db073aa5-a845-43a7-c73f-4c8e7e9c09fa"
      },
      "execution_count": 20,
      "outputs": [
        {
          "output_type": "execute_result",
          "data": {
            "text/plain": [
              "<tf.Tensor: shape=(4,), dtype=int32, numpy=array([10, 15, 20, 25], dtype=int32)>"
            ]
          },
          "metadata": {},
          "execution_count": 20
        }
      ]
    },
    {
      "cell_type": "code",
      "source": [
        "unit_price=tf.constant([75,45,100,200])\n",
        "unit_price"
      ],
      "metadata": {
        "colab": {
          "base_uri": "https://localhost:8080/"
        },
        "id": "yjEwtHnkBq4B",
        "outputId": "9a39a470-3df0-41a6-c430-2c3145d593c8"
      },
      "execution_count": 21,
      "outputs": [
        {
          "output_type": "execute_result",
          "data": {
            "text/plain": [
              "<tf.Tensor: shape=(4,), dtype=int32, numpy=array([ 75,  45, 100, 200], dtype=int32)>"
            ]
          },
          "metadata": {},
          "execution_count": 21
        }
      ]
    },
    {
      "cell_type": "code",
      "source": [
        "grand_total=sum(unit*unit_price)\n",
        "print(\"Grand total of all the prices\",grand_total)"
      ],
      "metadata": {
        "colab": {
          "base_uri": "https://localhost:8080/"
        },
        "id": "oyNJSh0RBwNR",
        "outputId": "07ea97e6-0d22-481e-96d2-a4167ed20423"
      },
      "execution_count": 22,
      "outputs": [
        {
          "output_type": "stream",
          "name": "stdout",
          "text": [
            "Grand total of all the prices tf.Tensor(8425, shape=(), dtype=int32)\n"
          ]
        }
      ]
    },
    {
      "cell_type": "code",
      "source": [
        ""
      ],
      "metadata": {
        "id": "8Eu7Qc6QByKx"
      },
      "execution_count": 22,
      "outputs": []
    }
  ]
}